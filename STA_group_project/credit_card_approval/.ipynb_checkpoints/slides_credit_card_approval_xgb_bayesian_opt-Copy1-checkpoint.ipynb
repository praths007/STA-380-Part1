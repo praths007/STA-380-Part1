{
 "cells": [
  {
   "cell_type": "markdown",
   "metadata": {
    "id": "-1trqX6iNtet",
    "slideshow": {
     "slide_type": "slide"
    }
   },
   "source": [
    "# Credit Card Approval Prediction\n",
    "## STA group 6\n",
    "---\n",
    "> Given the data for application and credit history, classify a person as **good** or **bad**. A good person will be approved a credit card. A bad person will be denied the credit card.\n",
    "\n",
    ">**What do we want to answer** - How can the financial industry utilize machine learning to predict the probability of future defaults and credit card borrowings of clients?\n",
    "\n",
    "> Data set - [Credit Card Approval Dataset](https://www.kaggle.com/datasets/rikdifos/credit-card-approval-prediction?select=application_record.csv)\n",
    "\n",
    "\n"
   ]
  },
  {
   "cell_type": "markdown",
   "metadata": {
    "id": "vjsIP8hBPyzH",
    "slideshow": {
     "slide_type": "slide"
    }
   },
   "source": [
    "# Loading required libraries and reading data\n",
    "---\n",
    "* pandas used for data wrangling\n",
    "* bayes_opt, xgboost and scikit-learn used for modelling"
   ]
  },
  {
   "cell_type": "code",
   "execution_count": 60,
   "metadata": {
    "id": "_ZHgORFZ6lVp",
    "slideshow": {
     "slide_type": "subslide"
    }
   },
   "outputs": [],
   "source": [
    "# google colab drive mount\n",
    "# from google.colab import drive\n",
    "# drive.mount('/content/drive')\n",
    "\n",
    "# !pip install bayesian-optimization\n",
    "\n",
    "# importing required libraries\n",
    "import numpy as np\n",
    "import pandas as pd\n",
    "import seaborn as sns\n",
    "import matplotlib.pyplot as plt\n",
    "\n",
    "\n",
    "from sklearn.model_selection import train_test_split, cross_val_score, RepeatedStratifiedKFold, StratifiedKFold, GridSearchCV\n",
    "from sklearn.preprocessing import StandardScaler\n",
    "from sklearn.metrics import confusion_matrix, accuracy_score, precision_score, recall_score, f1_score, roc_auc_score, precision_recall_curve, plot_precision_recall_curve, PrecisionRecallDisplay\n",
    "\n",
    "import xgboost as xgb\n",
    "from xgboost import XGBClassifier\n",
    "from bayes_opt import BayesianOptimization\n",
    "\n",
    "from sklearn.tree import plot_tree, DecisionTreeClassifier\n",
    "\n",
    "import contextlib\n",
    "import warnings"
   ]
  },
  {
   "cell_type": "code",
   "execution_count": 24,
   "metadata": {
    "id": "5uhn34rI6lVq",
    "slideshow": {
     "slide_type": "subslide"
    }
   },
   "outputs": [],
   "source": [
    "# reading the dataset - app and credit files\n",
    "app = pd.read_csv(\"data/application_record.csv\")\n",
    "credit = pd.read_csv(\"data/credit_record.csv\")"
   ]
  },
  {
   "cell_type": "code",
   "execution_count": 25,
   "metadata": {
    "colab": {
     "base_uri": "https://localhost:8080/",
     "height": 243
    },
    "id": "qevX-6GG6lVr",
    "outputId": "0930aeb5-de25-4814-e856-181eeaacf16d",
    "slideshow": {
     "slide_type": "subslide"
    }
   },
   "outputs": [
    {
     "name": "stdout",
     "output_type": "stream",
     "text": [
      "(438557, 18)\n"
     ]
    },
    {
     "data": {
      "text/html": [
       "<div>\n",
       "<style scoped>\n",
       "    .dataframe tbody tr th:only-of-type {\n",
       "        vertical-align: middle;\n",
       "    }\n",
       "\n",
       "    .dataframe tbody tr th {\n",
       "        vertical-align: top;\n",
       "    }\n",
       "\n",
       "    .dataframe thead th {\n",
       "        text-align: right;\n",
       "    }\n",
       "</style>\n",
       "<table border=\"1\" class=\"dataframe\">\n",
       "  <thead>\n",
       "    <tr style=\"text-align: right;\">\n",
       "      <th></th>\n",
       "      <th>ID</th>\n",
       "      <th>CODE_GENDER</th>\n",
       "      <th>FLAG_OWN_CAR</th>\n",
       "      <th>FLAG_OWN_REALTY</th>\n",
       "      <th>CNT_CHILDREN</th>\n",
       "      <th>AMT_INCOME_TOTAL</th>\n",
       "      <th>NAME_INCOME_TYPE</th>\n",
       "      <th>NAME_EDUCATION_TYPE</th>\n",
       "      <th>NAME_FAMILY_STATUS</th>\n",
       "      <th>NAME_HOUSING_TYPE</th>\n",
       "      <th>DAYS_BIRTH</th>\n",
       "      <th>DAYS_EMPLOYED</th>\n",
       "      <th>FLAG_MOBIL</th>\n",
       "      <th>FLAG_WORK_PHONE</th>\n",
       "      <th>FLAG_PHONE</th>\n",
       "      <th>FLAG_EMAIL</th>\n",
       "      <th>OCCUPATION_TYPE</th>\n",
       "      <th>CNT_FAM_MEMBERS</th>\n",
       "    </tr>\n",
       "  </thead>\n",
       "  <tbody>\n",
       "    <tr>\n",
       "      <th>0</th>\n",
       "      <td>5008804</td>\n",
       "      <td>M</td>\n",
       "      <td>Y</td>\n",
       "      <td>Y</td>\n",
       "      <td>0</td>\n",
       "      <td>427500.0</td>\n",
       "      <td>Working</td>\n",
       "      <td>Higher education</td>\n",
       "      <td>Civil marriage</td>\n",
       "      <td>Rented apartment</td>\n",
       "      <td>-12005</td>\n",
       "      <td>-4542</td>\n",
       "      <td>1</td>\n",
       "      <td>1</td>\n",
       "      <td>0</td>\n",
       "      <td>0</td>\n",
       "      <td>NaN</td>\n",
       "      <td>2.0</td>\n",
       "    </tr>\n",
       "    <tr>\n",
       "      <th>1</th>\n",
       "      <td>5008805</td>\n",
       "      <td>M</td>\n",
       "      <td>Y</td>\n",
       "      <td>Y</td>\n",
       "      <td>0</td>\n",
       "      <td>427500.0</td>\n",
       "      <td>Working</td>\n",
       "      <td>Higher education</td>\n",
       "      <td>Civil marriage</td>\n",
       "      <td>Rented apartment</td>\n",
       "      <td>-12005</td>\n",
       "      <td>-4542</td>\n",
       "      <td>1</td>\n",
       "      <td>1</td>\n",
       "      <td>0</td>\n",
       "      <td>0</td>\n",
       "      <td>NaN</td>\n",
       "      <td>2.0</td>\n",
       "    </tr>\n",
       "    <tr>\n",
       "      <th>2</th>\n",
       "      <td>5008806</td>\n",
       "      <td>M</td>\n",
       "      <td>Y</td>\n",
       "      <td>Y</td>\n",
       "      <td>0</td>\n",
       "      <td>112500.0</td>\n",
       "      <td>Working</td>\n",
       "      <td>Secondary / secondary special</td>\n",
       "      <td>Married</td>\n",
       "      <td>House / apartment</td>\n",
       "      <td>-21474</td>\n",
       "      <td>-1134</td>\n",
       "      <td>1</td>\n",
       "      <td>0</td>\n",
       "      <td>0</td>\n",
       "      <td>0</td>\n",
       "      <td>Security staff</td>\n",
       "      <td>2.0</td>\n",
       "    </tr>\n",
       "  </tbody>\n",
       "</table>\n",
       "</div>"
      ],
      "text/plain": [
       "        ID CODE_GENDER FLAG_OWN_CAR FLAG_OWN_REALTY  CNT_CHILDREN  \\\n",
       "0  5008804           M            Y               Y             0   \n",
       "1  5008805           M            Y               Y             0   \n",
       "2  5008806           M            Y               Y             0   \n",
       "\n",
       "   AMT_INCOME_TOTAL NAME_INCOME_TYPE            NAME_EDUCATION_TYPE  \\\n",
       "0          427500.0          Working               Higher education   \n",
       "1          427500.0          Working               Higher education   \n",
       "2          112500.0          Working  Secondary / secondary special   \n",
       "\n",
       "  NAME_FAMILY_STATUS  NAME_HOUSING_TYPE  DAYS_BIRTH  DAYS_EMPLOYED  \\\n",
       "0     Civil marriage   Rented apartment      -12005          -4542   \n",
       "1     Civil marriage   Rented apartment      -12005          -4542   \n",
       "2            Married  House / apartment      -21474          -1134   \n",
       "\n",
       "   FLAG_MOBIL  FLAG_WORK_PHONE  FLAG_PHONE  FLAG_EMAIL OCCUPATION_TYPE  \\\n",
       "0           1                1           0           0             NaN   \n",
       "1           1                1           0           0             NaN   \n",
       "2           1                0           0           0  Security staff   \n",
       "\n",
       "   CNT_FAM_MEMBERS  \n",
       "0              2.0  \n",
       "1              2.0  \n",
       "2              2.0  "
      ]
     },
     "execution_count": 25,
     "metadata": {},
     "output_type": "execute_result"
    }
   ],
   "source": [
    "print(app.shape)\n",
    "app.head(3)"
   ]
  },
  {
   "cell_type": "markdown",
   "metadata": {
    "id": "fbYGm5_-Pq-I",
    "slideshow": {
     "slide_type": "subslide"
    }
   },
   "source": [
    "> Application data has ~400K rows and 18 columns. Columns are as follows:\n",
    "\n",
    "* **ID**\tClient number\t\n",
    "* **CODE_GENDER**\tGender\t\n",
    "* **FLAG_OWN_CAR**\tIs there a car\t\n",
    "* **FLAG_OWN_REALTY**\tIs there a property\t\n",
    "* **CNT_CHILDREN**\tNumber of children\t\n",
    "* **AMT_INCOME_TOTAL**\tAnnual income\t\n",
    "* **NAME_INCOME_TYPE**\tIncome category\t\n",
    "* **NAME_EDUCATION_TYPE**\tEducation level\t\n",
    "* **NAME_FAMILY_STATUS**\tMarital status\t\n",
    "* **NAME_HOUSING_TYPE**\tWay of living\t\n",
    "* **DAYS_BIRTH**\tBirthday. Count backwards from current day (0), -1 means yesterday\n",
    "* **DAYS_EMPLOYED**\tStart date of employment. Count backwards from current day(0). If positive, it means the person currently unemployed.\n",
    "\n",
    "* **FLAG_MOBIL**\tIs there a mobile phone\t\n",
    "* **FLAG_WORK_PHONE**\tIs there a work phone\t\n",
    "* **FLAG_PHONE**\tIs there a phone\t\n",
    "* **FLAG_EMAIL**\tIs there an email\t\n",
    "* **OCCUPATION_TYPE**\tOccupation\t\n",
    "* **CNT_FAM_MEMBERS**\tFamily size\n",
    "\n"
   ]
  },
  {
   "cell_type": "code",
   "execution_count": 26,
   "metadata": {
    "colab": {
     "base_uri": "https://localhost:8080/",
     "height": 224
    },
    "id": "LOZXBzNt6lVs",
    "outputId": "2535baa7-05b4-457a-e1e3-317e970e173d",
    "slideshow": {
     "slide_type": "subslide"
    }
   },
   "outputs": [
    {
     "name": "stdout",
     "output_type": "stream",
     "text": [
      "(1048575, 3)\n"
     ]
    },
    {
     "data": {
      "text/html": [
       "<div>\n",
       "<style scoped>\n",
       "    .dataframe tbody tr th:only-of-type {\n",
       "        vertical-align: middle;\n",
       "    }\n",
       "\n",
       "    .dataframe tbody tr th {\n",
       "        vertical-align: top;\n",
       "    }\n",
       "\n",
       "    .dataframe thead th {\n",
       "        text-align: right;\n",
       "    }\n",
       "</style>\n",
       "<table border=\"1\" class=\"dataframe\">\n",
       "  <thead>\n",
       "    <tr style=\"text-align: right;\">\n",
       "      <th></th>\n",
       "      <th>ID</th>\n",
       "      <th>MONTHS_BALANCE</th>\n",
       "      <th>STATUS</th>\n",
       "    </tr>\n",
       "  </thead>\n",
       "  <tbody>\n",
       "    <tr>\n",
       "      <th>0</th>\n",
       "      <td>5001711</td>\n",
       "      <td>0</td>\n",
       "      <td>X</td>\n",
       "    </tr>\n",
       "    <tr>\n",
       "      <th>1</th>\n",
       "      <td>5001711</td>\n",
       "      <td>-1</td>\n",
       "      <td>0</td>\n",
       "    </tr>\n",
       "    <tr>\n",
       "      <th>2</th>\n",
       "      <td>5001711</td>\n",
       "      <td>-2</td>\n",
       "      <td>0</td>\n",
       "    </tr>\n",
       "    <tr>\n",
       "      <th>3</th>\n",
       "      <td>5001711</td>\n",
       "      <td>-3</td>\n",
       "      <td>0</td>\n",
       "    </tr>\n",
       "    <tr>\n",
       "      <th>4</th>\n",
       "      <td>5001712</td>\n",
       "      <td>0</td>\n",
       "      <td>C</td>\n",
       "    </tr>\n",
       "  </tbody>\n",
       "</table>\n",
       "</div>"
      ],
      "text/plain": [
       "        ID  MONTHS_BALANCE STATUS\n",
       "0  5001711               0      X\n",
       "1  5001711              -1      0\n",
       "2  5001711              -2      0\n",
       "3  5001711              -3      0\n",
       "4  5001712               0      C"
      ]
     },
     "execution_count": 26,
     "metadata": {},
     "output_type": "execute_result"
    }
   ],
   "source": [
    "print(credit.shape)\n",
    "credit.head(5)"
   ]
  },
  {
   "cell_type": "markdown",
   "metadata": {
    "id": "YL03NbqiR0K4",
    "slideshow": {
     "slide_type": "subslide"
    }
   },
   "source": [
    "> Credit data has ~1M rows and 3 columns. Columns are as follows:\n",
    "\n",
    "* **ID\tClient number**\n",
    "\n",
    "* **MONTHS_BALANCE**\tRecord month\tThe month of the extracted data is the starting point, backwards, 0 is the current month, -1 is the previous month, and so on\n",
    "\n",
    "* **STATUS**\tStatus\t0: 1-29 days past due 1: 30-59 days past due 2: 60-89 days overdue 3: 90-119 days overdue 4: 120-149 days overdue 5: Overdue or bad debts, write-offs for more than 150 days C: paid off that month X: No loan for the month"
   ]
  },
  {
   "cell_type": "code",
   "execution_count": 27,
   "metadata": {
    "colab": {
     "base_uri": "https://localhost:8080/"
    },
    "id": "AyH9FzI26lVs",
    "outputId": "f4ce3ce4-f806-4ff9-e105-2acc9ef59e34",
    "slideshow": {
     "slide_type": "subslide"
    }
   },
   "outputs": [
    {
     "name": "stdout",
     "output_type": "stream",
     "text": [
      "(438557,) (438510,)\n",
      "(438510, 18)\n"
     ]
    }
   ],
   "source": [
    "# Removing columns with duplicate IDS\n",
    "# removed 438557 - 438510 (47 duplicates)\n",
    "print(app['ID'].shape, app['ID'].unique().shape)\n",
    "\n",
    "# Number of rows left after dropping duplicates\n",
    "app = app.drop_duplicates(subset=['ID'], keep='first')\n",
    "print(app.shape)"
   ]
  },
  {
   "cell_type": "markdown",
   "metadata": {
    "id": "TI3m9Uat6lVu",
    "slideshow": {
     "slide_type": "slide"
    }
   },
   "source": [
    "# Assigning labels\n",
    "---\n",
    "* Credit dataset has ***STATUS*** field that shows the credit history of customers for different months\n",
    "* There is a class imbalance because of a low proportion of ***bad*** customers\n",
    "* We assume that if the customer has payments overdue by more than 2 months or if they have defaulted they are a ***bad*** customer, if a customer has payments overdue by a month or if they have payed on time they are a ***good*** customer"
   ]
  },
  {
   "cell_type": "code",
   "execution_count": 28,
   "metadata": {
    "colab": {
     "base_uri": "https://localhost:8080/"
    },
    "id": "LWuCLPTn6lVw",
    "outputId": "47869abc-d5cb-437a-ca67-756fb51a4ae0",
    "slideshow": {
     "slide_type": "subslide"
    }
   },
   "outputs": [
    {
     "name": "stdout",
     "output_type": "stream",
     "text": [
      "initial values\n",
      " C    442031\n",
      "0    383120\n",
      "X    209230\n",
      "1     11090\n",
      "5      1693\n",
      "2       868\n",
      "3       320\n",
      "4       223\n",
      "Name: STATUS, dtype: int64\n",
      "\n",
      "masked for X and C\n",
      " -2    442031\n",
      "0     383120\n",
      "-1    209230\n",
      "1      11090\n",
      "5       1693\n",
      "2        868\n",
      "3        320\n",
      "4        223\n",
      "Name: STATUS, dtype: int64\n",
      "\n",
      "after assigning max values\n",
      " 0     769212\n",
      "1     120830\n",
      "-1    101523\n",
      "-2     34029\n",
      "2      11130\n",
      "5       6839\n",
      "3       3246\n",
      "4       1766\n",
      "Name: MAX_STATUS, dtype: int64\n"
     ]
    }
   ],
   "source": [
    "# needs to be done because X and C are characters\n",
    "def mask_X_C(row):\n",
    "    if row == 'X':\n",
    "        return '-1'\n",
    "    elif row == 'C':\n",
    "        return '-2'\n",
    "    else:\n",
    "        return row\n",
    "\n",
    "print(\"initial values\\n\", credit['STATUS'].value_counts())\n",
    "\n",
    "credit['STATUS'] = credit['STATUS'].map(mask_X_C)\n",
    "print(\"\\nmasked for X and C\\n\", credit['STATUS'].value_counts())\n",
    "\n",
    "# get max of STATUS and assign throughout\n",
    "credit['MAX_STATUS'] = credit.groupby('ID')['STATUS'].transform('max')\n",
    "\n",
    "print(\"\\nafter assigning max values\\n\", credit['MAX_STATUS'].value_counts())"
   ]
  },
  {
   "cell_type": "code",
   "execution_count": 29,
   "metadata": {
    "colab": {
     "base_uri": "https://localhost:8080/"
    },
    "id": "INa9ks7t6lVy",
    "outputId": "7814a529-25f5-4293-8604-4fe98e2fe6d8",
    "slideshow": {
     "slide_type": "subslide"
    }
   },
   "outputs": [
    {
     "name": "stdout",
     "output_type": "stream",
     "text": [
      "class imbalance\n"
     ]
    },
    {
     "data": {
      "text/plain": [
       "0    86.285101\n",
       "1    13.714899\n",
       "Name: label, dtype: float64"
      ]
     },
     "execution_count": 29,
     "metadata": {},
     "output_type": "execute_result"
    }
   ],
   "source": [
    "# 0 - good , 1 -bad\n",
    "def assign_labels(row):\n",
    "    if row == '-1':\n",
    "        return 0\n",
    "    elif row == '-2':\n",
    "        return 0\n",
    "    elif row == '0':\n",
    "        return 0\n",
    "    elif row == '1':\n",
    "        return 1\n",
    "    elif row == '2':\n",
    "        return 1\n",
    "    elif row == '3':\n",
    "        return 1\n",
    "    elif row == '4':\n",
    "        return 1\n",
    "    elif row == '5':\n",
    "        return 1\n",
    "\n",
    "credit['label'] = credit['MAX_STATUS'].map(assign_labels)\n",
    "\n",
    "#  class imbalance (previous was 98:2) - now the imbalance is 87:13\n",
    "print('class imbalance')\n",
    "credit['label'].value_counts() / credit['label'].value_counts().sum() * 100"
   ]
  },
  {
   "cell_type": "markdown",
   "metadata": {
    "id": "Ps-arK2t6lVz",
    "slideshow": {
     "slide_type": "slide"
    }
   },
   "source": [
    "###  Merging application and credit datasets, checking and treating NULL values\n",
    "---\n",
    "* Customer information from application data is merged with credit information\n",
    "* NULL values from the merged data are treated"
   ]
  },
  {
   "cell_type": "code",
   "execution_count": 30,
   "metadata": {
    "colab": {
     "base_uri": "https://localhost:8080/"
    },
    "id": "xupKB8OV6lV0",
    "outputId": "09765adc-0a52-477a-fcc9-86ba78f6dac3",
    "slideshow": {
     "slide_type": "subslide"
    }
   },
   "outputs": [
    {
     "name": "stdout",
     "output_type": "stream",
     "text": [
      "(438510,) (438510, 18)\n",
      "(45985,) (1048575, 5)\n",
      "(45985, 2)\n"
     ]
    }
   ],
   "source": [
    "# application data is unique\n",
    "print(app['ID'].unique().shape, app.shape)\n",
    "\n",
    "# credit data has a lot of duplicates\n",
    "print(credit['ID'].unique().shape ,credit.shape)\n",
    "\n",
    "# dropping duplicates from credit data (since we already use max in labels)\n",
    "credit_df = credit[['ID', 'label']].drop_duplicates()\n",
    "\n",
    "print(credit_df.shape)"
   ]
  },
  {
   "cell_type": "code",
   "execution_count": 31,
   "metadata": {
    "colab": {
     "base_uri": "https://localhost:8080/",
     "height": 309
    },
    "id": "Mj5YpNSP6lV1",
    "outputId": "483aa30d-7bd6-4867-f5b5-f497bb7bb270",
    "slideshow": {
     "slide_type": "subslide"
    }
   },
   "outputs": [
    {
     "name": "stdout",
     "output_type": "stream",
     "text": [
      "(36457, 19)\n",
      "(36457, 18)\n"
     ]
    },
    {
     "data": {
      "text/html": [
       "<div>\n",
       "<style scoped>\n",
       "    .dataframe tbody tr th:only-of-type {\n",
       "        vertical-align: middle;\n",
       "    }\n",
       "\n",
       "    .dataframe tbody tr th {\n",
       "        vertical-align: top;\n",
       "    }\n",
       "\n",
       "    .dataframe thead th {\n",
       "        text-align: right;\n",
       "    }\n",
       "</style>\n",
       "<table border=\"1\" class=\"dataframe\">\n",
       "  <thead>\n",
       "    <tr style=\"text-align: right;\">\n",
       "      <th></th>\n",
       "      <th>ID</th>\n",
       "      <th>CODE_GENDER</th>\n",
       "      <th>FLAG_OWN_CAR</th>\n",
       "      <th>FLAG_OWN_REALTY</th>\n",
       "      <th>CNT_CHILDREN</th>\n",
       "      <th>AMT_INCOME_TOTAL</th>\n",
       "      <th>NAME_INCOME_TYPE</th>\n",
       "      <th>NAME_EDUCATION_TYPE</th>\n",
       "      <th>NAME_FAMILY_STATUS</th>\n",
       "      <th>NAME_HOUSING_TYPE</th>\n",
       "      <th>DAYS_BIRTH</th>\n",
       "      <th>DAYS_EMPLOYED</th>\n",
       "      <th>FLAG_MOBIL</th>\n",
       "      <th>FLAG_WORK_PHONE</th>\n",
       "      <th>FLAG_PHONE</th>\n",
       "      <th>FLAG_EMAIL</th>\n",
       "      <th>OCCUPATION_TYPE</th>\n",
       "      <th>CNT_FAM_MEMBERS</th>\n",
       "      <th>label</th>\n",
       "    </tr>\n",
       "  </thead>\n",
       "  <tbody>\n",
       "    <tr>\n",
       "      <th>0</th>\n",
       "      <td>5008804</td>\n",
       "      <td>M</td>\n",
       "      <td>Y</td>\n",
       "      <td>Y</td>\n",
       "      <td>0</td>\n",
       "      <td>427500.0</td>\n",
       "      <td>Working</td>\n",
       "      <td>Higher education</td>\n",
       "      <td>Civil marriage</td>\n",
       "      <td>Rented apartment</td>\n",
       "      <td>-12005</td>\n",
       "      <td>-4542</td>\n",
       "      <td>1</td>\n",
       "      <td>1</td>\n",
       "      <td>0</td>\n",
       "      <td>0</td>\n",
       "      <td>NaN</td>\n",
       "      <td>2.0</td>\n",
       "      <td>1</td>\n",
       "    </tr>\n",
       "    <tr>\n",
       "      <th>1</th>\n",
       "      <td>5008805</td>\n",
       "      <td>M</td>\n",
       "      <td>Y</td>\n",
       "      <td>Y</td>\n",
       "      <td>0</td>\n",
       "      <td>427500.0</td>\n",
       "      <td>Working</td>\n",
       "      <td>Higher education</td>\n",
       "      <td>Civil marriage</td>\n",
       "      <td>Rented apartment</td>\n",
       "      <td>-12005</td>\n",
       "      <td>-4542</td>\n",
       "      <td>1</td>\n",
       "      <td>1</td>\n",
       "      <td>0</td>\n",
       "      <td>0</td>\n",
       "      <td>NaN</td>\n",
       "      <td>2.0</td>\n",
       "      <td>1</td>\n",
       "    </tr>\n",
       "    <tr>\n",
       "      <th>2</th>\n",
       "      <td>5008806</td>\n",
       "      <td>M</td>\n",
       "      <td>Y</td>\n",
       "      <td>Y</td>\n",
       "      <td>0</td>\n",
       "      <td>112500.0</td>\n",
       "      <td>Working</td>\n",
       "      <td>Secondary / secondary special</td>\n",
       "      <td>Married</td>\n",
       "      <td>House / apartment</td>\n",
       "      <td>-21474</td>\n",
       "      <td>-1134</td>\n",
       "      <td>1</td>\n",
       "      <td>0</td>\n",
       "      <td>0</td>\n",
       "      <td>0</td>\n",
       "      <td>Security staff</td>\n",
       "      <td>2.0</td>\n",
       "      <td>0</td>\n",
       "    </tr>\n",
       "    <tr>\n",
       "      <th>3</th>\n",
       "      <td>5008808</td>\n",
       "      <td>F</td>\n",
       "      <td>N</td>\n",
       "      <td>Y</td>\n",
       "      <td>0</td>\n",
       "      <td>270000.0</td>\n",
       "      <td>Commercial associate</td>\n",
       "      <td>Secondary / secondary special</td>\n",
       "      <td>Single / not married</td>\n",
       "      <td>House / apartment</td>\n",
       "      <td>-19110</td>\n",
       "      <td>-3051</td>\n",
       "      <td>1</td>\n",
       "      <td>0</td>\n",
       "      <td>1</td>\n",
       "      <td>1</td>\n",
       "      <td>Sales staff</td>\n",
       "      <td>1.0</td>\n",
       "      <td>0</td>\n",
       "    </tr>\n",
       "  </tbody>\n",
       "</table>\n",
       "</div>"
      ],
      "text/plain": [
       "        ID CODE_GENDER FLAG_OWN_CAR FLAG_OWN_REALTY  CNT_CHILDREN  \\\n",
       "0  5008804           M            Y               Y             0   \n",
       "1  5008805           M            Y               Y             0   \n",
       "2  5008806           M            Y               Y             0   \n",
       "3  5008808           F            N               Y             0   \n",
       "\n",
       "   AMT_INCOME_TOTAL      NAME_INCOME_TYPE            NAME_EDUCATION_TYPE  \\\n",
       "0          427500.0               Working               Higher education   \n",
       "1          427500.0               Working               Higher education   \n",
       "2          112500.0               Working  Secondary / secondary special   \n",
       "3          270000.0  Commercial associate  Secondary / secondary special   \n",
       "\n",
       "     NAME_FAMILY_STATUS  NAME_HOUSING_TYPE  DAYS_BIRTH  DAYS_EMPLOYED  \\\n",
       "0        Civil marriage   Rented apartment      -12005          -4542   \n",
       "1        Civil marriage   Rented apartment      -12005          -4542   \n",
       "2               Married  House / apartment      -21474          -1134   \n",
       "3  Single / not married  House / apartment      -19110          -3051   \n",
       "\n",
       "   FLAG_MOBIL  FLAG_WORK_PHONE  FLAG_PHONE  FLAG_EMAIL OCCUPATION_TYPE  \\\n",
       "0           1                1           0           0             NaN   \n",
       "1           1                1           0           0             NaN   \n",
       "2           1                0           0           0  Security staff   \n",
       "3           1                0           1           1     Sales staff   \n",
       "\n",
       "   CNT_FAM_MEMBERS  label  \n",
       "0              2.0      1  \n",
       "1              2.0      1  \n",
       "2              2.0      0  \n",
       "3              1.0      0  "
      ]
     },
     "execution_count": 31,
     "metadata": {},
     "output_type": "execute_result"
    }
   ],
   "source": [
    "merged_app_credit = pd.merge(app, credit_df, on=['ID'])\n",
    "\n",
    "# intesection is correct\n",
    "print(merged_app_credit.shape)\n",
    "print(app[app['ID'].isin(credit_df['ID'])].shape)\n",
    "\n",
    "merged_app_credit.head(4)\n",
    "# dataset has duplicates for all other columns except ids"
   ]
  },
  {
   "cell_type": "code",
   "execution_count": 32,
   "metadata": {
    "id": "L6_Yqa9U6lV1",
    "slideshow": {
     "slide_type": "skip"
    }
   },
   "outputs": [],
   "source": [
    "# this can be tried if we dont want duplicates in terms of other columns\n",
    "# # removing duplicate rows\n",
    "# dedup_merged_app_credit = merged_app_credit.drop_duplicates(subset=merged_app_credit.columns.difference(['ID']))\n",
    "# dedup_merged_app_credit.head(10)"
   ]
  },
  {
   "cell_type": "code",
   "execution_count": 33,
   "metadata": {
    "colab": {
     "base_uri": "https://localhost:8080/"
    },
    "id": "xOla6bCd6lV2",
    "outputId": "e8c35382-478a-4349-f133-5841945c9dd5",
    "slideshow": {
     "slide_type": "subslide"
    }
   },
   "outputs": [
    {
     "name": "stdout",
     "output_type": "stream",
     "text": [
      "                     missing  missing_percent\n",
      "CODE_GENDER                0         0.000000\n",
      "FLAG_OWN_CAR               0         0.000000\n",
      "FLAG_OWN_REALTY            0         0.000000\n",
      "CNT_CHILDREN               0         0.000000\n",
      "AMT_INCOME_TOTAL           0         0.000000\n",
      "NAME_INCOME_TYPE           0         0.000000\n",
      "NAME_EDUCATION_TYPE        0         0.000000\n",
      "NAME_FAMILY_STATUS         0         0.000000\n",
      "NAME_HOUSING_TYPE          0         0.000000\n",
      "DAYS_BIRTH                 0         0.000000\n",
      "DAYS_EMPLOYED              0         0.000000\n",
      "FLAG_MOBIL                 0         0.000000\n",
      "FLAG_WORK_PHONE            0         0.000000\n",
      "FLAG_PHONE                 0         0.000000\n",
      "FLAG_EMAIL                 0         0.000000\n",
      "OCCUPATION_TYPE        11323        31.058507\n",
      "CNT_FAM_MEMBERS            0         0.000000\n",
      "label                      0         0.000000\n"
     ]
    }
   ],
   "source": [
    "# Dropping id column as it wil not be used in modelling\n",
    "\n",
    "#dropping id\n",
    "dataset = merged_app_credit.drop('ID', axis=1)\n",
    "dataset.head(3)\n",
    "\n",
    "\n",
    "# checking nulls\n",
    "missing_val_checks = pd.DataFrame({'missing' : dataset.isnull().sum(), 'missing_percent' : (dataset.isnull().sum()/len(dataset))*100})\n",
    "print(missing_val_checks)\n",
    "# Occupation type has 31% missing value"
   ]
  },
  {
   "cell_type": "code",
   "execution_count": 34,
   "metadata": {
    "colab": {
     "base_uri": "https://localhost:8080/"
    },
    "id": "ZkaghsnK6lV2",
    "outputId": "84ead71f-e0c0-4514-bb4e-5ec7e94028fc",
    "slideshow": {
     "slide_type": "subslide"
    }
   },
   "outputs": [
    {
     "name": "stdout",
     "output_type": "stream",
     "text": [
      "Laborers                 6211\n",
      "Core staff               3591\n",
      "Sales staff              3485\n",
      "Managers                 3012\n",
      "Drivers                  2138\n",
      "High skill tech staff    1383\n",
      "Accountants              1241\n",
      "Medicine staff           1207\n",
      "Cooking staff             655\n",
      "Security staff            592\n",
      "Cleaning staff            551\n",
      "Private service staff     344\n",
      "Low-skill Laborers        175\n",
      "Waiters/barmen staff      174\n",
      "Secretaries               151\n",
      "HR staff                   85\n",
      "Realty agents              79\n",
      "IT staff                   60\n",
      "Name: OCCUPATION_TYPE, dtype: int64\n",
      "CODE_GENDER            False\n",
      "FLAG_OWN_CAR           False\n",
      "FLAG_OWN_REALTY        False\n",
      "CNT_CHILDREN           False\n",
      "AMT_INCOME_TOTAL       False\n",
      "NAME_INCOME_TYPE       False\n",
      "NAME_EDUCATION_TYPE    False\n",
      "NAME_FAMILY_STATUS     False\n",
      "NAME_HOUSING_TYPE      False\n",
      "DAYS_BIRTH             False\n",
      "DAYS_EMPLOYED          False\n",
      "FLAG_MOBIL             False\n",
      "FLAG_WORK_PHONE        False\n",
      "FLAG_PHONE             False\n",
      "FLAG_EMAIL             False\n",
      "OCCUPATION_TYPE        False\n",
      "CNT_FAM_MEMBERS        False\n",
      "label                  False\n",
      "dtype: bool\n"
     ]
    },
    {
     "name": "stderr",
     "output_type": "stream",
     "text": [
      "/home/praths/anaconda3/envs/py36_gpu/lib/python3.6/site-packages/ipykernel_launcher.py:5: SettingWithCopyWarning: \n",
      "A value is trying to be set on a copy of a slice from a DataFrame\n",
      "\n",
      "See the caveats in the documentation: https://pandas.pydata.org/pandas-docs/stable/user_guide/indexing.html#returning-a-view-versus-a-copy\n",
      "  \"\"\"\n"
     ]
    }
   ],
   "source": [
    "# checking the different occupation types\n",
    "print(dataset['OCCUPATION_TYPE'].value_counts())\n",
    "\n",
    "# adding 'Unknown' to the group of occupations that are NULL\n",
    "dataset['OCCUPATION_TYPE'][dataset['OCCUPATION_TYPE'].isnull()] =  'Unknown'\n",
    "\n",
    "#rechecking missing values\n",
    "print(dataset.isnull().any())"
   ]
  },
  {
   "cell_type": "markdown",
   "metadata": {
    "id": "ckAp2ceE6lV3",
    "slideshow": {
     "slide_type": "slide"
    }
   },
   "source": [
    "##  Stratified train-test split\n",
    "---\n",
    "* Since we have an imbalanced dataset, we use a stratified train-test split to have equal imbalance in both test and train data\n",
    "* The train-test split will be 70:30"
   ]
  },
  {
   "cell_type": "code",
   "execution_count": 35,
   "metadata": {
    "id": "pyuNCnNA6lV3",
    "slideshow": {
     "slide_type": "subslide"
    }
   },
   "outputs": [],
   "source": [
    "# Creating stratified train and test samples\n",
    "y = dataset.pop('label').to_frame()\n",
    "X = dataset"
   ]
  },
  {
   "cell_type": "code",
   "execution_count": 36,
   "metadata": {
    "id": "DQlSWTzP6lV3",
    "slideshow": {
     "slide_type": "subslide"
    }
   },
   "outputs": [],
   "source": [
    "# using a 70:30 split in train:test\n",
    "X_train, X_test, y_train, y_test = train_test_split(\n",
    "        X, y,stratify=y, test_size=0.3)"
   ]
  },
  {
   "cell_type": "code",
   "execution_count": 37,
   "metadata": {
    "colab": {
     "base_uri": "https://localhost:8080/"
    },
    "id": "vMV8fLi76lV3",
    "outputId": "5d552a0c-0432-4404-d3a5-2577c69d0627",
    "slideshow": {
     "slide_type": "subslide"
    }
   },
   "outputs": [
    {
     "data": {
      "text/plain": [
       "((25519, 17), (25519, 1), (10938, 17), (10938, 1))"
      ]
     },
     "execution_count": 37,
     "metadata": {},
     "output_type": "execute_result"
    }
   ],
   "source": [
    "# Checking the number of rows and columns\n",
    "X_train.shape, y_train.shape, X_test.shape, y_test.shape"
   ]
  },
  {
   "cell_type": "code",
   "execution_count": 38,
   "metadata": {
    "colab": {
     "base_uri": "https://localhost:8080/"
    },
    "id": "Y9-A2iNM6lV4",
    "outputId": "056597a8-5b2f-4829-9c15-b333f2d74118",
    "slideshow": {
     "slide_type": "subslide"
    }
   },
   "outputs": [
    {
     "data": {
      "text/plain": [
       "0    88.228379\n",
       "1    11.771621\n",
       "Name: label, dtype: float64"
      ]
     },
     "execution_count": 38,
     "metadata": {},
     "output_type": "execute_result"
    }
   ],
   "source": [
    "# checking class imbalance in train\n",
    "y_train['label'].value_counts() / len(y_train['label']) * 100 "
   ]
  },
  {
   "cell_type": "code",
   "execution_count": 39,
   "metadata": {
    "colab": {
     "base_uri": "https://localhost:8080/"
    },
    "id": "ojo100nk6lV4",
    "outputId": "14442fd4-42e6-4035-c203-07159a844b6d",
    "slideshow": {
     "slide_type": "subslide"
    }
   },
   "outputs": [
    {
     "data": {
      "text/plain": [
       "0    88.233681\n",
       "1    11.766319\n",
       "Name: label, dtype: float64"
      ]
     },
     "execution_count": 39,
     "metadata": {},
     "output_type": "execute_result"
    }
   ],
   "source": [
    "# checking class imbalance in test\n",
    "y_test['label'].value_counts() / len(y_test['label']) * 100"
   ]
  },
  {
   "cell_type": "markdown",
   "metadata": {
    "id": "XMLxyFiT6lV4",
    "slideshow": {
     "slide_type": "slide"
    }
   },
   "source": [
    "# Exploratory data analysis - Univariate and Bivariate analysis\n",
    "---\n",
    "* Dividing variables in catagorical and continuous\n",
    "* Doing univariate analysis on all numeric variables\n",
    "* Bivariate analysis on continuous variables\n",
    "* Bivariate analysis on catagorical variables"
   ]
  },
  {
   "cell_type": "code",
   "execution_count": 40,
   "metadata": {
    "colab": {
     "base_uri": "https://localhost:8080/"
    },
    "id": "tRftRALx6lV4",
    "outputId": "1b40a31c-aa83-4f86-eb07-4713e45637ec",
    "slideshow": {
     "slide_type": "subslide"
    }
   },
   "outputs": [
    {
     "name": "stdout",
     "output_type": "stream",
     "text": [
      "<class 'pandas.core.frame.DataFrame'>\n",
      "Int64Index: 25519 entries, 3682 to 27293\n",
      "Data columns (total 17 columns):\n",
      " #   Column               Non-Null Count  Dtype  \n",
      "---  ------               --------------  -----  \n",
      " 0   CODE_GENDER          25519 non-null  object \n",
      " 1   FLAG_OWN_CAR         25519 non-null  object \n",
      " 2   FLAG_OWN_REALTY      25519 non-null  object \n",
      " 3   CNT_CHILDREN         25519 non-null  int64  \n",
      " 4   AMT_INCOME_TOTAL     25519 non-null  float64\n",
      " 5   NAME_INCOME_TYPE     25519 non-null  object \n",
      " 6   NAME_EDUCATION_TYPE  25519 non-null  object \n",
      " 7   NAME_FAMILY_STATUS   25519 non-null  object \n",
      " 8   NAME_HOUSING_TYPE    25519 non-null  object \n",
      " 9   DAYS_BIRTH           25519 non-null  int64  \n",
      " 10  DAYS_EMPLOYED        25519 non-null  int64  \n",
      " 11  FLAG_MOBIL           25519 non-null  int64  \n",
      " 12  FLAG_WORK_PHONE      25519 non-null  int64  \n",
      " 13  FLAG_PHONE           25519 non-null  int64  \n",
      " 14  FLAG_EMAIL           25519 non-null  int64  \n",
      " 15  OCCUPATION_TYPE      25519 non-null  object \n",
      " 16  CNT_FAM_MEMBERS      25519 non-null  float64\n",
      "dtypes: float64(2), int64(7), object(8)\n",
      "memory usage: 3.5+ MB\n",
      "None\n"
     ]
    }
   ],
   "source": [
    "# based on this amt_income_total, days_birth and days_employed are continuous \n",
    "# rest all are catagorical\n",
    "\n",
    "# checking variable types\n",
    "print(X_train.info())\n",
    "\n",
    "# creating lists for types of variables\n",
    "continuous_vars = ['AMT_INCOME_TOTAL', 'DAYS_BIRTH', 'DAYS_EMPLOYED']\n",
    "catagorical_vars =  X_train.describe().columns.difference(continuous_vars).tolist() + \\\n",
    "                    ['OCCUPATION_TYPE', 'FLAG_OWN_CAR', 'FLAG_OWN_REALTY', 'NAME_INCOME_TYPE', 'NAME_EDUCATION_TYPE', \n",
    "                    'NAME_FAMILY_STATUS', 'NAME_HOUSING_TYPE', 'CODE_GENDER']"
   ]
  },
  {
   "cell_type": "code",
   "execution_count": 41,
   "metadata": {
    "colab": {
     "base_uri": "https://localhost:8080/",
     "height": 344
    },
    "id": "HN_HAyDq6lV5",
    "outputId": "97753c8d-de45-4e3b-9247-c95c551a9876",
    "slideshow": {
     "slide_type": "subslide"
    }
   },
   "outputs": [
    {
     "data": {
      "text/html": [
       "<div>\n",
       "<style scoped>\n",
       "    .dataframe tbody tr th:only-of-type {\n",
       "        vertical-align: middle;\n",
       "    }\n",
       "\n",
       "    .dataframe tbody tr th {\n",
       "        vertical-align: top;\n",
       "    }\n",
       "\n",
       "    .dataframe thead th {\n",
       "        text-align: right;\n",
       "    }\n",
       "</style>\n",
       "<table border=\"1\" class=\"dataframe\">\n",
       "  <thead>\n",
       "    <tr style=\"text-align: right;\">\n",
       "      <th></th>\n",
       "      <th>CNT_CHILDREN</th>\n",
       "      <th>AMT_INCOME_TOTAL</th>\n",
       "      <th>DAYS_BIRTH</th>\n",
       "      <th>DAYS_EMPLOYED</th>\n",
       "      <th>FLAG_MOBIL</th>\n",
       "      <th>FLAG_WORK_PHONE</th>\n",
       "      <th>FLAG_PHONE</th>\n",
       "      <th>FLAG_EMAIL</th>\n",
       "      <th>CNT_FAM_MEMBERS</th>\n",
       "    </tr>\n",
       "  </thead>\n",
       "  <tbody>\n",
       "    <tr>\n",
       "      <th>count</th>\n",
       "      <td>25519.000000</td>\n",
       "      <td>2.551900e+04</td>\n",
       "      <td>25519.000000</td>\n",
       "      <td>25519.000000</td>\n",
       "      <td>25519.0</td>\n",
       "      <td>25519.000000</td>\n",
       "      <td>25519.000000</td>\n",
       "      <td>25519.000000</td>\n",
       "      <td>25519.000000</td>\n",
       "    </tr>\n",
       "    <tr>\n",
       "      <th>mean</th>\n",
       "      <td>0.433873</td>\n",
       "      <td>1.867528e+05</td>\n",
       "      <td>-15960.130021</td>\n",
       "      <td>59332.139073</td>\n",
       "      <td>1.0</td>\n",
       "      <td>0.225871</td>\n",
       "      <td>0.294996</td>\n",
       "      <td>0.089267</td>\n",
       "      <td>2.200243</td>\n",
       "    </tr>\n",
       "    <tr>\n",
       "      <th>std</th>\n",
       "      <td>0.746813</td>\n",
       "      <td>1.015737e+05</td>\n",
       "      <td>4202.812523</td>\n",
       "      <td>137710.604787</td>\n",
       "      <td>0.0</td>\n",
       "      <td>0.418163</td>\n",
       "      <td>0.456050</td>\n",
       "      <td>0.285134</td>\n",
       "      <td>0.915994</td>\n",
       "    </tr>\n",
       "    <tr>\n",
       "      <th>min</th>\n",
       "      <td>0.000000</td>\n",
       "      <td>2.700000e+04</td>\n",
       "      <td>-25152.000000</td>\n",
       "      <td>-15661.000000</td>\n",
       "      <td>1.0</td>\n",
       "      <td>0.000000</td>\n",
       "      <td>0.000000</td>\n",
       "      <td>0.000000</td>\n",
       "      <td>1.000000</td>\n",
       "    </tr>\n",
       "    <tr>\n",
       "      <th>25%</th>\n",
       "      <td>0.000000</td>\n",
       "      <td>1.215000e+05</td>\n",
       "      <td>-19427.000000</td>\n",
       "      <td>-3141.000000</td>\n",
       "      <td>1.0</td>\n",
       "      <td>0.000000</td>\n",
       "      <td>0.000000</td>\n",
       "      <td>0.000000</td>\n",
       "      <td>2.000000</td>\n",
       "    </tr>\n",
       "    <tr>\n",
       "      <th>50%</th>\n",
       "      <td>0.000000</td>\n",
       "      <td>1.575000e+05</td>\n",
       "      <td>-15540.000000</td>\n",
       "      <td>-1555.000000</td>\n",
       "      <td>1.0</td>\n",
       "      <td>0.000000</td>\n",
       "      <td>0.000000</td>\n",
       "      <td>0.000000</td>\n",
       "      <td>2.000000</td>\n",
       "    </tr>\n",
       "    <tr>\n",
       "      <th>75%</th>\n",
       "      <td>1.000000</td>\n",
       "      <td>2.250000e+05</td>\n",
       "      <td>-12445.000000</td>\n",
       "      <td>-407.000000</td>\n",
       "      <td>1.0</td>\n",
       "      <td>0.000000</td>\n",
       "      <td>1.000000</td>\n",
       "      <td>0.000000</td>\n",
       "      <td>3.000000</td>\n",
       "    </tr>\n",
       "    <tr>\n",
       "      <th>max</th>\n",
       "      <td>19.000000</td>\n",
       "      <td>1.575000e+06</td>\n",
       "      <td>-7489.000000</td>\n",
       "      <td>365243.000000</td>\n",
       "      <td>1.0</td>\n",
       "      <td>1.000000</td>\n",
       "      <td>1.000000</td>\n",
       "      <td>1.000000</td>\n",
       "      <td>20.000000</td>\n",
       "    </tr>\n",
       "  </tbody>\n",
       "</table>\n",
       "</div>"
      ],
      "text/plain": [
       "       CNT_CHILDREN  AMT_INCOME_TOTAL    DAYS_BIRTH  DAYS_EMPLOYED  \\\n",
       "count  25519.000000      2.551900e+04  25519.000000   25519.000000   \n",
       "mean       0.433873      1.867528e+05 -15960.130021   59332.139073   \n",
       "std        0.746813      1.015737e+05   4202.812523  137710.604787   \n",
       "min        0.000000      2.700000e+04 -25152.000000  -15661.000000   \n",
       "25%        0.000000      1.215000e+05 -19427.000000   -3141.000000   \n",
       "50%        0.000000      1.575000e+05 -15540.000000   -1555.000000   \n",
       "75%        1.000000      2.250000e+05 -12445.000000    -407.000000   \n",
       "max       19.000000      1.575000e+06  -7489.000000  365243.000000   \n",
       "\n",
       "       FLAG_MOBIL  FLAG_WORK_PHONE    FLAG_PHONE    FLAG_EMAIL  \\\n",
       "count     25519.0     25519.000000  25519.000000  25519.000000   \n",
       "mean          1.0         0.225871      0.294996      0.089267   \n",
       "std           0.0         0.418163      0.456050      0.285134   \n",
       "min           1.0         0.000000      0.000000      0.000000   \n",
       "25%           1.0         0.000000      0.000000      0.000000   \n",
       "50%           1.0         0.000000      0.000000      0.000000   \n",
       "75%           1.0         0.000000      1.000000      0.000000   \n",
       "max           1.0         1.000000      1.000000      1.000000   \n",
       "\n",
       "       CNT_FAM_MEMBERS  \n",
       "count     25519.000000  \n",
       "mean          2.200243  \n",
       "std           0.915994  \n",
       "min           1.000000  \n",
       "25%           2.000000  \n",
       "50%           2.000000  \n",
       "75%           3.000000  \n",
       "max          20.000000  "
      ]
     },
     "execution_count": 41,
     "metadata": {},
     "output_type": "execute_result"
    }
   ],
   "source": [
    "# univariate analysis for continuous variables\n",
    "X_train.describe()"
   ]
  },
  {
   "cell_type": "markdown",
   "metadata": {
    "id": "vgrGYf256lV5",
    "slideshow": {
     "slide_type": "subslide"
    }
   },
   "source": [
    "##  Bivariate with continuous variables"
   ]
  },
  {
   "cell_type": "code",
   "execution_count": 42,
   "metadata": {
    "colab": {
     "base_uri": "https://localhost:8080/",
     "height": 857
    },
    "id": "j-qzNylf6lV5",
    "outputId": "5964a831-631f-44eb-ec3e-5c7013ca8f82",
    "slideshow": {
     "slide_type": "subslide"
    }
   },
   "outputs": [
    {
     "data": {
      "image/png": "[encoded data removed]",
      "text/plain": [
       "<Figure size 576x288 with 1 Axes>"
      ]
     },
     "metadata": {
      "needs_background": "light"
     },
     "output_type": "display_data"
    },
    {
     "data": {
      "image/png": "[encoded data removed]",
      "text/plain": [
       "<Figure size 576x288 with 1 Axes>"
      ]
     },
     "metadata": {
      "needs_background": "light"
     },
     "output_type": "display_data"
    },
    {
     "data": {
      "image/png": "[encoded data removed]",
      "text/plain": [
       "<Figure size 576x288 with 1 Axes>"
      ]
     },
     "metadata": {
      "needs_background": "light"
     },
     "output_type": "display_data"
    }
   ],
   "source": [
    "#calculating default rate for continuous variables\n",
    "def default_rate_continous_var_calc(row):\n",
    "    default_rate = float(row['CODE_GENDER'][1] / float(row['CODE_GENDER'][0] + row['CODE_GENDER'][1]))\n",
    "    return default_rate\n",
    "\n",
    "\n",
    "# Checking default rate for continuous variables\n",
    "for col in continuous_vars:\n",
    "    fig,(ax) = plt.subplots(figsize=(8,4), ncols=1)\n",
    "\n",
    "    pivot_test = pd.pivot_table(X_train,index=(col, y_train['label']), values=('CODE_GENDER'), aggfunc=len)\n",
    "\n",
    "    pivot_test = pivot_test.unstack()\n",
    "    pivot_test = pivot_test.reset_index()\n",
    "\n",
    "    pivot_test['default_rate'] = pivot_test.apply(default_rate_continous_var_calc, axis=1)\n",
    "\n",
    "    x_axis = pivot_test[col][pivot_test['default_rate'].notnull()]\n",
    "\n",
    "    \n",
    "    #plotting line\n",
    "    default_rate, = ax.plot(x_axis,pivot_test['default_rate'][pivot_test['default_rate'].notnull()],linewidth = 1, label = 'default_rate')\n",
    "\n",
    "    #processing for trendline\n",
    "    z = np.polyfit(x_axis, pivot_test['default_rate'][pivot_test['default_rate'].notnull()],1)\n",
    "    p = np.poly1d(z)\n",
    "\n",
    "    #plotting trendline\n",
    "    trend_line, = ax.plot(pivot_test[str(col)][(pivot_test['CODE_GENDER'][1].notnull()) & \n",
    "                                                (pivot_test['CODE_GENDER'][0].notnull())],\n",
    "                          p(pivot_test[str(col)][(pivot_test['CODE_GENDER'][1].notnull()) & \n",
    "                                                  (pivot_test['CODE_GENDER'][0].notnull())]),\"r-\", label = 'trend_line')\n",
    "\n",
    "\n",
    "    plt.xlabel(str(col))\n",
    "    plt.ylabel('default_rate')\n",
    "\n",
    "    ax.legend([default_rate, trend_line], ['default_rate', 'trend_line'])\n",
    "    fig.tight_layout()\n",
    "    fig.show()\n",
    "    \n",
    "# The trends show variance for all continuous variables"
   ]
  },
  {
   "cell_type": "markdown",
   "metadata": {
    "id": "6Da-Z62D6lV6",
    "slideshow": {
     "slide_type": "subslide"
    }
   },
   "source": [
    "###  Bivariate analysis with catagorical variables"
   ]
  },
  {
   "cell_type": "code",
   "execution_count": 43,
   "metadata": {
    "colab": {
     "base_uri": "https://localhost:8080/",
     "height": 1000
    },
    "id": "nHr1g43y6lV6",
    "outputId": "6083b257-f99d-4284-fdda-0c87cd2f6de5",
    "scrolled": false,
    "slideshow": {
     "slide_type": "subslide"
    }
   },
   "outputs": [
    {
     "data": {
      "image/png": "[encoded data removed]",
      "text/plain": [
       "<Figure size 864x288 with 1 Axes>"
      ]
     },
     "metadata": {
      "needs_background": "light"
     },
     "output_type": "display_data"
    },
    {
     "data": {
      "image/png": "[encoded data removed]",
      "text/plain": [
       "<Figure size 864x288 with 1 Axes>"
      ]
     },
     "metadata": {
      "needs_background": "light"
     },
     "output_type": "display_data"
    },
    {
     "data": {
      "image/png": "[encoded data removed]",
      "text/plain": [
       "<Figure size 864x288 with 1 Axes>"
      ]
     },
     "metadata": {
      "needs_background": "light"
     },
     "output_type": "display_data"
    },
    {
     "data": {
      "image/png": "[encoded data removed]",
      "text/plain": [
       "<Figure size 864x288 with 1 Axes>"
      ]
     },
     "metadata": {
      "needs_background": "light"
     },
     "output_type": "display_data"
    },
    {
     "data": {
      "image/png": "[encoded data removed]",
      "text/plain": [
       "<Figure size 864x288 with 1 Axes>"
      ]
     },
     "metadata": {
      "needs_background": "light"
     },
     "output_type": "display_data"
    },
    {
     "data": {
      "image/png": "[encoded data removed]",
      "text/plain": [
       "<Figure size 864x288 with 1 Axes>"
      ]
     },
     "metadata": {
      "needs_background": "light"
     },
     "output_type": "display_data"
    },
    {
     "data": {
      "image/png": "[encoded data removed]",
      "text/plain": [
       "<Figure size 864x288 with 1 Axes>"
      ]
     },
     "metadata": {
      "needs_background": "light"
     },
     "output_type": "display_data"
    },
    {
     "data": {
      "image/png": "[encoded data removed]",
      "text/plain": [
       "<Figure size 864x288 with 1 Axes>"
      ]
     },
     "metadata": {
      "needs_background": "light"
     },
     "output_type": "display_data"
    },
    {
     "data": {
      "image/png": "[encoded data removed]",
      "text/plain": [
       "<Figure size 864x288 with 1 Axes>"
      ]
     },
     "metadata": {
      "needs_background": "light"
     },
     "output_type": "display_data"
    },
    {
     "data": {
      "image/png": "[encoded data removed]",
      "text/plain": [
       "<Figure size 864x288 with 1 Axes>"
      ]
     },
     "metadata": {
      "needs_background": "light"
     },
     "output_type": "display_data"
    },
    {
     "data": {
      "image/png": "[encoded data removed]",
      "text/plain": [
       "<Figure size 864x288 with 1 Axes>"
      ]
     },
     "metadata": {
      "needs_background": "light"
     },
     "output_type": "display_data"
    },
    {
     "data": {
      "image/png": "[encoded data removed]",
      "text/plain": [
       "<Figure size 864x288 with 1 Axes>"
      ]
     },
     "metadata": {
      "needs_background": "light"
     },
     "output_type": "display_data"
    },
    {
     "data": {
      "image/png": "[encoded data removed]",
      "text/plain": [
       "<Figure size 864x288 with 1 Axes>"
      ]
     },
     "metadata": {
      "needs_background": "light"
     },
     "output_type": "display_data"
    },
    {
     "data": {
      "image/png": "[encoded data removed]",
      "text/plain": [
       "<Figure size 864x288 with 1 Axes>"
      ]
     },
     "metadata": {
      "needs_background": "light"
     },
     "output_type": "display_data"
    }
   ],
   "source": [
    "#this function calculates the default rate for categorical variables\n",
    "def default_rate_categorical_var_calc(row):\n",
    "    default_rate = float(row['AMT_INCOME_TOTAL'][1] / float(row['AMT_INCOME_TOTAL'][0] + row['AMT_INCOME_TOTAL'][1]))\n",
    "    return default_rate\n",
    "\n",
    "#here we do a bivariate for column vs default rate for catagorical variables\n",
    "for col in catagorical_vars:\n",
    "    fig,(ax) = plt.subplots(figsize=(12,4), ncols=1)\n",
    "    \n",
    "    pivot_test = pd.pivot_table(X_train,index=(str(col), y_train['label']), values=('AMT_INCOME_TOTAL'), aggfunc=len)\n",
    "\n",
    "    pivot_test = pivot_test.unstack()\n",
    "    pivot_test = pivot_test.reset_index()\n",
    "\n",
    "    pivot_test['default_rate'] = pivot_test.apply(default_rate_categorical_var_calc, axis=1)\n",
    "    pivot_test['default_rate'].plot(kind='bar')\n",
    "    plt.legend([default_rate], ['default_rate'])\n",
    "    plt.xlabel(str(col) + ' categories')\n",
    "    plt.ylabel('default_rate')\n",
    "    plt.xticks(np.array(pivot_test.index),pivot_test[str(col)])"
   ]
  },
  {
   "cell_type": "markdown",
   "metadata": {
    "id": "9y-xg1_w6lV6",
    "slideshow": {
     "slide_type": "subslide"
    }
   },
   "source": [
    "> flag phone, flag work phone, flag own car dont show much variation for default\n",
    "rate but other variables show a good variation"
   ]
  },
  {
   "cell_type": "markdown",
   "metadata": {
    "id": "JKlynTBw6lV6",
    "slideshow": {
     "slide_type": "slide"
    }
   },
   "source": [
    "# Preprocessing for model building\n",
    "---\n",
    "* Creating dummy variables for qualitative variables\n",
    "* Scaling data for model building"
   ]
  },
  {
   "cell_type": "code",
   "execution_count": 44,
   "metadata": {
    "id": "HfxzKviP6lV7",
    "slideshow": {
     "slide_type": "subslide"
    }
   },
   "outputs": [],
   "source": [
    "# converting the catagorical columns to dummies, get_dummies only converts the\n",
    "# char or str type columns to dummies and keeps the numeric cateogories as is\n",
    "# this is helpful in assigning correct weight to the rows\n",
    "X_train_cat = pd.get_dummies(X_train[catagorical_vars], drop_first=True)\n",
    "X_test_cat = pd.get_dummies(X_test[catagorical_vars], drop_first=True )"
   ]
  },
  {
   "cell_type": "code",
   "execution_count": 45,
   "metadata": {
    "colab": {
     "base_uri": "https://localhost:8080/",
     "height": 191
    },
    "id": "9Na1hvgc6lV7",
    "outputId": "c790ba9f-d1cf-4bb3-d11c-e82c104a9255",
    "slideshow": {
     "slide_type": "subslide"
    }
   },
   "outputs": [
    {
     "data": {
      "text/html": [
       "<div>\n",
       "<style scoped>\n",
       "    .dataframe tbody tr th:only-of-type {\n",
       "        vertical-align: middle;\n",
       "    }\n",
       "\n",
       "    .dataframe tbody tr th {\n",
       "        vertical-align: top;\n",
       "    }\n",
       "\n",
       "    .dataframe thead th {\n",
       "        text-align: right;\n",
       "    }\n",
       "</style>\n",
       "<table border=\"1\" class=\"dataframe\">\n",
       "  <thead>\n",
       "    <tr style=\"text-align: right;\">\n",
       "      <th></th>\n",
       "      <th>CNT_CHILDREN</th>\n",
       "      <th>CNT_FAM_MEMBERS</th>\n",
       "      <th>FLAG_EMAIL</th>\n",
       "      <th>FLAG_MOBIL</th>\n",
       "      <th>FLAG_PHONE</th>\n",
       "      <th>FLAG_WORK_PHONE</th>\n",
       "      <th>OCCUPATION_TYPE_Cleaning staff</th>\n",
       "      <th>OCCUPATION_TYPE_Cooking staff</th>\n",
       "      <th>OCCUPATION_TYPE_Core staff</th>\n",
       "      <th>OCCUPATION_TYPE_Drivers</th>\n",
       "      <th>...</th>\n",
       "      <th>NAME_FAMILY_STATUS_Married</th>\n",
       "      <th>NAME_FAMILY_STATUS_Separated</th>\n",
       "      <th>NAME_FAMILY_STATUS_Single / not married</th>\n",
       "      <th>NAME_FAMILY_STATUS_Widow</th>\n",
       "      <th>NAME_HOUSING_TYPE_House / apartment</th>\n",
       "      <th>NAME_HOUSING_TYPE_Municipal apartment</th>\n",
       "      <th>NAME_HOUSING_TYPE_Office apartment</th>\n",
       "      <th>NAME_HOUSING_TYPE_Rented apartment</th>\n",
       "      <th>NAME_HOUSING_TYPE_With parents</th>\n",
       "      <th>CODE_GENDER_M</th>\n",
       "    </tr>\n",
       "  </thead>\n",
       "  <tbody>\n",
       "    <tr>\n",
       "      <th>3682</th>\n",
       "      <td>1</td>\n",
       "      <td>3.0</td>\n",
       "      <td>0</td>\n",
       "      <td>1</td>\n",
       "      <td>1</td>\n",
       "      <td>0</td>\n",
       "      <td>0</td>\n",
       "      <td>0</td>\n",
       "      <td>0</td>\n",
       "      <td>0</td>\n",
       "      <td>...</td>\n",
       "      <td>1</td>\n",
       "      <td>0</td>\n",
       "      <td>0</td>\n",
       "      <td>0</td>\n",
       "      <td>1</td>\n",
       "      <td>0</td>\n",
       "      <td>0</td>\n",
       "      <td>0</td>\n",
       "      <td>0</td>\n",
       "      <td>0</td>\n",
       "    </tr>\n",
       "  </tbody>\n",
       "</table>\n",
       "<p>1 rows × 44 columns</p>\n",
       "</div>"
      ],
      "text/plain": [
       "      CNT_CHILDREN  CNT_FAM_MEMBERS  FLAG_EMAIL  FLAG_MOBIL  FLAG_PHONE  \\\n",
       "3682             1              3.0           0           1           1   \n",
       "\n",
       "      FLAG_WORK_PHONE  OCCUPATION_TYPE_Cleaning staff  \\\n",
       "3682                0                               0   \n",
       "\n",
       "      OCCUPATION_TYPE_Cooking staff  OCCUPATION_TYPE_Core staff  \\\n",
       "3682                              0                           0   \n",
       "\n",
       "      OCCUPATION_TYPE_Drivers  ...  NAME_FAMILY_STATUS_Married  \\\n",
       "3682                        0  ...                           1   \n",
       "\n",
       "      NAME_FAMILY_STATUS_Separated  NAME_FAMILY_STATUS_Single / not married  \\\n",
       "3682                             0                                        0   \n",
       "\n",
       "      NAME_FAMILY_STATUS_Widow  NAME_HOUSING_TYPE_House / apartment  \\\n",
       "3682                         0                                    1   \n",
       "\n",
       "      NAME_HOUSING_TYPE_Municipal apartment  \\\n",
       "3682                                      0   \n",
       "\n",
       "      NAME_HOUSING_TYPE_Office apartment  NAME_HOUSING_TYPE_Rented apartment  \\\n",
       "3682                                   0                                   0   \n",
       "\n",
       "      NAME_HOUSING_TYPE_With parents  CODE_GENDER_M  \n",
       "3682                               0              0  \n",
       "\n",
       "[1 rows x 44 columns]"
      ]
     },
     "execution_count": 45,
     "metadata": {},
     "output_type": "execute_result"
    }
   ],
   "source": [
    "X_train_cat.head(1)"
   ]
  },
  {
   "cell_type": "code",
   "execution_count": 46,
   "metadata": {
    "colab": {
     "base_uri": "https://localhost:8080/",
     "height": 191
    },
    "id": "O6sgR3l5V-Dt",
    "outputId": "afdd85b8-0605-49f4-fc1f-757d40ca0887",
    "slideshow": {
     "slide_type": "subslide"
    }
   },
   "outputs": [
    {
     "data": {
      "text/html": [
       "<div>\n",
       "<style scoped>\n",
       "    .dataframe tbody tr th:only-of-type {\n",
       "        vertical-align: middle;\n",
       "    }\n",
       "\n",
       "    .dataframe tbody tr th {\n",
       "        vertical-align: top;\n",
       "    }\n",
       "\n",
       "    .dataframe thead th {\n",
       "        text-align: right;\n",
       "    }\n",
       "</style>\n",
       "<table border=\"1\" class=\"dataframe\">\n",
       "  <thead>\n",
       "    <tr style=\"text-align: right;\">\n",
       "      <th></th>\n",
       "      <th>CNT_CHILDREN</th>\n",
       "      <th>CNT_FAM_MEMBERS</th>\n",
       "      <th>FLAG_EMAIL</th>\n",
       "      <th>FLAG_MOBIL</th>\n",
       "      <th>FLAG_PHONE</th>\n",
       "      <th>FLAG_WORK_PHONE</th>\n",
       "      <th>OCCUPATION_TYPE_Cleaning staff</th>\n",
       "      <th>OCCUPATION_TYPE_Cooking staff</th>\n",
       "      <th>OCCUPATION_TYPE_Core staff</th>\n",
       "      <th>OCCUPATION_TYPE_Drivers</th>\n",
       "      <th>...</th>\n",
       "      <th>NAME_FAMILY_STATUS_Married</th>\n",
       "      <th>NAME_FAMILY_STATUS_Separated</th>\n",
       "      <th>NAME_FAMILY_STATUS_Single / not married</th>\n",
       "      <th>NAME_FAMILY_STATUS_Widow</th>\n",
       "      <th>NAME_HOUSING_TYPE_House / apartment</th>\n",
       "      <th>NAME_HOUSING_TYPE_Municipal apartment</th>\n",
       "      <th>NAME_HOUSING_TYPE_Office apartment</th>\n",
       "      <th>NAME_HOUSING_TYPE_Rented apartment</th>\n",
       "      <th>NAME_HOUSING_TYPE_With parents</th>\n",
       "      <th>CODE_GENDER_M</th>\n",
       "    </tr>\n",
       "  </thead>\n",
       "  <tbody>\n",
       "    <tr>\n",
       "      <th>32410</th>\n",
       "      <td>1</td>\n",
       "      <td>3.0</td>\n",
       "      <td>0</td>\n",
       "      <td>1</td>\n",
       "      <td>1</td>\n",
       "      <td>1</td>\n",
       "      <td>0</td>\n",
       "      <td>0</td>\n",
       "      <td>0</td>\n",
       "      <td>0</td>\n",
       "      <td>...</td>\n",
       "      <td>1</td>\n",
       "      <td>0</td>\n",
       "      <td>0</td>\n",
       "      <td>0</td>\n",
       "      <td>0</td>\n",
       "      <td>0</td>\n",
       "      <td>0</td>\n",
       "      <td>0</td>\n",
       "      <td>1</td>\n",
       "      <td>1</td>\n",
       "    </tr>\n",
       "  </tbody>\n",
       "</table>\n",
       "<p>1 rows × 44 columns</p>\n",
       "</div>"
      ],
      "text/plain": [
       "       CNT_CHILDREN  CNT_FAM_MEMBERS  FLAG_EMAIL  FLAG_MOBIL  FLAG_PHONE  \\\n",
       "32410             1              3.0           0           1           1   \n",
       "\n",
       "       FLAG_WORK_PHONE  OCCUPATION_TYPE_Cleaning staff  \\\n",
       "32410                1                               0   \n",
       "\n",
       "       OCCUPATION_TYPE_Cooking staff  OCCUPATION_TYPE_Core staff  \\\n",
       "32410                              0                           0   \n",
       "\n",
       "       OCCUPATION_TYPE_Drivers  ...  NAME_FAMILY_STATUS_Married  \\\n",
       "32410                        0  ...                           1   \n",
       "\n",
       "       NAME_FAMILY_STATUS_Separated  NAME_FAMILY_STATUS_Single / not married  \\\n",
       "32410                             0                                        0   \n",
       "\n",
       "       NAME_FAMILY_STATUS_Widow  NAME_HOUSING_TYPE_House / apartment  \\\n",
       "32410                         0                                    0   \n",
       "\n",
       "       NAME_HOUSING_TYPE_Municipal apartment  \\\n",
       "32410                                      0   \n",
       "\n",
       "       NAME_HOUSING_TYPE_Office apartment  NAME_HOUSING_TYPE_Rented apartment  \\\n",
       "32410                                   0                                   0   \n",
       "\n",
       "       NAME_HOUSING_TYPE_With parents  CODE_GENDER_M  \n",
       "32410                               1              1  \n",
       "\n",
       "[1 rows x 44 columns]"
      ]
     },
     "execution_count": 46,
     "metadata": {},
     "output_type": "execute_result"
    }
   ],
   "source": [
    " X_test_cat.head(1)"
   ]
  },
  {
   "cell_type": "code",
   "execution_count": 47,
   "metadata": {
    "id": "dr7uUPgC6lV8",
    "slideshow": {
     "slide_type": "subslide"
    }
   },
   "outputs": [],
   "source": [
    "# combine dummy columns and other variables\n",
    "X_train_dummied = pd.concat([X_train[continuous_vars], X_train_cat], axis=1)\n",
    "X_test_dummied = pd.concat([X_test[continuous_vars], X_test_cat], axis=1)"
   ]
  },
  {
   "cell_type": "code",
   "execution_count": 48,
   "metadata": {
    "id": "E_KImgL-6lV8",
    "slideshow": {
     "slide_type": "subslide"
    }
   },
   "outputs": [],
   "source": [
    "# scale and trasnform data\n",
    "scaler = StandardScaler()\n",
    "X_train_scaled = scaler.fit_transform(X_train_dummied)\n",
    "y_train_np = np.array(y_train)\n",
    "X_test_scaled = scaler.fit_transform(X_test_dummied)\n",
    "y_test_np = np.array(y_test)"
   ]
  },
  {
   "cell_type": "code",
   "execution_count": 49,
   "metadata": {
    "id": "0NFgM_2l6lV8",
    "slideshow": {
     "slide_type": "subslide"
    }
   },
   "outputs": [],
   "source": [
    "# assigning weights to labels (for weight penaly during model building)\n",
    "weight = np.ones(shape=(len(y_train_np),1))\n",
    "weight[y_train_np == 0] = (sum(y_train_np) / len(y_train_np))[0]"
   ]
  },
  {
   "cell_type": "markdown",
   "metadata": {
    "id": "GIE2RNpMv0lA",
    "slideshow": {
     "slide_type": "slide"
    }
   },
   "source": [
    "# Model Fit - 1. XGB with CV and feature importance\n",
    "---\n",
    "* Model fit with 5-fold cross validation\n",
    "* Plotting feature importance\n",
    "* Evaluating the recall score\n",
    "* Plotting probability distribution of predicted classes\n",
    "* Plotting precision-recall curve for 2 class model"
   ]
  },
  {
   "cell_type": "code",
   "execution_count": 50,
   "metadata": {
    "id": "u-uD0GmFxnDZ",
    "slideshow": {
     "slide_type": "subslide"
    }
   },
   "outputs": [],
   "source": [
    "X_y_train = pd.concat([X_train_dummied, y_train], axis=1)"
   ]
  },
  {
   "cell_type": "code",
   "execution_count": 186,
   "metadata": {
    "id": "uVdJxiEHwRf1",
    "slideshow": {
     "slide_type": "subslide"
    }
   },
   "outputs": [],
   "source": [
    "def modelfit(alg, dtrain, predictors, response_var='label', useTrainCV=True, cv_folds=5, early_stopping_rounds=100):\n",
    "    \n",
    "    if useTrainCV:\n",
    "        xgb_param = alg.get_xgb_params()\n",
    "        xgtrain = xgb.DMatrix(dtrain[predictors].values, label=dtrain[response_var].values)\n",
    "        cvresult = xgb.cv(xgb_param, xgtrain, num_boost_round=alg.get_params()['n_estimators'], nfold=cv_folds,\n",
    "            metrics='auc', early_stopping_rounds=early_stopping_rounds)\n",
    "        alg.set_params(n_estimators=cvresult.shape[0])\n",
    "    \n",
    "    #Fit the algorithm on the data\n",
    "    alg.fit(dtrain[predictors], dtrain[response_var], eval_metric='auc')\n",
    "        \n",
    "    #Predict training set:\n",
    "    dtrain_predictions = alg.predict(dtrain[predictors])\n",
    "    dtrain_predprob = alg.predict_proba(dtrain[predictors])[:,1]\n",
    "        \n",
    "    #Print model report:\n",
    "    print (\"\\Report\")\n",
    "    print (\"AUC Score (Train): %f\" % roc_auc_score(dtrain[response_var], dtrain_predprob))\n",
    "    \n",
    "    print('Feature Importance Score')\n",
    "    ax = xgb.plot_importance(alg)\n",
    "    ax.figure.set_size_inches(10,8)"
   ]
  },
  {
   "cell_type": "code",
   "execution_count": 187,
   "metadata": {
    "colab": {
     "base_uri": "https://localhost:8080/",
     "height": 567
    },
    "id": "dx7zrlnCwW80",
    "outputId": "42709fca-1656-4129-d07d-6c7d498a166d",
    "slideshow": {
     "slide_type": "subslide"
    }
   },
   "outputs": [
    {
     "name": "stdout",
     "output_type": "stream",
     "text": [
      "\\Report\n",
      "AUC Score (Train): 0.851710\n",
      "Feature Importance Score\n"
     ]
    },
    {
     "data": {
      "image/png": "[encoded data removed]",
      "text/plain": [
       "<Figure size 720x576 with 1 Axes>"
      ]
     },
     "metadata": {
      "needs_background": "light"
     },
     "output_type": "display_data"
    }
   ],
   "source": [
    "xgb1 = XGBClassifier(learning_rate =0.1, n_estimators=200, max_depth=5, min_child_weight=1, \n",
    "                     gamma=0, subsample=0.8, colsample_bytree=0.8, objective= 'binary:logistic', \n",
    "                     nthread=4, scale_pos_weight=(1-sum(y_train['label'])/len(y_train)))\n",
    "\n",
    "modelfit(xgb1, X_y_train, X_y_train.columns.tolist()[:-1], response_var='label')"
   ]
  },
  {
   "cell_type": "code",
   "execution_count": 81,
   "metadata": {
    "id": "cKm7VILv1rNI",
    "slideshow": {
     "slide_type": "subslide"
    }
   },
   "outputs": [],
   "source": [
    "predicted_vals = xgb1.predict(X_test_dummied)"
   ]
  },
  {
   "cell_type": "code",
   "execution_count": 82,
   "metadata": {
    "colab": {
     "base_uri": "https://localhost:8080/"
    },
    "id": "2y0mg-It4NQ_",
    "outputId": "3842c2f8-1b0b-467e-a2b1-a442b81ad8af",
    "slideshow": {
     "slide_type": "subslide"
    }
   },
   "outputs": [
    {
     "data": {
      "text/plain": [
       "0.02097902097902098"
      ]
     },
     "execution_count": 82,
     "metadata": {},
     "output_type": "execute_result"
    }
   ],
   "source": [
    "recall_score(y_test, predicted_vals)"
   ]
  },
  {
   "cell_type": "code",
   "execution_count": 83,
   "metadata": {
    "colab": {
     "base_uri": "https://localhost:8080/"
    },
    "id": "a-KYLWfS4PJQ",
    "outputId": "4bf28179-d1fe-48d4-c747-48a3c2060c42",
    "slideshow": {
     "slide_type": "subslide"
    }
   },
   "outputs": [
    {
     "data": {
      "text/plain": [
       "array([[9632,   19],\n",
       "       [1260,   27]])"
      ]
     },
     "execution_count": 83,
     "metadata": {},
     "output_type": "execute_result"
    }
   ],
   "source": [
    "confusion_matrix(y_test, predicted_vals)"
   ]
  },
  {
   "cell_type": "code",
   "execution_count": 84,
   "metadata": {
    "colab": {
     "base_uri": "https://localhost:8080/",
     "height": 494
    },
    "id": "JKzv8vQaBVa7",
    "outputId": "8d3a00f1-6ffd-44b9-9997-ac3ec2200234",
    "slideshow": {
     "slide_type": "subslide"
    }
   },
   "outputs": [
    {
     "data": {
      "image/png": "[encoded data removed]",
      "text/plain": [
       "<Figure size 1080x504 with 1 Axes>"
      ]
     },
     "metadata": {
      "needs_background": "light"
     },
     "output_type": "display_data"
    }
   ],
   "source": [
    "predicted_probs = xgb1.predict_proba(X_test_dummied)\n",
    "prediction = predicted_probs[:,1]\n",
    "\n",
    "plt.figure(figsize=(15,7))\n",
    "plt.hist(prediction[y_test['label'] == 0], bins=100, label='Negatives')\n",
    "plt.hist(prediction[y_test['label'] == 1], bins=100, label='Positives', alpha=0.7, color='r')\n",
    "plt.xlabel('Probability of being Positive Class', fontsize=25)\n",
    "plt.ylabel('Number of records in each bucket', fontsize=25)\n",
    "plt.legend(fontsize=15)\n",
    "plt.tick_params(axis='both', labelsize=25, pad=5)\n",
    "plt.show() "
   ]
  },
  {
   "cell_type": "code",
   "execution_count": 85,
   "metadata": {
    "colab": {
     "base_uri": "https://localhost:8080/",
     "height": 295
    },
    "id": "E1T5UOdpAx_2",
    "outputId": "60e6aa07-5a13-4c2e-a6e2-a56f0b496229",
    "slideshow": {
     "slide_type": "subslide"
    }
   },
   "outputs": [
    {
     "data": {
      "image/png": "[encoded data removed]",
      "text/plain": [
       "<Figure size 432x288 with 1 Axes>"
      ]
     },
     "metadata": {
      "needs_background": "light"
     },
     "output_type": "display_data"
    }
   ],
   "source": [
    "# y_score = classifier.decision_function(X_test)\n",
    "display = PrecisionRecallDisplay.from_predictions(y_test, predicted_probs[:, 1])\n",
    "_ = display.ax_.set_title(\"2-class Precision-Recall curve\")"
   ]
  },
  {
   "cell_type": "markdown",
   "metadata": {
    "id": "Hb6rpaBBFdcN",
    "slideshow": {
     "slide_type": "slide"
    }
   },
   "source": [
    "# Model Fit - 2. XGB with Random Grid Search for hyperparameter tuning\n",
    "---\n",
    "* Model fit with Grid Search CV\n",
    "* Limitations of Grid Search CV - computation power and time\n",
    "* Model evaluation\n",
    "* Plotting probability distribution of predicted classes"
   ]
  },
  {
   "cell_type": "code",
   "execution_count": 86,
   "metadata": {
    "colab": {
     "base_uri": "https://localhost:8080/"
    },
    "id": "V17dGQVWFtO_",
    "outputId": "406449a4-e28f-4db6-8d81-514b3bd4ede8",
    "slideshow": {
     "slide_type": "subslide"
    }
   },
   "outputs": [
    {
     "name": "stdout",
     "output_type": "stream",
     "text": [
      "Fitting 5 folds for each of 32 candidates, totalling 160 fits\n",
      "CPU times: user 10.9 s, sys: 576 ms, total: 11.4 s\n",
      "Wall time: 10min 16s\n"
     ]
    }
   ],
   "source": [
    "# Search space too large - takes more than 2 hrs for optimized search\n",
    "%%time\n",
    "param_test1  = {\n",
    " 'max_depth': list(range(2,3,2)),\n",
    " 'learning_rate': [0.1, 0.01],\n",
    " 'min_child_weight': list(range(1,3,1)),\n",
    "    'subsample':[0.5,1.0],\n",
    "    'colsample_bytree' : [0.5,1.0],\n",
    "    'n_estimators' : [300, 400]\n",
    "}\n",
    "\n",
    "kfold = StratifiedKFold(n_splits=5, shuffle=True)\n",
    "gsearch1 = GridSearchCV(estimator = \n",
    "                        XGBClassifier(objective= 'binary:logistic', scale_pos_weight=(1-sum(y_train['label'])/len(y_train))), \n",
    "                        param_grid = param_test1, scoring='recall',n_jobs=-1, cv=kfold, verbose=1)\n",
    "\n",
    "gfit = gsearch1.fit(X_y_train[X_y_train.columns.tolist()[:-1]],X_y_train['label'])"
   ]
  },
  {
   "cell_type": "code",
   "execution_count": 87,
   "metadata": {
    "colab": {
     "base_uri": "https://localhost:8080/"
    },
    "id": "wuWfWA4Wv_ft",
    "outputId": "68981e85-f391-43ad-8159-555373bfb96a",
    "slideshow": {
     "slide_type": "subslide"
    }
   },
   "outputs": [
    {
     "data": {
      "text/plain": [
       "({'colsample_bytree': 0.5,\n",
       "  'learning_rate': 0.1,\n",
       "  'max_depth': 2,\n",
       "  'min_child_weight': 2,\n",
       "  'n_estimators': 400,\n",
       "  'subsample': 0.5},\n",
       " 0.0006666666666666668)"
      ]
     },
     "execution_count": 87,
     "metadata": {},
     "output_type": "execute_result"
    }
   ],
   "source": [
    "gfit.best_params_, gfit.best_score_"
   ]
  },
  {
   "cell_type": "code",
   "execution_count": 88,
   "metadata": {
    "id": "aMp3BFSpz-m_",
    "slideshow": {
     "slide_type": "subslide"
    }
   },
   "outputs": [],
   "source": [
    "predicted_vals = gfit.best_estimator_.predict(X_test_dummied)"
   ]
  },
  {
   "cell_type": "code",
   "execution_count": 89,
   "metadata": {
    "colab": {
     "base_uri": "https://localhost:8080/"
    },
    "id": "mtzxsOuQ0bLy",
    "outputId": "eb01797e-27b9-4fb2-a67b-031bfd27282f",
    "slideshow": {
     "slide_type": "subslide"
    }
   },
   "outputs": [
    {
     "data": {
      "text/plain": [
       "0.002331002331002331"
      ]
     },
     "execution_count": 89,
     "metadata": {},
     "output_type": "execute_result"
    }
   ],
   "source": [
    "recall_score(y_test, predicted_vals)"
   ]
  },
  {
   "cell_type": "code",
   "execution_count": 92,
   "metadata": {
    "colab": {
     "base_uri": "https://localhost:8080/"
    },
    "id": "9zk0cJHGMm92",
    "outputId": "814991b1-bafa-428a-c776-96a9c190ae63",
    "slideshow": {
     "slide_type": "subslide"
    }
   },
   "outputs": [
    {
     "data": {
      "text/plain": [
       "0.8826110806363138"
      ]
     },
     "execution_count": 92,
     "metadata": {},
     "output_type": "execute_result"
    }
   ],
   "source": [
    "accuracy_score(y_test, predicted_vals)"
   ]
  },
  {
   "cell_type": "code",
   "execution_count": 90,
   "metadata": {
    "colab": {
     "base_uri": "https://localhost:8080/"
    },
    "id": "FeaOhBS60kj0",
    "outputId": "83206382-b08c-4af6-9f5b-80a01a803fa0",
    "slideshow": {
     "slide_type": "subslide"
    }
   },
   "outputs": [
    {
     "data": {
      "text/plain": [
       "array([[9651,    0],\n",
       "       [1284,    3]])"
      ]
     },
     "execution_count": 90,
     "metadata": {},
     "output_type": "execute_result"
    }
   ],
   "source": [
    "confusion_matrix(y_test, predicted_vals)"
   ]
  },
  {
   "cell_type": "code",
   "execution_count": 91,
   "metadata": {
    "colab": {
     "base_uri": "https://localhost:8080/",
     "height": 494
    },
    "id": "cqRAZ2qq9Em7",
    "outputId": "37ede1d7-ac4d-42f3-e4e1-4aad64e46418",
    "slideshow": {
     "slide_type": "subslide"
    }
   },
   "outputs": [
    {
     "data": {
      "image/png": "[encoded data removed]",
      "text/plain": [
       "<Figure size 1080x504 with 1 Axes>"
      ]
     },
     "metadata": {
      "needs_background": "light"
     },
     "output_type": "display_data"
    }
   ],
   "source": [
    "predicted_probs = gfit.predict_proba(X_test_dummied)\n",
    "prediction = predicted_probs[:,1]\n",
    "\n",
    "plt.figure(figsize=(15,7))\n",
    "plt.hist(prediction[y_test['label'] == 0], bins=100, label='Negatives')\n",
    "plt.hist(prediction[y_test['label'] == 1], bins=100, label='Positives', alpha=0.7, color='r')\n",
    "plt.xlabel('Probability of being Positive Class', fontsize=25)\n",
    "plt.ylabel('Number of records in each bucket', fontsize=25)\n",
    "plt.legend(fontsize=15)\n",
    "plt.tick_params(axis='both', labelsize=25, pad=5)\n",
    "plt.show() "
   ]
  },
  {
   "cell_type": "markdown",
   "metadata": {
    "id": "I-Vc6d4I6lWA",
    "slideshow": {
     "slide_type": "slide"
    }
   },
   "source": [
    "# Model Fit - 3. XGB with Bayesian Opt for hyperparameter tuning\n",
    "---\n",
    "* Running Bayesian Optimization for getting the best parameters\n",
    "* Fitting model with optimum parameters\n",
    "* Model evaluation and results\n",
    "* Selecting optimal cutoff for high recall"
   ]
  },
  {
   "cell_type": "code",
   "execution_count": 93,
   "metadata": {
    "id": "2V4V_fj75_8o",
    "slideshow": {
     "slide_type": "subslide"
    }
   },
   "outputs": [],
   "source": [
    "log_file = open('xgboost_credit_card_approval.log', 'a')\n",
    "AUCbest = -1.\n",
    "ITERbest = 0\n",
    "\n",
    "# XGB Cv constructor\n",
    "def XGB_CV(\n",
    "          learning_rate,\n",
    "          max_depth,\n",
    "          gamma,\n",
    "          min_child_weight,\n",
    "          max_delta_step,\n",
    "          subsample,\n",
    "          colsample_bytree\n",
    "         ):\n",
    "\n",
    "    global AUCbest\n",
    "    global ITERbest\n",
    "\n",
    "\n",
    "# parameter initialization\n",
    "    paramt = {\n",
    "              'booster' : 'gbtree',\n",
    "              'max_depth' : int(max_depth),\n",
    "              'gamma' : gamma,\n",
    "              'objective' : 'binary:logistic',\n",
    "              'silent' : True,\n",
    "              'eval_metric': 'auc',\n",
    "              'subsample' : max(min(subsample, 1), 0),\n",
    "              'colsample_bytree' : max(min(colsample_bytree, 1), 0),\n",
    "              'min_child_weight' : min_child_weight,\n",
    "              'max_delta_step' : int(max_delta_step),\n",
    "              'learning_rate' : learning_rate,\n",
    "              'scale_pos_weight' :(1-sum(y_train['label'])/len(y_train)),\n",
    "              }\n",
    "# folds  \n",
    "    folds = 5  \n",
    "    cv_score = 0\n",
    "\n",
    "    print(\"\\n Search parameters (%d-fold validation):\\n %s\" % (folds, paramt), file=log_file )\n",
    "    log_file.flush()\n",
    "\n",
    "# adding cv\n",
    "    xgbc = xgb.cv(\n",
    "                    paramt,\n",
    "                    dtrain,\n",
    "                    stratified = True,\n",
    "                    num_boost_round = 300,\n",
    "                    nfold = folds,\n",
    "                    # verbose_eval = 10,\n",
    "                    early_stopping_rounds = 100,\n",
    "                    metrics = 'auc',\n",
    "                    show_stdv = True\n",
    "               )\n",
    "\n",
    "# print train and validation sores\n",
    "    val_score = xgbc['test-auc-mean'].iloc[-1]\n",
    "    train_score = xgbc['train-auc-mean'].iloc[-1]\n",
    "    print(' Stopped after %d iterations with train-auc = %f val-auc = %f ( diff = %f ) train-gini = %f val-gini = %f' % ( len(xgbc), train_score, val_score, (train_score - val_score), (train_score*2-1),\n",
    "(val_score*2-1)) )\n",
    "    if ( val_score > AUCbest ):\n",
    "        AUCbest = val_score\n",
    "        ITERbest = len(xgbc)\n",
    "\n",
    "    return (val_score*2) - 1"
   ]
  },
  {
   "cell_type": "code",
   "execution_count": 94,
   "metadata": {
    "id": "qAB5Z1gq6L7h",
    "slideshow": {
     "slide_type": "subslide"
    }
   },
   "outputs": [],
   "source": [
    "#initialize xgb matrix with train set\n",
    "dtrain = xgb.DMatrix(X_train_scaled, label = y_train)"
   ]
  },
  {
   "cell_type": "code",
   "execution_count": 95,
   "metadata": {
    "id": "S-YH5g2u6t7e",
    "slideshow": {
     "slide_type": "subslide"
    }
   },
   "outputs": [],
   "source": [
    "#parameter search space\n",
    "XGB_BO = BayesianOptimization(XGB_CV, {\n",
    "                                     'max_depth': (2, 30),\n",
    "                                     'gamma': (0.001, 10.0),\n",
    "                                     'learning_rate':(0.2, 0.8),\n",
    "                                     'min_child_weight': (1, 10),\n",
    "                                     'max_delta_step': (1, 10),\n",
    "                                     'subsample': (0.1, 1.0),\n",
    "                                     'colsample_bytree' :(0.1, 1.0)\n",
    "                                    })"
   ]
  },
  {
   "cell_type": "code",
   "execution_count": 96,
   "metadata": {
    "colab": {
     "base_uri": "https://localhost:8080/"
    },
    "id": "F6GKjwVT68Yd",
    "outputId": "672d4e8d-6875-452a-c84c-ee2467e5835d",
    "slideshow": {
     "slide_type": "subslide"
    }
   },
   "outputs": [
    {
     "name": "stdout",
     "output_type": "stream",
     "text": [
      "----------------------------------------------------------------------------------------------------------------------------------\n",
      "|   iter    |  target   | colsam... |   gamma   | learni... | max_de... | max_depth | min_ch... | subsample |\n",
      "-------------------------------------------------------------------------------------------------------------\n",
      " Stopped after 300 iterations with train-auc = 0.831855 val-auc = 0.662881 ( diff = 0.168973 ) train-gini = 0.663709 val-gini = 0.325763\n",
      "| \u001b[0m 1       \u001b[0m | \u001b[0m 0.3258  \u001b[0m | \u001b[0m 0.1645  \u001b[0m | \u001b[0m 8.435   \u001b[0m | \u001b[0m 0.7892  \u001b[0m | \u001b[0m 2.852   \u001b[0m | \u001b[0m 29.8    \u001b[0m | \u001b[0m 3.406   \u001b[0m | \u001b[0m 0.808   \u001b[0m |\n",
      " Stopped after 300 iterations with train-auc = 0.953170 val-auc = 0.724325 ( diff = 0.228845 ) train-gini = 0.906340 val-gini = 0.448649\n",
      "| \u001b[95m 2       \u001b[0m | \u001b[95m 0.4486  \u001b[0m | \u001b[95m 0.7606  \u001b[0m | \u001b[95m 3.572   \u001b[0m | \u001b[95m 0.4693  \u001b[0m | \u001b[95m 6.473   \u001b[0m | \u001b[95m 21.97   \u001b[0m | \u001b[95m 3.692   \u001b[0m | \u001b[95m 0.7953  \u001b[0m |\n",
      " Stopped after 300 iterations with train-auc = 0.962345 val-auc = 0.726511 ( diff = 0.235834 ) train-gini = 0.924691 val-gini = 0.453022\n",
      "| \u001b[95m 3       \u001b[0m | \u001b[95m 0.453   \u001b[0m | \u001b[95m 0.8267  \u001b[0m | \u001b[95m 0.7191  \u001b[0m | \u001b[95m 0.6715  \u001b[0m | \u001b[95m 4.114   \u001b[0m | \u001b[95m 6.683   \u001b[0m | \u001b[95m 3.612   \u001b[0m | \u001b[95m 0.705   \u001b[0m |\n",
      " Stopped after 300 iterations with train-auc = 0.891963 val-auc = 0.689937 ( diff = 0.202026 ) train-gini = 0.783926 val-gini = 0.379874\n",
      "| \u001b[0m 4       \u001b[0m | \u001b[0m 0.3799  \u001b[0m | \u001b[0m 0.7104  \u001b[0m | \u001b[0m 0.3893  \u001b[0m | \u001b[0m 0.5115  \u001b[0m | \u001b[0m 5.399   \u001b[0m | \u001b[0m 6.603   \u001b[0m | \u001b[0m 7.372   \u001b[0m | \u001b[0m 0.3362  \u001b[0m |\n",
      " Stopped after 300 iterations with train-auc = 0.921841 val-auc = 0.706111 ( diff = 0.215729 ) train-gini = 0.843682 val-gini = 0.412223\n",
      "| \u001b[0m 5       \u001b[0m | \u001b[0m 0.4122  \u001b[0m | \u001b[0m 0.9617  \u001b[0m | \u001b[0m 5.287   \u001b[0m | \u001b[0m 0.3343  \u001b[0m | \u001b[0m 8.364   \u001b[0m | \u001b[0m 28.86   \u001b[0m | \u001b[0m 5.827   \u001b[0m | \u001b[0m 0.6806  \u001b[0m |\n",
      " Stopped after 300 iterations with train-auc = 0.721614 val-auc = 0.613200 ( diff = 0.108414 ) train-gini = 0.443228 val-gini = 0.226400\n",
      "| \u001b[0m 6       \u001b[0m | \u001b[0m 0.2264  \u001b[0m | \u001b[0m 0.417   \u001b[0m | \u001b[0m 5.146   \u001b[0m | \u001b[0m 0.5482  \u001b[0m | \u001b[0m 9.225   \u001b[0m | \u001b[0m 4.318   \u001b[0m | \u001b[0m 7.996   \u001b[0m | \u001b[0m 0.2462  \u001b[0m |\n",
      " Stopped after 300 iterations with train-auc = 0.971727 val-auc = 0.725017 ( diff = 0.246710 ) train-gini = 0.943453 val-gini = 0.450034\n",
      "| \u001b[0m 7       \u001b[0m | \u001b[0m 0.45    \u001b[0m | \u001b[0m 0.8978  \u001b[0m | \u001b[0m 0.001   \u001b[0m | \u001b[0m 0.6956  \u001b[0m | \u001b[0m 3.077   \u001b[0m | \u001b[0m 7.242   \u001b[0m | \u001b[0m 3.091   \u001b[0m | \u001b[0m 0.797   \u001b[0m |\n",
      " Stopped after 300 iterations with train-auc = 0.964263 val-auc = 0.729713 ( diff = 0.234550 ) train-gini = 0.928526 val-gini = 0.459427\n",
      "| \u001b[95m 8       \u001b[0m | \u001b[95m 0.4594  \u001b[0m | \u001b[95m 1.0     \u001b[0m | \u001b[95m 0.001   \u001b[0m | \u001b[95m 0.5525  \u001b[0m | \u001b[95m 4.426   \u001b[0m | \u001b[95m 5.051   \u001b[0m | \u001b[95m 1.0     \u001b[0m | \u001b[95m 1.0     \u001b[0m |\n",
      " Stopped after 300 iterations with train-auc = 0.973557 val-auc = 0.739383 ( diff = 0.234174 ) train-gini = 0.947114 val-gini = 0.478765\n",
      "| \u001b[95m 9       \u001b[0m | \u001b[95m 0.4788  \u001b[0m | \u001b[95m 1.0     \u001b[0m | \u001b[95m 0.3596  \u001b[0m | \u001b[95m 0.2     \u001b[0m | \u001b[95m 10.0    \u001b[0m | \u001b[95m 22.86   \u001b[0m | \u001b[95m 5.102   \u001b[0m | \u001b[95m 0.7319  \u001b[0m |\n",
      " Stopped after 300 iterations with train-auc = 0.974999 val-auc = 0.748092 ( diff = 0.226907 ) train-gini = 0.949998 val-gini = 0.496184\n",
      "| \u001b[95m 10      \u001b[0m | \u001b[95m 0.4962  \u001b[0m | \u001b[95m 1.0     \u001b[0m | \u001b[95m 0.001   \u001b[0m | \u001b[95m 0.2     \u001b[0m | \u001b[95m 10.0    \u001b[0m | \u001b[95m 20.35   \u001b[0m | \u001b[95m 1.348   \u001b[0m | \u001b[95m 1.0     \u001b[0m |\n",
      " Stopped after 300 iterations with train-auc = 0.913181 val-auc = 0.698455 ( diff = 0.214726 ) train-gini = 0.826362 val-gini = 0.396910\n",
      "| \u001b[0m 11      \u001b[0m | \u001b[0m 0.3969  \u001b[0m | \u001b[0m 1.0     \u001b[0m | \u001b[0m 0.001   \u001b[0m | \u001b[0m 0.2     \u001b[0m | \u001b[0m 8.829   \u001b[0m | \u001b[0m 15.81   \u001b[0m | \u001b[0m 1.0     \u001b[0m | \u001b[0m 0.1     \u001b[0m |\n",
      " Stopped after 184 iterations with train-auc = 0.975001 val-auc = 0.749405 ( diff = 0.225596 ) train-gini = 0.950002 val-gini = 0.498811\n",
      "| \u001b[95m 12      \u001b[0m | \u001b[95m 0.4988  \u001b[0m | \u001b[95m 1.0     \u001b[0m | \u001b[95m 0.001   \u001b[0m | \u001b[95m 0.2     \u001b[0m | \u001b[95m 10.0    \u001b[0m | \u001b[95m 23.24   \u001b[0m | \u001b[95m 1.0     \u001b[0m | \u001b[95m 1.0     \u001b[0m |\n",
      "=============================================================================================================\n",
      "CPU times: user 24min 36s, sys: 3.24 s, total: 24min 39s\n",
      "Wall time: 24min 39s\n"
     ]
    }
   ],
   "source": [
    "%%time\n",
    "print('-'*130)\n",
    "print('-'*130, file=log_file)\n",
    "log_file.flush()\n",
    "\n",
    "with warnings.catch_warnings():\n",
    "    warnings.filterwarnings('ignore')\n",
    "    XGB_BO.maximize(init_points=4, n_iter=8, acq='ei', xi=0.0)"
   ]
  },
  {
   "cell_type": "code",
   "execution_count": 97,
   "metadata": {
    "id": "dhntq3SYOsPX",
    "slideshow": {
     "slide_type": "subslide"
    }
   },
   "outputs": [],
   "source": [
    "# taking the values with highest val-AUC and minimum diff\n",
    "xgb_opt_bayesian = XGBClassifier(learning_rate =  0.2, n_estimators=300, max_depth=23, min_child_weight=1.0, \n",
    "                     gamma=  0.001, subsample=1.0, colsample_bytree= 1.0, objective= 'binary:logistic', \n",
    "                      max_delta_step= 10, scale_pos_weight=(1-sum(y_train['label'])/len(y_train)))"
   ]
  },
  {
   "cell_type": "code",
   "execution_count": 100,
   "metadata": {
    "colab": {
     "base_uri": "https://localhost:8080/"
    },
    "id": "Imk2ZY0cPQo5",
    "outputId": "ad9e4416-1cdf-4743-b0fe-59c1930cd020",
    "slideshow": {
     "slide_type": "subslide"
    }
   },
   "outputs": [
    {
     "name": "stdout",
     "output_type": "stream",
     "text": [
      "CPU times: user 55.5 s, sys: 88.7 ms, total: 55.6 s\n",
      "Wall time: 55.4 s\n"
     ]
    },
    {
     "data": {
      "text/plain": [
       "XGBClassifier(colsample_bytree=1.0, gamma=0.001, learning_rate=0.2,\n",
       "              max_delta_step=10, max_depth=23, min_child_weight=1.0,\n",
       "              n_estimators=300, scale_pos_weight=0.882283788549708,\n",
       "              subsample=1.0)"
      ]
     },
     "execution_count": 100,
     "metadata": {},
     "output_type": "execute_result"
    }
   ],
   "source": [
    "%%time\n",
    "xgb_opt_bayesian.fit(X_train_scaled, y_train['label'])"
   ]
  },
  {
   "cell_type": "code",
   "execution_count": 101,
   "metadata": {
    "id": "UhyfF3PnP2fX",
    "slideshow": {
     "slide_type": "subslide"
    }
   },
   "outputs": [],
   "source": [
    "prediction_vals = xgb_opt_bayesian.predict(X_test_scaled)"
   ]
  },
  {
   "cell_type": "code",
   "execution_count": 102,
   "metadata": {
    "colab": {
     "base_uri": "https://localhost:8080/"
    },
    "id": "kUFwGQRjQRFH",
    "outputId": "f0a8dcc9-9ae6-4b32-c8af-7d62f75baf8e",
    "slideshow": {
     "slide_type": "subslide"
    }
   },
   "outputs": [
    {
     "data": {
      "text/plain": [
       "array([[9521,  130],\n",
       "       [1146,  141]])"
      ]
     },
     "execution_count": 102,
     "metadata": {},
     "output_type": "execute_result"
    }
   ],
   "source": [
    "confusion_matrix(y_test, prediction_vals)"
   ]
  },
  {
   "cell_type": "code",
   "execution_count": 103,
   "metadata": {
    "colab": {
     "base_uri": "https://localhost:8080/",
     "height": 490
    },
    "id": "jKahTStb4r9E",
    "outputId": "35525ddd-ee03-4777-9d7f-d6d1f3e9bdb2",
    "slideshow": {
     "slide_type": "subslide"
    }
   },
   "outputs": [
    {
     "data": {
      "image/png": "[encoded data removed]",
      "text/plain": [
       "<Figure size 1080x504 with 1 Axes>"
      ]
     },
     "metadata": {
      "needs_background": "light"
     },
     "output_type": "display_data"
    }
   ],
   "source": [
    "predicted_probs = xgb_opt_bayesian.predict_proba(X_test_scaled)\n",
    "prediction = predicted_probs[:,1]\n",
    "\n",
    "plt.figure(figsize=(15,7))\n",
    "plt.hist(prediction[y_test['label'] == 0], bins=100, label='Negatives')\n",
    "plt.hist(prediction[y_test['label'] == 1], bins=100, label='Positives', alpha=0.7, color='r')\n",
    "plt.xlabel('Probability of being Positive Class', fontsize=25)\n",
    "plt.ylabel('Number of records in each bucket', fontsize=25)\n",
    "plt.legend(fontsize=15)\n",
    "plt.tick_params(axis='both', labelsize=25, pad=1)\n",
    "plt.show() "
   ]
  },
  {
   "cell_type": "markdown",
   "metadata": {
    "slideshow": {
     "slide_type": "slide"
    }
   },
   "source": [
    "### Selecting optimal cutoff for high recall\n",
    "* This helps us minimize the False Positives"
   ]
  },
  {
   "cell_type": "code",
   "execution_count": 105,
   "metadata": {
    "colab": {
     "base_uri": "https://localhost:8080/"
    },
    "id": "QI3KYcx5GYSx",
    "outputId": "7f4427df-0561-4353-dba1-1793fda326ff",
    "slideshow": {
     "slide_type": "subslide"
    }
   },
   "outputs": [
    {
     "name": "stdout",
     "output_type": "stream",
     "text": [
      "CPU times: user 935 ms, sys: 2.99 ms, total: 938 ms\n",
      "Wall time: 935 ms\n"
     ]
    }
   ],
   "source": [
    "%%time\n",
    "predicted_probs_for_cutoff = xgb_opt_bayesian.predict_proba(X_test_scaled)\n",
    "predicted_probs_for_cutoff"
   ]
  },
  {
   "cell_type": "code",
   "execution_count": 139,
   "metadata": {
    "id": "kQZV2cBnGvnU",
    "slideshow": {
     "slide_type": "subslide"
    }
   },
   "outputs": [],
   "source": [
    "predicted_probs_1 = np.array(predicted_probs_for_cutoff[:,1]).reshape(10938,1)"
   ]
  },
  {
   "cell_type": "code",
   "execution_count": 140,
   "metadata": {
    "id": "4ZlUmv65HV9S",
    "slideshow": {
     "slide_type": "subslide"
    }
   },
   "outputs": [],
   "source": [
    "predicted_probs_1[predicted_probs_1 > 0.013] = 1\n",
    "predicted_probs_1[predicted_probs_1 <= 0.013] = 0"
   ]
  },
  {
   "cell_type": "code",
   "execution_count": 141,
   "metadata": {
    "colab": {
     "base_uri": "https://localhost:8080/"
    },
    "id": "f7VJJMsyHgsr",
    "outputId": "04495fc7-d1c8-458e-dc23-03a6ac3771b7",
    "slideshow": {
     "slide_type": "subslide"
    }
   },
   "outputs": [
    {
     "data": {
      "text/plain": [
       "array([[5482, 4169],\n",
       "       [ 371,  916]])"
      ]
     },
     "execution_count": 141,
     "metadata": {},
     "output_type": "execute_result"
    }
   ],
   "source": [
    "confusion_matrix(y_test, predicted_probs_1)"
   ]
  },
  {
   "cell_type": "code",
   "execution_count": 143,
   "metadata": {
    "colab": {
     "base_uri": "https://localhost:8080/"
    },
    "id": "mLKoUa8mIPkY",
    "outputId": "0d559c93-9160-4726-a13a-9416089b8928",
    "slideshow": {
     "slide_type": "subslide"
    }
   },
   "outputs": [
    {
     "data": {
      "text/plain": [
       "0.7117327117327117"
      ]
     },
     "execution_count": 143,
     "metadata": {},
     "output_type": "execute_result"
    }
   ],
   "source": [
    "# 70 percent recall\n",
    "recall_score(y_test, predicted_probs_1)"
   ]
  },
  {
   "cell_type": "code",
   "execution_count": 145,
   "metadata": {
    "colab": {
     "base_uri": "https://localhost:8080/"
    },
    "id": "0LsTAXB0JOos",
    "outputId": "dbbfa485-e061-4185-8a99-87c915e294f5",
    "slideshow": {
     "slide_type": "subslide"
    }
   },
   "outputs": [
    {
     "data": {
      "text/plain": [
       "0.5849332601938197"
      ]
     },
     "execution_count": 145,
     "metadata": {},
     "output_type": "execute_result"
    }
   ],
   "source": [
    "accuracy_score(y_test, predicted_probs_1)"
   ]
  },
  {
   "cell_type": "code",
   "execution_count": 146,
   "metadata": {
    "colab": {
     "base_uri": "https://localhost:8080/",
     "height": 295
    },
    "id": "gKWWn7t0JBL7",
    "outputId": "db0a4571-acc5-40b2-9642-b7ebb8842d23",
    "slideshow": {
     "slide_type": "subslide"
    }
   },
   "outputs": [
    {
     "data": {
      "image/png": "[encoded data removed]",
      "text/plain": [
       "<Figure size 432x288 with 1 Axes>"
      ]
     },
     "metadata": {
      "needs_background": "light"
     },
     "output_type": "display_data"
    }
   ],
   "source": [
    "# y_score = classifier.decision_function(X_test)\n",
    "display = PrecisionRecallDisplay.from_predictions(y_test, prediction)\n",
    "_ = display.ax_.set_title(\"2-class Precision-Recall curve\")"
   ]
  },
  {
   "cell_type": "markdown",
   "metadata": {
    "id": "eFu7oJdt6lWB",
    "slideshow": {
     "slide_type": "slide"
    }
   },
   "source": [
    "# Model Fit - 4. Single Layer NN\n",
    "---\n",
    "* Fitting a single layer model\n",
    "* Model evaluation and results\n",
    "* Next steps for greater accuracy"
   ]
  },
  {
   "cell_type": "code",
   "execution_count": 53,
   "metadata": {
    "id": "dRPOP3996lWC",
    "slideshow": {
     "slide_type": "subslide"
    }
   },
   "outputs": [],
   "source": [
    "import tensorflow as tf\n",
    "from tensorflow import keras\n",
    "from tensorflow.keras import layers\n",
    "from tensorflow.keras.models import Sequential\n",
    "from tensorflow.keras.layers import Dense"
   ]
  },
  {
   "cell_type": "code",
   "execution_count": 54,
   "metadata": {
    "colab": {
     "base_uri": "https://localhost:8080/"
    },
    "id": "cZ4kMjhu6lWC",
    "outputId": "f4fb412e-dadb-4c41-a750-5324f9e60597",
    "slideshow": {
     "slide_type": "subslide"
    }
   },
   "outputs": [
    {
     "name": "stdout",
     "output_type": "stream",
     "text": [
      "Epoch 1/5\n",
      "2552/2552 [==============================] - 3s 925us/step - loss: 0.3853 - accuracy: 0.8753\n",
      "Epoch 2/5\n",
      "2552/2552 [==============================] - 2s 921us/step - loss: 0.3630 - accuracy: 0.8819\n",
      "Epoch 3/5\n",
      "2552/2552 [==============================] - 2s 934us/step - loss: 0.3605 - accuracy: 0.8822\n",
      "Epoch 4/5\n",
      "2552/2552 [==============================] - 2s 934us/step - loss: 0.3586 - accuracy: 0.8823\n",
      "Epoch 5/5\n",
      "2552/2552 [==============================] - 2s 943us/step - loss: 0.3576 - accuracy: 0.8823\n"
     ]
    },
    {
     "data": {
      "text/plain": [
       "<keras.callbacks.History at 0x7f7f507262e8>"
      ]
     },
     "execution_count": 54,
     "metadata": {},
     "output_type": "execute_result"
    }
   ],
   "source": [
    "# define the keras model\n",
    "model = Sequential()\n",
    "model.add(Dense(12, input_shape=(X_train_scaled.shape[1],), activation='relu'))\n",
    "# model.add(Dense(8, activation='relu'))\n",
    "model.add(Dense(1, activation='sigmoid'))\n",
    "# compile the keras model\n",
    "model.compile(loss='binary_crossentropy', optimizer='adam', metrics=['accuracy'])\n",
    "# fit the keras model on the dataset\n",
    "model.fit(X_train_scaled, y_train, epochs=5, batch_size=10)\n"
   ]
  },
  {
   "cell_type": "code",
   "execution_count": 55,
   "metadata": {
    "colab": {
     "base_uri": "https://localhost:8080/"
    },
    "id": "oxj0Vf4u6lWC",
    "outputId": "85c4093a-e331-4bea-c6de-eab1b32eeb52",
    "slideshow": {
     "slide_type": "subslide"
    }
   },
   "outputs": [
    {
     "name": "stdout",
     "output_type": "stream",
     "text": [
      "342/342 [==============================] - 0s 618us/step - loss: 0.3593 - accuracy: 0.8823\n"
     ]
    },
    {
     "data": {
      "text/plain": [
       "0.8823367953300476"
      ]
     },
     "execution_count": 55,
     "metadata": {},
     "output_type": "execute_result"
    }
   ],
   "source": [
    "# evaluate the keras model\n",
    "_, accuracy = model.evaluate(X_test_scaled, y_test)\n",
    "accuracy"
   ]
  },
  {
   "cell_type": "code",
   "execution_count": 56,
   "metadata": {
    "id": "JGG3KOnz6lWC",
    "slideshow": {
     "slide_type": "subslide"
    }
   },
   "outputs": [],
   "source": [
    "preds = model.predict(X_test_scaled)"
   ]
  },
  {
   "cell_type": "code",
   "execution_count": 57,
   "metadata": {
    "id": "ReHPTB5n6lWD",
    "slideshow": {
     "slide_type": "subslide"
    }
   },
   "outputs": [],
   "source": [
    "preds[preds>=0.11] = 1\n",
    "preds[preds<0.11] = 0\n",
    "y_pred = preds"
   ]
  },
  {
   "cell_type": "code",
   "execution_count": 156,
   "metadata": {
    "colab": {
     "base_uri": "https://localhost:8080/"
    },
    "id": "0Euzc-fL6lWD",
    "outputId": "4181fde6-50ac-4514-8326-035d43d4a865",
    "slideshow": {
     "slide_type": "subslide"
    }
   },
   "outputs": [
    {
     "data": {
      "text/plain": [
       "array([[3840, 5811],\n",
       "       [ 397,  890]])"
      ]
     },
     "execution_count": 156,
     "metadata": {},
     "output_type": "execute_result"
    }
   ],
   "source": [
    "confusion_matrix(y_test, y_pred)"
   ]
  },
  {
   "cell_type": "code",
   "execution_count": 58,
   "metadata": {
    "colab": {
     "base_uri": "https://localhost:8080/"
    },
    "id": "lhDir9FU6lWD",
    "outputId": "ff0ad592-953e-4e28-b53d-fd35270a4b56",
    "slideshow": {
     "slide_type": "subslide"
    }
   },
   "outputs": [
    {
     "data": {
      "text/plain": [
       "0.5221445221445221"
      ]
     },
     "execution_count": 58,
     "metadata": {},
     "output_type": "execute_result"
    }
   ],
   "source": [
    "# close to 52% recall\n",
    "recall_score(y_test, y_pred)"
   ]
  },
  {
   "cell_type": "markdown",
   "metadata": {
    "id": "XeuHOnGs6lWE",
    "slideshow": {
     "slide_type": "slide"
    }
   },
   "source": [
    "# Model Fit - 5. Simple Decision Tree without parameter tuning\n",
    "---\n",
    "* Fitting a single decision tree\n",
    "* Model evaluation and results\n",
    "* Limitations of Decision Tree"
   ]
  },
  {
   "cell_type": "code",
   "execution_count": 61,
   "metadata": {
    "id": "4W69dwmD6lWE",
    "slideshow": {
     "slide_type": "subslide"
    }
   },
   "outputs": [],
   "source": [
    "DT_model = DecisionTreeClassifier()\n",
    "DT_model.fit(X_train_scaled, y_train)\n",
    "y_pred = DT_model.predict(X_test_scaled)"
   ]
  },
  {
   "cell_type": "code",
   "execution_count": 62,
   "metadata": {
    "colab": {
     "base_uri": "https://localhost:8080/"
    },
    "id": "sAgpOOB76lWE",
    "outputId": "db58558c-365d-4ecd-b895-2deeb88d6fad",
    "slideshow": {
     "slide_type": "subslide"
    }
   },
   "outputs": [
    {
     "data": {
      "text/plain": [
       "array([[9002,  649],\n",
       "       [ 990,  297]])"
      ]
     },
     "execution_count": 62,
     "metadata": {},
     "output_type": "execute_result"
    }
   ],
   "source": [
    "confusion_matrix(y_test, y_pred)"
   ]
  },
  {
   "cell_type": "code",
   "execution_count": 63,
   "metadata": {
    "colab": {
     "base_uri": "https://localhost:8080/",
     "height": 490
    },
    "id": "ciWGE0NUXqPt",
    "outputId": "10308f72-0fce-420e-83b7-64e5f0677db8",
    "slideshow": {
     "slide_type": "subslide"
    }
   },
   "outputs": [
    {
     "data": {
      "image/png": "[encoded data removed]",
      "text/plain": [
       "<Figure size 1080x504 with 1 Axes>"
      ]
     },
     "metadata": {
      "needs_background": "light"
     },
     "output_type": "display_data"
    }
   ],
   "source": [
    "predicted_probs = DT_model.predict_proba(X_test_scaled)\n",
    "prediction = predicted_probs[:,1]\n",
    "\n",
    "plt.figure(figsize=(15,7))\n",
    "plt.hist(prediction[y_test['label'] == 0], bins=100, label='Negatives')\n",
    "plt.hist(prediction[y_test['label'] == 1], bins=100, label='Positives', alpha=0.7, color='r')\n",
    "plt.xlabel('Probability of being Positive Class', fontsize=25)\n",
    "plt.ylabel('Number of records in each bucket', fontsize=25)\n",
    "plt.legend(fontsize=15)\n",
    "plt.tick_params(axis='both', labelsize=25, pad=1)\n",
    "plt.show() "
   ]
  },
  {
   "cell_type": "code",
   "execution_count": 64,
   "metadata": {
    "id": "eBT790CsaOGB",
    "slideshow": {
     "slide_type": "subslide"
    }
   },
   "outputs": [],
   "source": [
    "prediction[prediction>=0.01] = 1\n",
    "prediction[prediction<0.01] = 0"
   ]
  },
  {
   "cell_type": "code",
   "execution_count": 65,
   "metadata": {
    "colab": {
     "base_uri": "https://localhost:8080/"
    },
    "id": "2hMQlFjjao_I",
    "outputId": "98fe7c00-0ed5-4f2d-d40e-3dc43a8ff003",
    "slideshow": {
     "slide_type": "subslide"
    }
   },
   "outputs": [
    {
     "data": {
      "text/plain": [
       "array([[7557, 2094],\n",
       "       [ 682,  605]])"
      ]
     },
     "execution_count": 65,
     "metadata": {},
     "output_type": "execute_result"
    }
   ],
   "source": [
    "confusion_matrix(y_test, prediction)"
   ]
  },
  {
   "cell_type": "code",
   "execution_count": 66,
   "metadata": {
    "colab": {
     "base_uri": "https://localhost:8080/"
    },
    "id": "rq4fqMiN6lWE",
    "outputId": "d30a31a4-b02b-4ad9-c348-033d2063485a",
    "slideshow": {
     "slide_type": "subslide"
    }
   },
   "outputs": [
    {
     "data": {
      "text/plain": [
       "0.22415709522045202"
      ]
     },
     "execution_count": 66,
     "metadata": {},
     "output_type": "execute_result"
    }
   ],
   "source": [
    "precision_score(y_test, prediction)"
   ]
  },
  {
   "cell_type": "code",
   "execution_count": 67,
   "metadata": {
    "colab": {
     "base_uri": "https://localhost:8080/"
    },
    "id": "ODZjwmST6lWF",
    "outputId": "8865e10d-0b52-4740-9834-b1f61ec2153b",
    "slideshow": {
     "slide_type": "subslide"
    }
   },
   "outputs": [
    {
     "data": {
      "text/plain": [
       "0.4700854700854701"
      ]
     },
     "execution_count": 67,
     "metadata": {},
     "output_type": "execute_result"
    }
   ],
   "source": [
    "recall_score(y_test, prediction)"
   ]
  },
  {
   "cell_type": "code",
   "execution_count": 68,
   "metadata": {
    "colab": {
     "base_uri": "https://localhost:8080/"
    },
    "id": "FyPq5CzR6lWF",
    "outputId": "c2eaa771-07ed-4916-8460-c30f8f8f4978",
    "slideshow": {
     "slide_type": "subslide"
    }
   },
   "outputs": [
    {
     "data": {
      "text/plain": [
       "0.7462058877308466"
      ]
     },
     "execution_count": 68,
     "metadata": {},
     "output_type": "execute_result"
    }
   ],
   "source": [
    "accuracy_score(y_test, prediction)"
   ]
  },
  {
   "cell_type": "markdown",
   "metadata": {
    "slideshow": {
     "slide_type": "slide"
    }
   },
   "source": [
    "# Conclusion and Next Steps\n",
    "---\n",
    "\n",
    "* Optimizing for recall costs precision, better model should give better results\n",
    "    * Because the current predicted class probability distribution shows a lot of overlap of positive and negative class, a model with better auc or aucpr should give better separation of classes \n",
    "* XGB with bayesian optimization gives the best result, but there is scope for improvement\n",
    "    * Access to more compute power can enable expansion of search space\n",
    "    * GPU compute should decrease runtime for large parameter search space significantly\n",
    "* NN with bayesian optimization could output better accuracy, \n",
    "    * Currently with a single layer NN we achieve ~50% - ~60% recall\n",
    "        * Tuning the hyper parameters for NN requires significant compute power, so better compute power and time could achieve better results\n",
    "* Feature engineering can be improved for better accuracy using the following:\n",
    "    * Continuous variables can be binned\n",
    "    * Interaction and polynomial terms can be introduced\n",
    "    * Dimensional reduction techniques like PCA can be used to decreaase the number of variables while keeping the effect of all variables\n",
    "* Oversampling or undersampling techniques like SMOTE can be tried to overcome class imbalance\n",
    "* Other ensemble learning techniques like stacking or voting can be used to create a better predictor"
   ]
  }
 ],
 "metadata": {
  "accelerator": "GPU",
  "celltoolbar": "Slideshow",
  "colab": {
   "collapsed_sections": [],
   "name": "credit_card_approval_xgb_bayesian.ipynb",
   "provenance": [],
   "toc_visible": true
  },
  "gpuClass": "standard",
  "kernelspec": {
   "display_name": "Python 3",
   "language": "python",
   "name": "python3"
  },
  "language_info": {
   "codemirror_mode": {
    "name": "ipython",
    "version": 3
   },
   "file_extension": ".py",
   "mimetype": "text/x-python",
   "name": "python",
   "nbconvert_exporter": "python",
   "pygments_lexer": "ipython3",
   "version": "3.6.10"
  }
 },
 "nbformat": 4,
 "nbformat_minor": 1
}
