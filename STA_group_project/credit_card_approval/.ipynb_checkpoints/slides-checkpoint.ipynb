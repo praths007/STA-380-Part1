{
 "cells": [
  {
   "cell_type": "code",
   "execution_count": 107,
   "metadata": {
    "colab": {
     "base_uri": "https://localhost:8080/"
    },
    "id": "QxXqrr4oBrz7",
    "outputId": "c6274443-62ec-4e08-dc3d-0a9878484b37",
    "slideshow": {
     "slide_type": "skip"
    }
   },
   "outputs": [],
   "source": [
    "# from google.colab import drive\n",
    "# drive.mount('/content/drive')"
   ]
  },
  {
   "cell_type": "code",
   "execution_count": 108,
   "metadata": {
    "id": "_ZHgORFZ6lVp",
    "slideshow": {
     "slide_type": "skip"
    }
   },
   "outputs": [],
   "source": [
    "import numpy as np\n",
    "import pandas as pd\n",
    "import seaborn as sns\n",
    "import matplotlib.pyplot as plt\n",
    "from sklearn.model_selection import train_test_split"
   ]
  },
  {
   "cell_type": "code",
   "execution_count": 109,
   "metadata": {
    "id": "5uhn34rI6lVq",
    "slideshow": {
     "slide_type": "skip"
    }
   },
   "outputs": [],
   "source": [
    "app = pd.read_csv(\"/home/praths/notebooks/STA_group_project/credit_card_approval/data/application_record.csv\")\n",
    "credit = pd.read_csv(\"/home/praths/notebooks/STA_group_project/credit_card_approval/data/credit_record.csv\")"
   ]
  },
  {
   "cell_type": "code",
   "execution_count": 110,
   "metadata": {
    "colab": {
     "base_uri": "https://localhost:8080/",
     "height": 340
    },
    "id": "qevX-6GG6lVr",
    "outputId": "f6a0f6b2-e4d7-4224-885e-0cf360e976fc",
    "slideshow": {
     "slide_type": "slide"
    }
   },
   "outputs": [
    {
     "name": "stdout",
     "output_type": "stream",
     "text": [
      "(438557, 18)\n"
     ]
    },
    {
     "data": {
      "text/html": [
       "<div>\n",
       "<style scoped>\n",
       "    .dataframe tbody tr th:only-of-type {\n",
       "        vertical-align: middle;\n",
       "    }\n",
       "\n",
       "    .dataframe tbody tr th {\n",
       "        vertical-align: top;\n",
       "    }\n",
       "\n",
       "    .dataframe thead th {\n",
       "        text-align: right;\n",
       "    }\n",
       "</style>\n",
       "<table border=\"1\" class=\"dataframe\">\n",
       "  <thead>\n",
       "    <tr style=\"text-align: right;\">\n",
       "      <th></th>\n",
       "      <th>ID</th>\n",
       "      <th>CODE_GENDER</th>\n",
       "      <th>FLAG_OWN_CAR</th>\n",
       "      <th>FLAG_OWN_REALTY</th>\n",
       "      <th>CNT_CHILDREN</th>\n",
       "      <th>AMT_INCOME_TOTAL</th>\n",
       "      <th>NAME_INCOME_TYPE</th>\n",
       "      <th>NAME_EDUCATION_TYPE</th>\n",
       "      <th>NAME_FAMILY_STATUS</th>\n",
       "      <th>NAME_HOUSING_TYPE</th>\n",
       "      <th>DAYS_BIRTH</th>\n",
       "      <th>DAYS_EMPLOYED</th>\n",
       "      <th>FLAG_MOBIL</th>\n",
       "      <th>FLAG_WORK_PHONE</th>\n",
       "      <th>FLAG_PHONE</th>\n",
       "      <th>FLAG_EMAIL</th>\n",
       "      <th>OCCUPATION_TYPE</th>\n",
       "      <th>CNT_FAM_MEMBERS</th>\n",
       "    </tr>\n",
       "  </thead>\n",
       "  <tbody>\n",
       "    <tr>\n",
       "      <th>0</th>\n",
       "      <td>5008804</td>\n",
       "      <td>M</td>\n",
       "      <td>Y</td>\n",
       "      <td>Y</td>\n",
       "      <td>0</td>\n",
       "      <td>427500.0</td>\n",
       "      <td>Working</td>\n",
       "      <td>Higher education</td>\n",
       "      <td>Civil marriage</td>\n",
       "      <td>Rented apartment</td>\n",
       "      <td>-12005</td>\n",
       "      <td>-4542</td>\n",
       "      <td>1</td>\n",
       "      <td>1</td>\n",
       "      <td>0</td>\n",
       "      <td>0</td>\n",
       "      <td>NaN</td>\n",
       "      <td>2.0</td>\n",
       "    </tr>\n",
       "    <tr>\n",
       "      <th>1</th>\n",
       "      <td>5008805</td>\n",
       "      <td>M</td>\n",
       "      <td>Y</td>\n",
       "      <td>Y</td>\n",
       "      <td>0</td>\n",
       "      <td>427500.0</td>\n",
       "      <td>Working</td>\n",
       "      <td>Higher education</td>\n",
       "      <td>Civil marriage</td>\n",
       "      <td>Rented apartment</td>\n",
       "      <td>-12005</td>\n",
       "      <td>-4542</td>\n",
       "      <td>1</td>\n",
       "      <td>1</td>\n",
       "      <td>0</td>\n",
       "      <td>0</td>\n",
       "      <td>NaN</td>\n",
       "      <td>2.0</td>\n",
       "    </tr>\n",
       "    <tr>\n",
       "      <th>2</th>\n",
       "      <td>5008806</td>\n",
       "      <td>M</td>\n",
       "      <td>Y</td>\n",
       "      <td>Y</td>\n",
       "      <td>0</td>\n",
       "      <td>112500.0</td>\n",
       "      <td>Working</td>\n",
       "      <td>Secondary / secondary special</td>\n",
       "      <td>Married</td>\n",
       "      <td>House / apartment</td>\n",
       "      <td>-21474</td>\n",
       "      <td>-1134</td>\n",
       "      <td>1</td>\n",
       "      <td>0</td>\n",
       "      <td>0</td>\n",
       "      <td>0</td>\n",
       "      <td>Security staff</td>\n",
       "      <td>2.0</td>\n",
       "    </tr>\n",
       "    <tr>\n",
       "      <th>3</th>\n",
       "      <td>5008808</td>\n",
       "      <td>F</td>\n",
       "      <td>N</td>\n",
       "      <td>Y</td>\n",
       "      <td>0</td>\n",
       "      <td>270000.0</td>\n",
       "      <td>Commercial associate</td>\n",
       "      <td>Secondary / secondary special</td>\n",
       "      <td>Single / not married</td>\n",
       "      <td>House / apartment</td>\n",
       "      <td>-19110</td>\n",
       "      <td>-3051</td>\n",
       "      <td>1</td>\n",
       "      <td>0</td>\n",
       "      <td>1</td>\n",
       "      <td>1</td>\n",
       "      <td>Sales staff</td>\n",
       "      <td>1.0</td>\n",
       "    </tr>\n",
       "    <tr>\n",
       "      <th>4</th>\n",
       "      <td>5008809</td>\n",
       "      <td>F</td>\n",
       "      <td>N</td>\n",
       "      <td>Y</td>\n",
       "      <td>0</td>\n",
       "      <td>270000.0</td>\n",
       "      <td>Commercial associate</td>\n",
       "      <td>Secondary / secondary special</td>\n",
       "      <td>Single / not married</td>\n",
       "      <td>House / apartment</td>\n",
       "      <td>-19110</td>\n",
       "      <td>-3051</td>\n",
       "      <td>1</td>\n",
       "      <td>0</td>\n",
       "      <td>1</td>\n",
       "      <td>1</td>\n",
       "      <td>Sales staff</td>\n",
       "      <td>1.0</td>\n",
       "    </tr>\n",
       "  </tbody>\n",
       "</table>\n",
       "</div>"
      ],
      "text/plain": [
       "        ID CODE_GENDER FLAG_OWN_CAR FLAG_OWN_REALTY  CNT_CHILDREN  \\\n",
       "0  5008804           M            Y               Y             0   \n",
       "1  5008805           M            Y               Y             0   \n",
       "2  5008806           M            Y               Y             0   \n",
       "3  5008808           F            N               Y             0   \n",
       "4  5008809           F            N               Y             0   \n",
       "\n",
       "   AMT_INCOME_TOTAL      NAME_INCOME_TYPE            NAME_EDUCATION_TYPE  \\\n",
       "0          427500.0               Working               Higher education   \n",
       "1          427500.0               Working               Higher education   \n",
       "2          112500.0               Working  Secondary / secondary special   \n",
       "3          270000.0  Commercial associate  Secondary / secondary special   \n",
       "4          270000.0  Commercial associate  Secondary / secondary special   \n",
       "\n",
       "     NAME_FAMILY_STATUS  NAME_HOUSING_TYPE  DAYS_BIRTH  DAYS_EMPLOYED  \\\n",
       "0        Civil marriage   Rented apartment      -12005          -4542   \n",
       "1        Civil marriage   Rented apartment      -12005          -4542   \n",
       "2               Married  House / apartment      -21474          -1134   \n",
       "3  Single / not married  House / apartment      -19110          -3051   \n",
       "4  Single / not married  House / apartment      -19110          -3051   \n",
       "\n",
       "   FLAG_MOBIL  FLAG_WORK_PHONE  FLAG_PHONE  FLAG_EMAIL OCCUPATION_TYPE  \\\n",
       "0           1                1           0           0             NaN   \n",
       "1           1                1           0           0             NaN   \n",
       "2           1                0           0           0  Security staff   \n",
       "3           1                0           1           1     Sales staff   \n",
       "4           1                0           1           1     Sales staff   \n",
       "\n",
       "   CNT_FAM_MEMBERS  \n",
       "0              2.0  \n",
       "1              2.0  \n",
       "2              2.0  \n",
       "3              1.0  \n",
       "4              1.0  "
      ]
     },
     "execution_count": 110,
     "metadata": {},
     "output_type": "execute_result"
    }
   ],
   "source": [
    "print(app.shape)\n",
    "app.head(5)"
   ]
  },
  {
   "cell_type": "code",
   "execution_count": 111,
   "metadata": {
    "colab": {
     "base_uri": "https://localhost:8080/",
     "height": 223
    },
    "id": "LOZXBzNt6lVs",
    "outputId": "9720b83e-230f-4910-f232-6da5151a4746",
    "slideshow": {
     "slide_type": "subslide"
    }
   },
   "outputs": [
    {
     "name": "stdout",
     "output_type": "stream",
     "text": [
      "(1048575, 3)\n"
     ]
    },
    {
     "data": {
      "text/html": [
       "<div>\n",
       "<style scoped>\n",
       "    .dataframe tbody tr th:only-of-type {\n",
       "        vertical-align: middle;\n",
       "    }\n",
       "\n",
       "    .dataframe tbody tr th {\n",
       "        vertical-align: top;\n",
       "    }\n",
       "\n",
       "    .dataframe thead th {\n",
       "        text-align: right;\n",
       "    }\n",
       "</style>\n",
       "<table border=\"1\" class=\"dataframe\">\n",
       "  <thead>\n",
       "    <tr style=\"text-align: right;\">\n",
       "      <th></th>\n",
       "      <th>ID</th>\n",
       "      <th>MONTHS_BALANCE</th>\n",
       "      <th>STATUS</th>\n",
       "    </tr>\n",
       "  </thead>\n",
       "  <tbody>\n",
       "    <tr>\n",
       "      <th>0</th>\n",
       "      <td>5001711</td>\n",
       "      <td>0</td>\n",
       "      <td>X</td>\n",
       "    </tr>\n",
       "    <tr>\n",
       "      <th>1</th>\n",
       "      <td>5001711</td>\n",
       "      <td>-1</td>\n",
       "      <td>0</td>\n",
       "    </tr>\n",
       "    <tr>\n",
       "      <th>2</th>\n",
       "      <td>5001711</td>\n",
       "      <td>-2</td>\n",
       "      <td>0</td>\n",
       "    </tr>\n",
       "    <tr>\n",
       "      <th>3</th>\n",
       "      <td>5001711</td>\n",
       "      <td>-3</td>\n",
       "      <td>0</td>\n",
       "    </tr>\n",
       "    <tr>\n",
       "      <th>4</th>\n",
       "      <td>5001712</td>\n",
       "      <td>0</td>\n",
       "      <td>C</td>\n",
       "    </tr>\n",
       "  </tbody>\n",
       "</table>\n",
       "</div>"
      ],
      "text/plain": [
       "        ID  MONTHS_BALANCE STATUS\n",
       "0  5001711               0      X\n",
       "1  5001711              -1      0\n",
       "2  5001711              -2      0\n",
       "3  5001711              -3      0\n",
       "4  5001712               0      C"
      ]
     },
     "execution_count": 111,
     "metadata": {},
     "output_type": "execute_result"
    }
   ],
   "source": [
    "print(credit.shape)\n",
    "credit.head(5)"
   ]
  },
  {
   "cell_type": "code",
   "execution_count": 112,
   "metadata": {
    "id": "AyH9FzI26lVs"
   },
   "outputs": [],
   "source": [
    "# Removing columns with duplicate IDS\n",
    "app = app.drop_duplicates(subset=['ID'], keep='first')"
   ]
  },
  {
   "cell_type": "code",
   "execution_count": 113,
   "metadata": {
    "colab": {
     "base_uri": "https://localhost:8080/"
    },
    "id": "7jUvcx_16lVt",
    "outputId": "12de0ebb-b3c2-4ed2-a7dc-2a1567b17391"
   },
   "outputs": [
    {
     "data": {
      "text/plain": [
       "(438510, 18)"
      ]
     },
     "execution_count": 113,
     "metadata": {},
     "output_type": "execute_result"
    }
   ],
   "source": [
    "app.shape"
   ]
  },
  {
   "cell_type": "code",
   "execution_count": 114,
   "metadata": {
    "colab": {
     "base_uri": "https://localhost:8080/",
     "height": 225
    },
    "id": "crZFFeDc6lVt",
    "outputId": "a072fa72-d3cd-4ef4-b249-c66711797423"
   },
   "outputs": [
    {
     "data": {
      "text/html": [
       "<div>\n",
       "<style scoped>\n",
       "    .dataframe tbody tr th:only-of-type {\n",
       "        vertical-align: middle;\n",
       "    }\n",
       "\n",
       "    .dataframe tbody tr th {\n",
       "        vertical-align: top;\n",
       "    }\n",
       "\n",
       "    .dataframe thead th {\n",
       "        text-align: right;\n",
       "    }\n",
       "</style>\n",
       "<table border=\"1\" class=\"dataframe\">\n",
       "  <thead>\n",
       "    <tr style=\"text-align: right;\">\n",
       "      <th></th>\n",
       "      <th>ID</th>\n",
       "      <th>CODE_GENDER</th>\n",
       "      <th>FLAG_OWN_CAR</th>\n",
       "      <th>FLAG_OWN_REALTY</th>\n",
       "      <th>CNT_CHILDREN</th>\n",
       "      <th>AMT_INCOME_TOTAL</th>\n",
       "      <th>NAME_INCOME_TYPE</th>\n",
       "      <th>NAME_EDUCATION_TYPE</th>\n",
       "      <th>NAME_FAMILY_STATUS</th>\n",
       "      <th>NAME_HOUSING_TYPE</th>\n",
       "      <th>DAYS_BIRTH</th>\n",
       "      <th>DAYS_EMPLOYED</th>\n",
       "      <th>FLAG_MOBIL</th>\n",
       "      <th>FLAG_WORK_PHONE</th>\n",
       "      <th>FLAG_PHONE</th>\n",
       "      <th>FLAG_EMAIL</th>\n",
       "      <th>OCCUPATION_TYPE</th>\n",
       "      <th>CNT_FAM_MEMBERS</th>\n",
       "    </tr>\n",
       "  </thead>\n",
       "  <tbody>\n",
       "    <tr>\n",
       "      <th>0</th>\n",
       "      <td>5008804</td>\n",
       "      <td>M</td>\n",
       "      <td>Y</td>\n",
       "      <td>Y</td>\n",
       "      <td>0</td>\n",
       "      <td>427500.0</td>\n",
       "      <td>Working</td>\n",
       "      <td>Higher education</td>\n",
       "      <td>Civil marriage</td>\n",
       "      <td>Rented apartment</td>\n",
       "      <td>-12005</td>\n",
       "      <td>-4542</td>\n",
       "      <td>1</td>\n",
       "      <td>1</td>\n",
       "      <td>0</td>\n",
       "      <td>0</td>\n",
       "      <td>NaN</td>\n",
       "      <td>2.0</td>\n",
       "    </tr>\n",
       "    <tr>\n",
       "      <th>1</th>\n",
       "      <td>5008805</td>\n",
       "      <td>M</td>\n",
       "      <td>Y</td>\n",
       "      <td>Y</td>\n",
       "      <td>0</td>\n",
       "      <td>427500.0</td>\n",
       "      <td>Working</td>\n",
       "      <td>Higher education</td>\n",
       "      <td>Civil marriage</td>\n",
       "      <td>Rented apartment</td>\n",
       "      <td>-12005</td>\n",
       "      <td>-4542</td>\n",
       "      <td>1</td>\n",
       "      <td>1</td>\n",
       "      <td>0</td>\n",
       "      <td>0</td>\n",
       "      <td>NaN</td>\n",
       "      <td>2.0</td>\n",
       "    </tr>\n",
       "    <tr>\n",
       "      <th>2</th>\n",
       "      <td>5008806</td>\n",
       "      <td>M</td>\n",
       "      <td>Y</td>\n",
       "      <td>Y</td>\n",
       "      <td>0</td>\n",
       "      <td>112500.0</td>\n",
       "      <td>Working</td>\n",
       "      <td>Secondary / secondary special</td>\n",
       "      <td>Married</td>\n",
       "      <td>House / apartment</td>\n",
       "      <td>-21474</td>\n",
       "      <td>-1134</td>\n",
       "      <td>1</td>\n",
       "      <td>0</td>\n",
       "      <td>0</td>\n",
       "      <td>0</td>\n",
       "      <td>Security staff</td>\n",
       "      <td>2.0</td>\n",
       "    </tr>\n",
       "  </tbody>\n",
       "</table>\n",
       "</div>"
      ],
      "text/plain": [
       "        ID CODE_GENDER FLAG_OWN_CAR FLAG_OWN_REALTY  CNT_CHILDREN  \\\n",
       "0  5008804           M            Y               Y             0   \n",
       "1  5008805           M            Y               Y             0   \n",
       "2  5008806           M            Y               Y             0   \n",
       "\n",
       "   AMT_INCOME_TOTAL NAME_INCOME_TYPE            NAME_EDUCATION_TYPE  \\\n",
       "0          427500.0          Working               Higher education   \n",
       "1          427500.0          Working               Higher education   \n",
       "2          112500.0          Working  Secondary / secondary special   \n",
       "\n",
       "  NAME_FAMILY_STATUS  NAME_HOUSING_TYPE  DAYS_BIRTH  DAYS_EMPLOYED  \\\n",
       "0     Civil marriage   Rented apartment      -12005          -4542   \n",
       "1     Civil marriage   Rented apartment      -12005          -4542   \n",
       "2            Married  House / apartment      -21474          -1134   \n",
       "\n",
       "   FLAG_MOBIL  FLAG_WORK_PHONE  FLAG_PHONE  FLAG_EMAIL OCCUPATION_TYPE  \\\n",
       "0           1                1           0           0             NaN   \n",
       "1           1                1           0           0             NaN   \n",
       "2           1                0           0           0  Security staff   \n",
       "\n",
       "   CNT_FAM_MEMBERS  \n",
       "0              2.0  \n",
       "1              2.0  \n",
       "2              2.0  "
      ]
     },
     "execution_count": 114,
     "metadata": {},
     "output_type": "execute_result"
    }
   ],
   "source": [
    "app.head(3)"
   ]
  },
  {
   "cell_type": "markdown",
   "metadata": {
    "id": "TI3m9Uat6lVu"
   },
   "source": [
    "### Assigning labels"
   ]
  },
  {
   "cell_type": "code",
   "execution_count": 115,
   "metadata": {
    "id": "LWuCLPTn6lVw"
   },
   "outputs": [],
   "source": [
    "# needs to be done because X and C are characters\n",
    "def mask_X_C(row):\n",
    "    if row == 'X':\n",
    "        return '-1'\n",
    "    elif row == 'C':\n",
    "        return '-2'\n",
    "    else:\n",
    "        return row"
   ]
  },
  {
   "cell_type": "code",
   "execution_count": 116,
   "metadata": {
    "id": "3pId8HjG6lVx"
   },
   "outputs": [],
   "source": [
    "credit['STATUS'] = credit['STATUS'].map(mask_X_C)"
   ]
  },
  {
   "cell_type": "code",
   "execution_count": 117,
   "metadata": {
    "id": "t_pNuZfO6lVx"
   },
   "outputs": [],
   "source": [
    "# get max of STATUS and assign throughout\n",
    "credit['MAX_STATUS'] = credit.groupby('ID')['STATUS'].transform('max')"
   ]
  },
  {
   "cell_type": "code",
   "execution_count": 118,
   "metadata": {
    "colab": {
     "base_uri": "https://localhost:8080/"
    },
    "id": "ml9n6kvU6lVy",
    "outputId": "c7edd65d-b357-4e3e-f6a9-47728ca30833"
   },
   "outputs": [
    {
     "data": {
      "text/plain": [
       "(0     769212\n",
       " 1     120830\n",
       " -1    101523\n",
       " -2     34029\n",
       " 2      11130\n",
       " 5       6839\n",
       " 3       3246\n",
       " 4       1766\n",
       " Name: MAX_STATUS, dtype: int64,\n",
       " -2    442031\n",
       " 0     383120\n",
       " -1    209230\n",
       " 1      11090\n",
       " 5       1693\n",
       " 2        868\n",
       " 3        320\n",
       " 4        223\n",
       " Name: STATUS, dtype: int64)"
      ]
     },
     "execution_count": 118,
     "metadata": {},
     "output_type": "execute_result"
    }
   ],
   "source": [
    "credit['MAX_STATUS'].value_counts() , credit['STATUS'].value_counts()"
   ]
  },
  {
   "cell_type": "code",
   "execution_count": 119,
   "metadata": {
    "id": "INa9ks7t6lVy"
   },
   "outputs": [],
   "source": [
    "# 0 - good , 1 -bad\n",
    "def assign_labels(row):\n",
    "    if row == '-1':\n",
    "        return 0\n",
    "    elif row == '-2':\n",
    "        return 0\n",
    "    elif row == '0':\n",
    "        return 0\n",
    "    elif row == '1':\n",
    "        return 1\n",
    "    elif row == '2':\n",
    "        return 1\n",
    "    elif row == '3':\n",
    "        return 1\n",
    "    elif row == '4':\n",
    "        return 1\n",
    "    elif row == '5':\n",
    "        return 1"
   ]
  },
  {
   "cell_type": "code",
   "execution_count": 120,
   "metadata": {
    "id": "QSOGK6XB6lVz"
   },
   "outputs": [],
   "source": [
    "credit['label'] = credit['MAX_STATUS'].map(assign_labels)"
   ]
  },
  {
   "cell_type": "code",
   "execution_count": 121,
   "metadata": {
    "colab": {
     "base_uri": "https://localhost:8080/"
    },
    "id": "wHEdy4Is6lVz",
    "outputId": "ff681c6c-314b-46a0-a687-07ca512f9782"
   },
   "outputs": [
    {
     "data": {
      "text/plain": [
       "0    86.285101\n",
       "1    13.714899\n",
       "Name: label, dtype: float64"
      ]
     },
     "execution_count": 121,
     "metadata": {},
     "output_type": "execute_result"
    }
   ],
   "source": [
    "#  class imbalance (previous was 98:2)\n",
    "credit['label'].value_counts() / credit['label'].value_counts().sum() * 100"
   ]
  },
  {
   "cell_type": "markdown",
   "metadata": {
    "id": "Ps-arK2t6lVz"
   },
   "source": [
    "###  Merging application and credit datasets"
   ]
  },
  {
   "cell_type": "code",
   "execution_count": 122,
   "metadata": {
    "colab": {
     "base_uri": "https://localhost:8080/"
    },
    "id": "xupKB8OV6lV0",
    "outputId": "7eb06785-1d09-40d0-8ba0-583a23af23a8"
   },
   "outputs": [
    {
     "data": {
      "text/plain": [
       "(438510, 438510)"
      ]
     },
     "execution_count": 122,
     "metadata": {},
     "output_type": "execute_result"
    }
   ],
   "source": [
    "len(app['ID'].unique()), len(app)"
   ]
  },
  {
   "cell_type": "code",
   "execution_count": 123,
   "metadata": {
    "colab": {
     "base_uri": "https://localhost:8080/"
    },
    "id": "8C6Wrtcn6lV0",
    "outputId": "fcd3af80-d32c-4425-ad18-8f3f5c486cbb"
   },
   "outputs": [
    {
     "data": {
      "text/plain": [
       "(45985, 1048575)"
      ]
     },
     "execution_count": 123,
     "metadata": {},
     "output_type": "execute_result"
    }
   ],
   "source": [
    "len(credit['ID'].unique()) , len(credit)"
   ]
  },
  {
   "cell_type": "code",
   "execution_count": 124,
   "metadata": {
    "colab": {
     "base_uri": "https://localhost:8080/"
    },
    "id": "gp4bySGY6lV0",
    "outputId": "1868fd72-1afe-4895-b728-455e021bee13"
   },
   "outputs": [
    {
     "data": {
      "text/plain": [
       "45985"
      ]
     },
     "execution_count": 124,
     "metadata": {},
     "output_type": "execute_result"
    }
   ],
   "source": [
    "credit_df = credit[['ID', 'label']].drop_duplicates()\n",
    "len(credit_df)"
   ]
  },
  {
   "cell_type": "code",
   "execution_count": 125,
   "metadata": {
    "colab": {
     "base_uri": "https://localhost:8080/",
     "height": 514
    },
    "id": "Mj5YpNSP6lV1",
    "outputId": "4d5aec2a-22f4-4697-bd65-e171694b207c"
   },
   "outputs": [
    {
     "data": {
      "text/html": [
       "<div>\n",
       "<style scoped>\n",
       "    .dataframe tbody tr th:only-of-type {\n",
       "        vertical-align: middle;\n",
       "    }\n",
       "\n",
       "    .dataframe tbody tr th {\n",
       "        vertical-align: top;\n",
       "    }\n",
       "\n",
       "    .dataframe thead th {\n",
       "        text-align: right;\n",
       "    }\n",
       "</style>\n",
       "<table border=\"1\" class=\"dataframe\">\n",
       "  <thead>\n",
       "    <tr style=\"text-align: right;\">\n",
       "      <th></th>\n",
       "      <th>ID</th>\n",
       "      <th>CODE_GENDER</th>\n",
       "      <th>FLAG_OWN_CAR</th>\n",
       "      <th>FLAG_OWN_REALTY</th>\n",
       "      <th>CNT_CHILDREN</th>\n",
       "      <th>AMT_INCOME_TOTAL</th>\n",
       "      <th>NAME_INCOME_TYPE</th>\n",
       "      <th>NAME_EDUCATION_TYPE</th>\n",
       "      <th>NAME_FAMILY_STATUS</th>\n",
       "      <th>NAME_HOUSING_TYPE</th>\n",
       "      <th>DAYS_BIRTH</th>\n",
       "      <th>DAYS_EMPLOYED</th>\n",
       "      <th>FLAG_MOBIL</th>\n",
       "      <th>FLAG_WORK_PHONE</th>\n",
       "      <th>FLAG_PHONE</th>\n",
       "      <th>FLAG_EMAIL</th>\n",
       "      <th>OCCUPATION_TYPE</th>\n",
       "      <th>CNT_FAM_MEMBERS</th>\n",
       "      <th>label</th>\n",
       "    </tr>\n",
       "  </thead>\n",
       "  <tbody>\n",
       "    <tr>\n",
       "      <th>0</th>\n",
       "      <td>5008804</td>\n",
       "      <td>M</td>\n",
       "      <td>Y</td>\n",
       "      <td>Y</td>\n",
       "      <td>0</td>\n",
       "      <td>427500.0</td>\n",
       "      <td>Working</td>\n",
       "      <td>Higher education</td>\n",
       "      <td>Civil marriage</td>\n",
       "      <td>Rented apartment</td>\n",
       "      <td>-12005</td>\n",
       "      <td>-4542</td>\n",
       "      <td>1</td>\n",
       "      <td>1</td>\n",
       "      <td>0</td>\n",
       "      <td>0</td>\n",
       "      <td>NaN</td>\n",
       "      <td>2.0</td>\n",
       "      <td>1</td>\n",
       "    </tr>\n",
       "    <tr>\n",
       "      <th>1</th>\n",
       "      <td>5008805</td>\n",
       "      <td>M</td>\n",
       "      <td>Y</td>\n",
       "      <td>Y</td>\n",
       "      <td>0</td>\n",
       "      <td>427500.0</td>\n",
       "      <td>Working</td>\n",
       "      <td>Higher education</td>\n",
       "      <td>Civil marriage</td>\n",
       "      <td>Rented apartment</td>\n",
       "      <td>-12005</td>\n",
       "      <td>-4542</td>\n",
       "      <td>1</td>\n",
       "      <td>1</td>\n",
       "      <td>0</td>\n",
       "      <td>0</td>\n",
       "      <td>NaN</td>\n",
       "      <td>2.0</td>\n",
       "      <td>1</td>\n",
       "    </tr>\n",
       "    <tr>\n",
       "      <th>2</th>\n",
       "      <td>5008806</td>\n",
       "      <td>M</td>\n",
       "      <td>Y</td>\n",
       "      <td>Y</td>\n",
       "      <td>0</td>\n",
       "      <td>112500.0</td>\n",
       "      <td>Working</td>\n",
       "      <td>Secondary / secondary special</td>\n",
       "      <td>Married</td>\n",
       "      <td>House / apartment</td>\n",
       "      <td>-21474</td>\n",
       "      <td>-1134</td>\n",
       "      <td>1</td>\n",
       "      <td>0</td>\n",
       "      <td>0</td>\n",
       "      <td>0</td>\n",
       "      <td>Security staff</td>\n",
       "      <td>2.0</td>\n",
       "      <td>0</td>\n",
       "    </tr>\n",
       "    <tr>\n",
       "      <th>3</th>\n",
       "      <td>5008808</td>\n",
       "      <td>F</td>\n",
       "      <td>N</td>\n",
       "      <td>Y</td>\n",
       "      <td>0</td>\n",
       "      <td>270000.0</td>\n",
       "      <td>Commercial associate</td>\n",
       "      <td>Secondary / secondary special</td>\n",
       "      <td>Single / not married</td>\n",
       "      <td>House / apartment</td>\n",
       "      <td>-19110</td>\n",
       "      <td>-3051</td>\n",
       "      <td>1</td>\n",
       "      <td>0</td>\n",
       "      <td>1</td>\n",
       "      <td>1</td>\n",
       "      <td>Sales staff</td>\n",
       "      <td>1.0</td>\n",
       "      <td>0</td>\n",
       "    </tr>\n",
       "    <tr>\n",
       "      <th>4</th>\n",
       "      <td>5008809</td>\n",
       "      <td>F</td>\n",
       "      <td>N</td>\n",
       "      <td>Y</td>\n",
       "      <td>0</td>\n",
       "      <td>270000.0</td>\n",
       "      <td>Commercial associate</td>\n",
       "      <td>Secondary / secondary special</td>\n",
       "      <td>Single / not married</td>\n",
       "      <td>House / apartment</td>\n",
       "      <td>-19110</td>\n",
       "      <td>-3051</td>\n",
       "      <td>1</td>\n",
       "      <td>0</td>\n",
       "      <td>1</td>\n",
       "      <td>1</td>\n",
       "      <td>Sales staff</td>\n",
       "      <td>1.0</td>\n",
       "      <td>0</td>\n",
       "    </tr>\n",
       "    <tr>\n",
       "      <th>5</th>\n",
       "      <td>5008810</td>\n",
       "      <td>F</td>\n",
       "      <td>N</td>\n",
       "      <td>Y</td>\n",
       "      <td>0</td>\n",
       "      <td>270000.0</td>\n",
       "      <td>Commercial associate</td>\n",
       "      <td>Secondary / secondary special</td>\n",
       "      <td>Single / not married</td>\n",
       "      <td>House / apartment</td>\n",
       "      <td>-19110</td>\n",
       "      <td>-3051</td>\n",
       "      <td>1</td>\n",
       "      <td>0</td>\n",
       "      <td>1</td>\n",
       "      <td>1</td>\n",
       "      <td>Sales staff</td>\n",
       "      <td>1.0</td>\n",
       "      <td>0</td>\n",
       "    </tr>\n",
       "    <tr>\n",
       "      <th>6</th>\n",
       "      <td>5008811</td>\n",
       "      <td>F</td>\n",
       "      <td>N</td>\n",
       "      <td>Y</td>\n",
       "      <td>0</td>\n",
       "      <td>270000.0</td>\n",
       "      <td>Commercial associate</td>\n",
       "      <td>Secondary / secondary special</td>\n",
       "      <td>Single / not married</td>\n",
       "      <td>House / apartment</td>\n",
       "      <td>-19110</td>\n",
       "      <td>-3051</td>\n",
       "      <td>1</td>\n",
       "      <td>0</td>\n",
       "      <td>1</td>\n",
       "      <td>1</td>\n",
       "      <td>Sales staff</td>\n",
       "      <td>1.0</td>\n",
       "      <td>0</td>\n",
       "    </tr>\n",
       "    <tr>\n",
       "      <th>7</th>\n",
       "      <td>5008812</td>\n",
       "      <td>F</td>\n",
       "      <td>N</td>\n",
       "      <td>Y</td>\n",
       "      <td>0</td>\n",
       "      <td>283500.0</td>\n",
       "      <td>Pensioner</td>\n",
       "      <td>Higher education</td>\n",
       "      <td>Separated</td>\n",
       "      <td>House / apartment</td>\n",
       "      <td>-22464</td>\n",
       "      <td>365243</td>\n",
       "      <td>1</td>\n",
       "      <td>0</td>\n",
       "      <td>0</td>\n",
       "      <td>0</td>\n",
       "      <td>NaN</td>\n",
       "      <td>1.0</td>\n",
       "      <td>0</td>\n",
       "    </tr>\n",
       "    <tr>\n",
       "      <th>8</th>\n",
       "      <td>5008813</td>\n",
       "      <td>F</td>\n",
       "      <td>N</td>\n",
       "      <td>Y</td>\n",
       "      <td>0</td>\n",
       "      <td>283500.0</td>\n",
       "      <td>Pensioner</td>\n",
       "      <td>Higher education</td>\n",
       "      <td>Separated</td>\n",
       "      <td>House / apartment</td>\n",
       "      <td>-22464</td>\n",
       "      <td>365243</td>\n",
       "      <td>1</td>\n",
       "      <td>0</td>\n",
       "      <td>0</td>\n",
       "      <td>0</td>\n",
       "      <td>NaN</td>\n",
       "      <td>1.0</td>\n",
       "      <td>0</td>\n",
       "    </tr>\n",
       "    <tr>\n",
       "      <th>9</th>\n",
       "      <td>5008814</td>\n",
       "      <td>F</td>\n",
       "      <td>N</td>\n",
       "      <td>Y</td>\n",
       "      <td>0</td>\n",
       "      <td>283500.0</td>\n",
       "      <td>Pensioner</td>\n",
       "      <td>Higher education</td>\n",
       "      <td>Separated</td>\n",
       "      <td>House / apartment</td>\n",
       "      <td>-22464</td>\n",
       "      <td>365243</td>\n",
       "      <td>1</td>\n",
       "      <td>0</td>\n",
       "      <td>0</td>\n",
       "      <td>0</td>\n",
       "      <td>NaN</td>\n",
       "      <td>1.0</td>\n",
       "      <td>0</td>\n",
       "    </tr>\n",
       "  </tbody>\n",
       "</table>\n",
       "</div>"
      ],
      "text/plain": [
       "        ID CODE_GENDER FLAG_OWN_CAR FLAG_OWN_REALTY  CNT_CHILDREN  \\\n",
       "0  5008804           M            Y               Y             0   \n",
       "1  5008805           M            Y               Y             0   \n",
       "2  5008806           M            Y               Y             0   \n",
       "3  5008808           F            N               Y             0   \n",
       "4  5008809           F            N               Y             0   \n",
       "5  5008810           F            N               Y             0   \n",
       "6  5008811           F            N               Y             0   \n",
       "7  5008812           F            N               Y             0   \n",
       "8  5008813           F            N               Y             0   \n",
       "9  5008814           F            N               Y             0   \n",
       "\n",
       "   AMT_INCOME_TOTAL      NAME_INCOME_TYPE            NAME_EDUCATION_TYPE  \\\n",
       "0          427500.0               Working               Higher education   \n",
       "1          427500.0               Working               Higher education   \n",
       "2          112500.0               Working  Secondary / secondary special   \n",
       "3          270000.0  Commercial associate  Secondary / secondary special   \n",
       "4          270000.0  Commercial associate  Secondary / secondary special   \n",
       "5          270000.0  Commercial associate  Secondary / secondary special   \n",
       "6          270000.0  Commercial associate  Secondary / secondary special   \n",
       "7          283500.0             Pensioner               Higher education   \n",
       "8          283500.0             Pensioner               Higher education   \n",
       "9          283500.0             Pensioner               Higher education   \n",
       "\n",
       "     NAME_FAMILY_STATUS  NAME_HOUSING_TYPE  DAYS_BIRTH  DAYS_EMPLOYED  \\\n",
       "0        Civil marriage   Rented apartment      -12005          -4542   \n",
       "1        Civil marriage   Rented apartment      -12005          -4542   \n",
       "2               Married  House / apartment      -21474          -1134   \n",
       "3  Single / not married  House / apartment      -19110          -3051   \n",
       "4  Single / not married  House / apartment      -19110          -3051   \n",
       "5  Single / not married  House / apartment      -19110          -3051   \n",
       "6  Single / not married  House / apartment      -19110          -3051   \n",
       "7             Separated  House / apartment      -22464         365243   \n",
       "8             Separated  House / apartment      -22464         365243   \n",
       "9             Separated  House / apartment      -22464         365243   \n",
       "\n",
       "   FLAG_MOBIL  FLAG_WORK_PHONE  FLAG_PHONE  FLAG_EMAIL OCCUPATION_TYPE  \\\n",
       "0           1                1           0           0             NaN   \n",
       "1           1                1           0           0             NaN   \n",
       "2           1                0           0           0  Security staff   \n",
       "3           1                0           1           1     Sales staff   \n",
       "4           1                0           1           1     Sales staff   \n",
       "5           1                0           1           1     Sales staff   \n",
       "6           1                0           1           1     Sales staff   \n",
       "7           1                0           0           0             NaN   \n",
       "8           1                0           0           0             NaN   \n",
       "9           1                0           0           0             NaN   \n",
       "\n",
       "   CNT_FAM_MEMBERS  label  \n",
       "0              2.0      1  \n",
       "1              2.0      1  \n",
       "2              2.0      0  \n",
       "3              1.0      0  \n",
       "4              1.0      0  \n",
       "5              1.0      0  \n",
       "6              1.0      0  \n",
       "7              1.0      0  \n",
       "8              1.0      0  \n",
       "9              1.0      0  "
      ]
     },
     "execution_count": 125,
     "metadata": {},
     "output_type": "execute_result"
    }
   ],
   "source": [
    "merged_app_credit = pd.merge(app, credit_df, on=['ID'])\n",
    "merged_app_credit.head(10)\n",
    "# dataset has duplicates in terms of ids"
   ]
  },
  {
   "cell_type": "code",
   "execution_count": 126,
   "metadata": {
    "colab": {
     "base_uri": "https://localhost:8080/"
    },
    "id": "n4W-1NMb6lV1",
    "outputId": "c61ab93f-861b-459c-9326-5fe0d41e4df2"
   },
   "outputs": [
    {
     "data": {
      "text/plain": [
       "45985"
      ]
     },
     "execution_count": 126,
     "metadata": {},
     "output_type": "execute_result"
    }
   ],
   "source": [
    "# intesection is correct\n",
    "len(set(app['ID'].unique()) and set(credit['ID'].unique()))"
   ]
  },
  {
   "cell_type": "code",
   "execution_count": 127,
   "metadata": {
    "id": "L6_Yqa9U6lV1"
   },
   "outputs": [],
   "source": [
    "# this can be tried if we dont want duplicates\n",
    "# # removing duplicate rows\n",
    "# dedup_merged_app_credit = merged_app_credit.drop_duplicates(subset=merged_app_credit.columns.difference(['ID']))\n",
    "# dedup_merged_app_credit.head(10)"
   ]
  },
  {
   "cell_type": "code",
   "execution_count": 128,
   "metadata": {
    "colab": {
     "base_uri": "https://localhost:8080/",
     "height": 322
    },
    "id": "xOla6bCd6lV2",
    "outputId": "62e94ca8-fd93-44d8-b7fa-71d58ddeef09"
   },
   "outputs": [
    {
     "data": {
      "text/html": [
       "<div>\n",
       "<style scoped>\n",
       "    .dataframe tbody tr th:only-of-type {\n",
       "        vertical-align: middle;\n",
       "    }\n",
       "\n",
       "    .dataframe tbody tr th {\n",
       "        vertical-align: top;\n",
       "    }\n",
       "\n",
       "    .dataframe thead th {\n",
       "        text-align: right;\n",
       "    }\n",
       "</style>\n",
       "<table border=\"1\" class=\"dataframe\">\n",
       "  <thead>\n",
       "    <tr style=\"text-align: right;\">\n",
       "      <th></th>\n",
       "      <th>CODE_GENDER</th>\n",
       "      <th>FLAG_OWN_CAR</th>\n",
       "      <th>FLAG_OWN_REALTY</th>\n",
       "      <th>CNT_CHILDREN</th>\n",
       "      <th>AMT_INCOME_TOTAL</th>\n",
       "      <th>NAME_INCOME_TYPE</th>\n",
       "      <th>NAME_EDUCATION_TYPE</th>\n",
       "      <th>NAME_FAMILY_STATUS</th>\n",
       "      <th>NAME_HOUSING_TYPE</th>\n",
       "      <th>DAYS_BIRTH</th>\n",
       "      <th>DAYS_EMPLOYED</th>\n",
       "      <th>FLAG_MOBIL</th>\n",
       "      <th>FLAG_WORK_PHONE</th>\n",
       "      <th>FLAG_PHONE</th>\n",
       "      <th>FLAG_EMAIL</th>\n",
       "      <th>OCCUPATION_TYPE</th>\n",
       "      <th>CNT_FAM_MEMBERS</th>\n",
       "      <th>label</th>\n",
       "    </tr>\n",
       "  </thead>\n",
       "  <tbody>\n",
       "    <tr>\n",
       "      <th>0</th>\n",
       "      <td>M</td>\n",
       "      <td>Y</td>\n",
       "      <td>Y</td>\n",
       "      <td>0</td>\n",
       "      <td>427500.0</td>\n",
       "      <td>Working</td>\n",
       "      <td>Higher education</td>\n",
       "      <td>Civil marriage</td>\n",
       "      <td>Rented apartment</td>\n",
       "      <td>-12005</td>\n",
       "      <td>-4542</td>\n",
       "      <td>1</td>\n",
       "      <td>1</td>\n",
       "      <td>0</td>\n",
       "      <td>0</td>\n",
       "      <td>NaN</td>\n",
       "      <td>2.0</td>\n",
       "      <td>1</td>\n",
       "    </tr>\n",
       "    <tr>\n",
       "      <th>1</th>\n",
       "      <td>M</td>\n",
       "      <td>Y</td>\n",
       "      <td>Y</td>\n",
       "      <td>0</td>\n",
       "      <td>427500.0</td>\n",
       "      <td>Working</td>\n",
       "      <td>Higher education</td>\n",
       "      <td>Civil marriage</td>\n",
       "      <td>Rented apartment</td>\n",
       "      <td>-12005</td>\n",
       "      <td>-4542</td>\n",
       "      <td>1</td>\n",
       "      <td>1</td>\n",
       "      <td>0</td>\n",
       "      <td>0</td>\n",
       "      <td>NaN</td>\n",
       "      <td>2.0</td>\n",
       "      <td>1</td>\n",
       "    </tr>\n",
       "    <tr>\n",
       "      <th>2</th>\n",
       "      <td>M</td>\n",
       "      <td>Y</td>\n",
       "      <td>Y</td>\n",
       "      <td>0</td>\n",
       "      <td>112500.0</td>\n",
       "      <td>Working</td>\n",
       "      <td>Secondary / secondary special</td>\n",
       "      <td>Married</td>\n",
       "      <td>House / apartment</td>\n",
       "      <td>-21474</td>\n",
       "      <td>-1134</td>\n",
       "      <td>1</td>\n",
       "      <td>0</td>\n",
       "      <td>0</td>\n",
       "      <td>0</td>\n",
       "      <td>Security staff</td>\n",
       "      <td>2.0</td>\n",
       "      <td>0</td>\n",
       "    </tr>\n",
       "    <tr>\n",
       "      <th>3</th>\n",
       "      <td>F</td>\n",
       "      <td>N</td>\n",
       "      <td>Y</td>\n",
       "      <td>0</td>\n",
       "      <td>270000.0</td>\n",
       "      <td>Commercial associate</td>\n",
       "      <td>Secondary / secondary special</td>\n",
       "      <td>Single / not married</td>\n",
       "      <td>House / apartment</td>\n",
       "      <td>-19110</td>\n",
       "      <td>-3051</td>\n",
       "      <td>1</td>\n",
       "      <td>0</td>\n",
       "      <td>1</td>\n",
       "      <td>1</td>\n",
       "      <td>Sales staff</td>\n",
       "      <td>1.0</td>\n",
       "      <td>0</td>\n",
       "    </tr>\n",
       "    <tr>\n",
       "      <th>4</th>\n",
       "      <td>F</td>\n",
       "      <td>N</td>\n",
       "      <td>Y</td>\n",
       "      <td>0</td>\n",
       "      <td>270000.0</td>\n",
       "      <td>Commercial associate</td>\n",
       "      <td>Secondary / secondary special</td>\n",
       "      <td>Single / not married</td>\n",
       "      <td>House / apartment</td>\n",
       "      <td>-19110</td>\n",
       "      <td>-3051</td>\n",
       "      <td>1</td>\n",
       "      <td>0</td>\n",
       "      <td>1</td>\n",
       "      <td>1</td>\n",
       "      <td>Sales staff</td>\n",
       "      <td>1.0</td>\n",
       "      <td>0</td>\n",
       "    </tr>\n",
       "  </tbody>\n",
       "</table>\n",
       "</div>"
      ],
      "text/plain": [
       "  CODE_GENDER FLAG_OWN_CAR FLAG_OWN_REALTY  CNT_CHILDREN  AMT_INCOME_TOTAL  \\\n",
       "0           M            Y               Y             0          427500.0   \n",
       "1           M            Y               Y             0          427500.0   \n",
       "2           M            Y               Y             0          112500.0   \n",
       "3           F            N               Y             0          270000.0   \n",
       "4           F            N               Y             0          270000.0   \n",
       "\n",
       "       NAME_INCOME_TYPE            NAME_EDUCATION_TYPE    NAME_FAMILY_STATUS  \\\n",
       "0               Working               Higher education        Civil marriage   \n",
       "1               Working               Higher education        Civil marriage   \n",
       "2               Working  Secondary / secondary special               Married   \n",
       "3  Commercial associate  Secondary / secondary special  Single / not married   \n",
       "4  Commercial associate  Secondary / secondary special  Single / not married   \n",
       "\n",
       "   NAME_HOUSING_TYPE  DAYS_BIRTH  DAYS_EMPLOYED  FLAG_MOBIL  FLAG_WORK_PHONE  \\\n",
       "0   Rented apartment      -12005          -4542           1                1   \n",
       "1   Rented apartment      -12005          -4542           1                1   \n",
       "2  House / apartment      -21474          -1134           1                0   \n",
       "3  House / apartment      -19110          -3051           1                0   \n",
       "4  House / apartment      -19110          -3051           1                0   \n",
       "\n",
       "   FLAG_PHONE  FLAG_EMAIL OCCUPATION_TYPE  CNT_FAM_MEMBERS  label  \n",
       "0           0           0             NaN              2.0      1  \n",
       "1           0           0             NaN              2.0      1  \n",
       "2           0           0  Security staff              2.0      0  \n",
       "3           1           1     Sales staff              1.0      0  \n",
       "4           1           1     Sales staff              1.0      0  "
      ]
     },
     "execution_count": 128,
     "metadata": {},
     "output_type": "execute_result"
    }
   ],
   "source": [
    "dataset = merged_app_credit.drop('ID', axis=1)\n",
    "dataset.head(5)"
   ]
  },
  {
   "cell_type": "code",
   "execution_count": 129,
   "metadata": {
    "colab": {
     "base_uri": "https://localhost:8080/",
     "height": 614
    },
    "id": "z6jCo4Cl6lV2",
    "outputId": "cf651ab9-fe39-4c03-9702-1880104e29b7"
   },
   "outputs": [
    {
     "data": {
      "text/html": [
       "<div>\n",
       "<style scoped>\n",
       "    .dataframe tbody tr th:only-of-type {\n",
       "        vertical-align: middle;\n",
       "    }\n",
       "\n",
       "    .dataframe tbody tr th {\n",
       "        vertical-align: top;\n",
       "    }\n",
       "\n",
       "    .dataframe thead th {\n",
       "        text-align: right;\n",
       "    }\n",
       "</style>\n",
       "<table border=\"1\" class=\"dataframe\">\n",
       "  <thead>\n",
       "    <tr style=\"text-align: right;\">\n",
       "      <th></th>\n",
       "      <th>missing</th>\n",
       "      <th>missing_percent</th>\n",
       "    </tr>\n",
       "  </thead>\n",
       "  <tbody>\n",
       "    <tr>\n",
       "      <th>CODE_GENDER</th>\n",
       "      <td>0</td>\n",
       "      <td>0.000000</td>\n",
       "    </tr>\n",
       "    <tr>\n",
       "      <th>FLAG_OWN_CAR</th>\n",
       "      <td>0</td>\n",
       "      <td>0.000000</td>\n",
       "    </tr>\n",
       "    <tr>\n",
       "      <th>FLAG_OWN_REALTY</th>\n",
       "      <td>0</td>\n",
       "      <td>0.000000</td>\n",
       "    </tr>\n",
       "    <tr>\n",
       "      <th>CNT_CHILDREN</th>\n",
       "      <td>0</td>\n",
       "      <td>0.000000</td>\n",
       "    </tr>\n",
       "    <tr>\n",
       "      <th>AMT_INCOME_TOTAL</th>\n",
       "      <td>0</td>\n",
       "      <td>0.000000</td>\n",
       "    </tr>\n",
       "    <tr>\n",
       "      <th>NAME_INCOME_TYPE</th>\n",
       "      <td>0</td>\n",
       "      <td>0.000000</td>\n",
       "    </tr>\n",
       "    <tr>\n",
       "      <th>NAME_EDUCATION_TYPE</th>\n",
       "      <td>0</td>\n",
       "      <td>0.000000</td>\n",
       "    </tr>\n",
       "    <tr>\n",
       "      <th>NAME_FAMILY_STATUS</th>\n",
       "      <td>0</td>\n",
       "      <td>0.000000</td>\n",
       "    </tr>\n",
       "    <tr>\n",
       "      <th>NAME_HOUSING_TYPE</th>\n",
       "      <td>0</td>\n",
       "      <td>0.000000</td>\n",
       "    </tr>\n",
       "    <tr>\n",
       "      <th>DAYS_BIRTH</th>\n",
       "      <td>0</td>\n",
       "      <td>0.000000</td>\n",
       "    </tr>\n",
       "    <tr>\n",
       "      <th>DAYS_EMPLOYED</th>\n",
       "      <td>0</td>\n",
       "      <td>0.000000</td>\n",
       "    </tr>\n",
       "    <tr>\n",
       "      <th>FLAG_MOBIL</th>\n",
       "      <td>0</td>\n",
       "      <td>0.000000</td>\n",
       "    </tr>\n",
       "    <tr>\n",
       "      <th>FLAG_WORK_PHONE</th>\n",
       "      <td>0</td>\n",
       "      <td>0.000000</td>\n",
       "    </tr>\n",
       "    <tr>\n",
       "      <th>FLAG_PHONE</th>\n",
       "      <td>0</td>\n",
       "      <td>0.000000</td>\n",
       "    </tr>\n",
       "    <tr>\n",
       "      <th>FLAG_EMAIL</th>\n",
       "      <td>0</td>\n",
       "      <td>0.000000</td>\n",
       "    </tr>\n",
       "    <tr>\n",
       "      <th>OCCUPATION_TYPE</th>\n",
       "      <td>11323</td>\n",
       "      <td>31.058507</td>\n",
       "    </tr>\n",
       "    <tr>\n",
       "      <th>CNT_FAM_MEMBERS</th>\n",
       "      <td>0</td>\n",
       "      <td>0.000000</td>\n",
       "    </tr>\n",
       "    <tr>\n",
       "      <th>label</th>\n",
       "      <td>0</td>\n",
       "      <td>0.000000</td>\n",
       "    </tr>\n",
       "  </tbody>\n",
       "</table>\n",
       "</div>"
      ],
      "text/plain": [
       "                     missing  missing_percent\n",
       "CODE_GENDER                0         0.000000\n",
       "FLAG_OWN_CAR               0         0.000000\n",
       "FLAG_OWN_REALTY            0         0.000000\n",
       "CNT_CHILDREN               0         0.000000\n",
       "AMT_INCOME_TOTAL           0         0.000000\n",
       "NAME_INCOME_TYPE           0         0.000000\n",
       "NAME_EDUCATION_TYPE        0         0.000000\n",
       "NAME_FAMILY_STATUS         0         0.000000\n",
       "NAME_HOUSING_TYPE          0         0.000000\n",
       "DAYS_BIRTH                 0         0.000000\n",
       "DAYS_EMPLOYED              0         0.000000\n",
       "FLAG_MOBIL                 0         0.000000\n",
       "FLAG_WORK_PHONE            0         0.000000\n",
       "FLAG_PHONE                 0         0.000000\n",
       "FLAG_EMAIL                 0         0.000000\n",
       "OCCUPATION_TYPE        11323        31.058507\n",
       "CNT_FAM_MEMBERS            0         0.000000\n",
       "label                      0         0.000000"
      ]
     },
     "execution_count": 129,
     "metadata": {},
     "output_type": "execute_result"
    }
   ],
   "source": [
    "# checking nulls\n",
    "missing_val_checks = pd.DataFrame({'missing' : dataset.isnull().sum(), 'missing_percent' : (dataset.isnull().sum()/len(dataset))*100})\n",
    "missing_val_checks"
   ]
  },
  {
   "cell_type": "code",
   "execution_count": 130,
   "metadata": {
    "colab": {
     "base_uri": "https://localhost:8080/"
    },
    "id": "ZkaghsnK6lV2",
    "outputId": "dc479c3b-2b81-4787-9d26-955de59cdb99"
   },
   "outputs": [
    {
     "data": {
      "text/plain": [
       "Laborers                 6211\n",
       "Core staff               3591\n",
       "Sales staff              3485\n",
       "Managers                 3012\n",
       "Drivers                  2138\n",
       "High skill tech staff    1383\n",
       "Accountants              1241\n",
       "Medicine staff           1207\n",
       "Cooking staff             655\n",
       "Security staff            592\n",
       "Cleaning staff            551\n",
       "Private service staff     344\n",
       "Low-skill Laborers        175\n",
       "Waiters/barmen staff      174\n",
       "Secretaries               151\n",
       "HR staff                   85\n",
       "Realty agents              79\n",
       "IT staff                   60\n",
       "Name: OCCUPATION_TYPE, dtype: int64"
      ]
     },
     "execution_count": 130,
     "metadata": {},
     "output_type": "execute_result"
    }
   ],
   "source": [
    "dataset['OCCUPATION_TYPE'].value_counts()"
   ]
  },
  {
   "cell_type": "code",
   "execution_count": 131,
   "metadata": {
    "colab": {
     "base_uri": "https://localhost:8080/"
    },
    "id": "vv2UkAFz6lV2",
    "outputId": "7e39cccd-3b59-414e-d821-c07df0f49ba4"
   },
   "outputs": [
    {
     "name": "stderr",
     "output_type": "stream",
     "text": [
      "/home/praths/anaconda3/envs/py36_gpu/lib/python3.6/site-packages/ipykernel_launcher.py:1: SettingWithCopyWarning: \n",
      "A value is trying to be set on a copy of a slice from a DataFrame\n",
      "\n",
      "See the caveats in the documentation: https://pandas.pydata.org/pandas-docs/stable/user_guide/indexing.html#returning-a-view-versus-a-copy\n",
      "  \"\"\"Entry point for launching an IPython kernel.\n"
     ]
    }
   ],
   "source": [
    "dataset['OCCUPATION_TYPE'][dataset['OCCUPATION_TYPE'].isnull()] =  'Unknown'"
   ]
  },
  {
   "cell_type": "code",
   "execution_count": 132,
   "metadata": {
    "colab": {
     "base_uri": "https://localhost:8080/"
    },
    "id": "vhMH6g3F6lV3",
    "outputId": "d8c3495e-cdb7-4182-bc90-b21d43353d66"
   },
   "outputs": [
    {
     "data": {
      "text/plain": [
       "CODE_GENDER            False\n",
       "FLAG_OWN_CAR           False\n",
       "FLAG_OWN_REALTY        False\n",
       "CNT_CHILDREN           False\n",
       "AMT_INCOME_TOTAL       False\n",
       "NAME_INCOME_TYPE       False\n",
       "NAME_EDUCATION_TYPE    False\n",
       "NAME_FAMILY_STATUS     False\n",
       "NAME_HOUSING_TYPE      False\n",
       "DAYS_BIRTH             False\n",
       "DAYS_EMPLOYED          False\n",
       "FLAG_MOBIL             False\n",
       "FLAG_WORK_PHONE        False\n",
       "FLAG_PHONE             False\n",
       "FLAG_EMAIL             False\n",
       "OCCUPATION_TYPE        False\n",
       "CNT_FAM_MEMBERS        False\n",
       "label                  False\n",
       "dtype: bool"
      ]
     },
     "execution_count": 132,
     "metadata": {},
     "output_type": "execute_result"
    }
   ],
   "source": [
    "dataset.isnull().any()"
   ]
  },
  {
   "cell_type": "markdown",
   "metadata": {
    "id": "ckAp2ceE6lV3"
   },
   "source": [
    "##  train test split (stratified)"
   ]
  },
  {
   "cell_type": "code",
   "execution_count": 133,
   "metadata": {
    "id": "pyuNCnNA6lV3"
   },
   "outputs": [],
   "source": [
    "y = dataset.pop('label').to_frame()\n",
    "X = dataset"
   ]
  },
  {
   "cell_type": "code",
   "execution_count": 134,
   "metadata": {
    "id": "DQlSWTzP6lV3"
   },
   "outputs": [],
   "source": [
    "X_train, X_test, y_train, y_test = train_test_split(\n",
    "        X, y,stratify=y, test_size=0.3)"
   ]
  },
  {
   "cell_type": "code",
   "execution_count": 135,
   "metadata": {
    "colab": {
     "base_uri": "https://localhost:8080/"
    },
    "id": "vMV8fLi76lV3",
    "outputId": "cb18e87e-4f7c-4aa8-cf11-6f91eed5807a"
   },
   "outputs": [
    {
     "data": {
      "text/plain": [
       "((25519, 17), (25519, 1), (10938, 17), (10938, 1))"
      ]
     },
     "execution_count": 135,
     "metadata": {},
     "output_type": "execute_result"
    }
   ],
   "source": [
    "X_train.shape, y_train.shape, X_test.shape, y_test.shape"
   ]
  },
  {
   "cell_type": "code",
   "execution_count": 136,
   "metadata": {
    "colab": {
     "base_uri": "https://localhost:8080/"
    },
    "id": "Y9-A2iNM6lV4",
    "outputId": "8d79f4fd-e296-4b08-e07d-4955d7b42e5f"
   },
   "outputs": [
    {
     "data": {
      "text/plain": [
       "0    88.228379\n",
       "1    11.771621\n",
       "Name: label, dtype: float64"
      ]
     },
     "execution_count": 136,
     "metadata": {},
     "output_type": "execute_result"
    }
   ],
   "source": [
    "y_train['label'].value_counts() / len(y_train['label']) * 100 "
   ]
  },
  {
   "cell_type": "code",
   "execution_count": 137,
   "metadata": {
    "colab": {
     "base_uri": "https://localhost:8080/"
    },
    "id": "ojo100nk6lV4",
    "outputId": "97828374-3f6a-45fe-a678-324219df91b0"
   },
   "outputs": [
    {
     "data": {
      "text/plain": [
       "0    88.233681\n",
       "1    11.766319\n",
       "Name: label, dtype: float64"
      ]
     },
     "execution_count": 137,
     "metadata": {},
     "output_type": "execute_result"
    }
   ],
   "source": [
    "y_test['label'].value_counts() / len(y_test['label']) * 100"
   ]
  },
  {
   "cell_type": "markdown",
   "metadata": {
    "id": "XMLxyFiT6lV4"
   },
   "source": [
    "## EDA"
   ]
  },
  {
   "cell_type": "code",
   "execution_count": 138,
   "metadata": {
    "colab": {
     "base_uri": "https://localhost:8080/",
     "height": 582
    },
    "id": "K2z7kVku6lV4",
    "outputId": "30cd6ec7-d5dd-4182-e68d-8b23752d2d6a"
   },
   "outputs": [
    {
     "data": {
      "text/html": [
       "<div>\n",
       "<style scoped>\n",
       "    .dataframe tbody tr th:only-of-type {\n",
       "        vertical-align: middle;\n",
       "    }\n",
       "\n",
       "    .dataframe tbody tr th {\n",
       "        vertical-align: top;\n",
       "    }\n",
       "\n",
       "    .dataframe thead th {\n",
       "        text-align: right;\n",
       "    }\n",
       "</style>\n",
       "<table border=\"1\" class=\"dataframe\">\n",
       "  <thead>\n",
       "    <tr style=\"text-align: right;\">\n",
       "      <th></th>\n",
       "      <th>missing</th>\n",
       "      <th>missing_percent</th>\n",
       "    </tr>\n",
       "  </thead>\n",
       "  <tbody>\n",
       "    <tr>\n",
       "      <th>CODE_GENDER</th>\n",
       "      <td>0</td>\n",
       "      <td>0.0</td>\n",
       "    </tr>\n",
       "    <tr>\n",
       "      <th>FLAG_OWN_CAR</th>\n",
       "      <td>0</td>\n",
       "      <td>0.0</td>\n",
       "    </tr>\n",
       "    <tr>\n",
       "      <th>FLAG_OWN_REALTY</th>\n",
       "      <td>0</td>\n",
       "      <td>0.0</td>\n",
       "    </tr>\n",
       "    <tr>\n",
       "      <th>CNT_CHILDREN</th>\n",
       "      <td>0</td>\n",
       "      <td>0.0</td>\n",
       "    </tr>\n",
       "    <tr>\n",
       "      <th>AMT_INCOME_TOTAL</th>\n",
       "      <td>0</td>\n",
       "      <td>0.0</td>\n",
       "    </tr>\n",
       "    <tr>\n",
       "      <th>NAME_INCOME_TYPE</th>\n",
       "      <td>0</td>\n",
       "      <td>0.0</td>\n",
       "    </tr>\n",
       "    <tr>\n",
       "      <th>NAME_EDUCATION_TYPE</th>\n",
       "      <td>0</td>\n",
       "      <td>0.0</td>\n",
       "    </tr>\n",
       "    <tr>\n",
       "      <th>NAME_FAMILY_STATUS</th>\n",
       "      <td>0</td>\n",
       "      <td>0.0</td>\n",
       "    </tr>\n",
       "    <tr>\n",
       "      <th>NAME_HOUSING_TYPE</th>\n",
       "      <td>0</td>\n",
       "      <td>0.0</td>\n",
       "    </tr>\n",
       "    <tr>\n",
       "      <th>DAYS_BIRTH</th>\n",
       "      <td>0</td>\n",
       "      <td>0.0</td>\n",
       "    </tr>\n",
       "    <tr>\n",
       "      <th>DAYS_EMPLOYED</th>\n",
       "      <td>0</td>\n",
       "      <td>0.0</td>\n",
       "    </tr>\n",
       "    <tr>\n",
       "      <th>FLAG_MOBIL</th>\n",
       "      <td>0</td>\n",
       "      <td>0.0</td>\n",
       "    </tr>\n",
       "    <tr>\n",
       "      <th>FLAG_WORK_PHONE</th>\n",
       "      <td>0</td>\n",
       "      <td>0.0</td>\n",
       "    </tr>\n",
       "    <tr>\n",
       "      <th>FLAG_PHONE</th>\n",
       "      <td>0</td>\n",
       "      <td>0.0</td>\n",
       "    </tr>\n",
       "    <tr>\n",
       "      <th>FLAG_EMAIL</th>\n",
       "      <td>0</td>\n",
       "      <td>0.0</td>\n",
       "    </tr>\n",
       "    <tr>\n",
       "      <th>OCCUPATION_TYPE</th>\n",
       "      <td>0</td>\n",
       "      <td>0.0</td>\n",
       "    </tr>\n",
       "    <tr>\n",
       "      <th>CNT_FAM_MEMBERS</th>\n",
       "      <td>0</td>\n",
       "      <td>0.0</td>\n",
       "    </tr>\n",
       "  </tbody>\n",
       "</table>\n",
       "</div>"
      ],
      "text/plain": [
       "                     missing  missing_percent\n",
       "CODE_GENDER                0              0.0\n",
       "FLAG_OWN_CAR               0              0.0\n",
       "FLAG_OWN_REALTY            0              0.0\n",
       "CNT_CHILDREN               0              0.0\n",
       "AMT_INCOME_TOTAL           0              0.0\n",
       "NAME_INCOME_TYPE           0              0.0\n",
       "NAME_EDUCATION_TYPE        0              0.0\n",
       "NAME_FAMILY_STATUS         0              0.0\n",
       "NAME_HOUSING_TYPE          0              0.0\n",
       "DAYS_BIRTH                 0              0.0\n",
       "DAYS_EMPLOYED              0              0.0\n",
       "FLAG_MOBIL                 0              0.0\n",
       "FLAG_WORK_PHONE            0              0.0\n",
       "FLAG_PHONE                 0              0.0\n",
       "FLAG_EMAIL                 0              0.0\n",
       "OCCUPATION_TYPE            0              0.0\n",
       "CNT_FAM_MEMBERS            0              0.0"
      ]
     },
     "execution_count": 138,
     "metadata": {},
     "output_type": "execute_result"
    }
   ],
   "source": [
    "missing_val_checks = pd.DataFrame({'missing' : X_train.isnull().sum(), 'missing_percent' : (X_train.isnull().sum()/len(X_train))*100})\n",
    "missing_val_checks"
   ]
  },
  {
   "cell_type": "code",
   "execution_count": 139,
   "metadata": {
    "colab": {
     "base_uri": "https://localhost:8080/"
    },
    "id": "tRftRALx6lV4",
    "outputId": "f915fc92-64db-4399-91be-dc05cf46eca9"
   },
   "outputs": [
    {
     "name": "stdout",
     "output_type": "stream",
     "text": [
      "<class 'pandas.core.frame.DataFrame'>\n",
      "Int64Index: 25519 entries, 12264 to 24272\n",
      "Data columns (total 17 columns):\n",
      " #   Column               Non-Null Count  Dtype  \n",
      "---  ------               --------------  -----  \n",
      " 0   CODE_GENDER          25519 non-null  object \n",
      " 1   FLAG_OWN_CAR         25519 non-null  object \n",
      " 2   FLAG_OWN_REALTY      25519 non-null  object \n",
      " 3   CNT_CHILDREN         25519 non-null  int64  \n",
      " 4   AMT_INCOME_TOTAL     25519 non-null  float64\n",
      " 5   NAME_INCOME_TYPE     25519 non-null  object \n",
      " 6   NAME_EDUCATION_TYPE  25519 non-null  object \n",
      " 7   NAME_FAMILY_STATUS   25519 non-null  object \n",
      " 8   NAME_HOUSING_TYPE    25519 non-null  object \n",
      " 9   DAYS_BIRTH           25519 non-null  int64  \n",
      " 10  DAYS_EMPLOYED        25519 non-null  int64  \n",
      " 11  FLAG_MOBIL           25519 non-null  int64  \n",
      " 12  FLAG_WORK_PHONE      25519 non-null  int64  \n",
      " 13  FLAG_PHONE           25519 non-null  int64  \n",
      " 14  FLAG_EMAIL           25519 non-null  int64  \n",
      " 15  OCCUPATION_TYPE      25519 non-null  object \n",
      " 16  CNT_FAM_MEMBERS      25519 non-null  float64\n",
      "dtypes: float64(2), int64(7), object(8)\n",
      "memory usage: 3.5+ MB\n"
     ]
    }
   ],
   "source": [
    "X_train.info()"
   ]
  },
  {
   "cell_type": "code",
   "execution_count": 140,
   "metadata": {
    "colab": {
     "base_uri": "https://localhost:8080/",
     "height": 300
    },
    "id": "HN_HAyDq6lV5",
    "outputId": "8eba1276-8b42-4fe2-8648-7d23b6acb1e5"
   },
   "outputs": [
    {
     "data": {
      "text/html": [
       "<div>\n",
       "<style scoped>\n",
       "    .dataframe tbody tr th:only-of-type {\n",
       "        vertical-align: middle;\n",
       "    }\n",
       "\n",
       "    .dataframe tbody tr th {\n",
       "        vertical-align: top;\n",
       "    }\n",
       "\n",
       "    .dataframe thead th {\n",
       "        text-align: right;\n",
       "    }\n",
       "</style>\n",
       "<table border=\"1\" class=\"dataframe\">\n",
       "  <thead>\n",
       "    <tr style=\"text-align: right;\">\n",
       "      <th></th>\n",
       "      <th>CNT_CHILDREN</th>\n",
       "      <th>AMT_INCOME_TOTAL</th>\n",
       "      <th>DAYS_BIRTH</th>\n",
       "      <th>DAYS_EMPLOYED</th>\n",
       "      <th>FLAG_MOBIL</th>\n",
       "      <th>FLAG_WORK_PHONE</th>\n",
       "      <th>FLAG_PHONE</th>\n",
       "      <th>FLAG_EMAIL</th>\n",
       "      <th>CNT_FAM_MEMBERS</th>\n",
       "    </tr>\n",
       "  </thead>\n",
       "  <tbody>\n",
       "    <tr>\n",
       "      <th>count</th>\n",
       "      <td>25519.000000</td>\n",
       "      <td>2.551900e+04</td>\n",
       "      <td>25519.000000</td>\n",
       "      <td>25519.000000</td>\n",
       "      <td>25519.0</td>\n",
       "      <td>25519.000000</td>\n",
       "      <td>25519.000000</td>\n",
       "      <td>25519.000000</td>\n",
       "      <td>25519.000000</td>\n",
       "    </tr>\n",
       "    <tr>\n",
       "      <th>mean</th>\n",
       "      <td>0.428700</td>\n",
       "      <td>1.869658e+05</td>\n",
       "      <td>-15953.719777</td>\n",
       "      <td>59191.466437</td>\n",
       "      <td>1.0</td>\n",
       "      <td>0.227634</td>\n",
       "      <td>0.295858</td>\n",
       "      <td>0.088953</td>\n",
       "      <td>2.197813</td>\n",
       "    </tr>\n",
       "    <tr>\n",
       "      <th>std</th>\n",
       "      <td>0.730362</td>\n",
       "      <td>1.021142e+05</td>\n",
       "      <td>4202.457448</td>\n",
       "      <td>137600.551573</td>\n",
       "      <td>0.0</td>\n",
       "      <td>0.419314</td>\n",
       "      <td>0.456436</td>\n",
       "      <td>0.284682</td>\n",
       "      <td>0.901911</td>\n",
       "    </tr>\n",
       "    <tr>\n",
       "      <th>min</th>\n",
       "      <td>0.000000</td>\n",
       "      <td>2.700000e+04</td>\n",
       "      <td>-25152.000000</td>\n",
       "      <td>-15713.000000</td>\n",
       "      <td>1.0</td>\n",
       "      <td>0.000000</td>\n",
       "      <td>0.000000</td>\n",
       "      <td>0.000000</td>\n",
       "      <td>1.000000</td>\n",
       "    </tr>\n",
       "    <tr>\n",
       "      <th>25%</th>\n",
       "      <td>0.000000</td>\n",
       "      <td>1.215000e+05</td>\n",
       "      <td>-19421.500000</td>\n",
       "      <td>-3166.000000</td>\n",
       "      <td>1.0</td>\n",
       "      <td>0.000000</td>\n",
       "      <td>0.000000</td>\n",
       "      <td>0.000000</td>\n",
       "      <td>2.000000</td>\n",
       "    </tr>\n",
       "    <tr>\n",
       "      <th>50%</th>\n",
       "      <td>0.000000</td>\n",
       "      <td>1.575000e+05</td>\n",
       "      <td>-15552.000000</td>\n",
       "      <td>-1557.000000</td>\n",
       "      <td>1.0</td>\n",
       "      <td>0.000000</td>\n",
       "      <td>0.000000</td>\n",
       "      <td>0.000000</td>\n",
       "      <td>2.000000</td>\n",
       "    </tr>\n",
       "    <tr>\n",
       "      <th>75%</th>\n",
       "      <td>1.000000</td>\n",
       "      <td>2.250000e+05</td>\n",
       "      <td>-12427.000000</td>\n",
       "      <td>-412.000000</td>\n",
       "      <td>1.0</td>\n",
       "      <td>0.000000</td>\n",
       "      <td>1.000000</td>\n",
       "      <td>0.000000</td>\n",
       "      <td>3.000000</td>\n",
       "    </tr>\n",
       "    <tr>\n",
       "      <th>max</th>\n",
       "      <td>14.000000</td>\n",
       "      <td>1.575000e+06</td>\n",
       "      <td>-7489.000000</td>\n",
       "      <td>365243.000000</td>\n",
       "      <td>1.0</td>\n",
       "      <td>1.000000</td>\n",
       "      <td>1.000000</td>\n",
       "      <td>1.000000</td>\n",
       "      <td>15.000000</td>\n",
       "    </tr>\n",
       "  </tbody>\n",
       "</table>\n",
       "</div>"
      ],
      "text/plain": [
       "       CNT_CHILDREN  AMT_INCOME_TOTAL    DAYS_BIRTH  DAYS_EMPLOYED  \\\n",
       "count  25519.000000      2.551900e+04  25519.000000   25519.000000   \n",
       "mean       0.428700      1.869658e+05 -15953.719777   59191.466437   \n",
       "std        0.730362      1.021142e+05   4202.457448  137600.551573   \n",
       "min        0.000000      2.700000e+04 -25152.000000  -15713.000000   \n",
       "25%        0.000000      1.215000e+05 -19421.500000   -3166.000000   \n",
       "50%        0.000000      1.575000e+05 -15552.000000   -1557.000000   \n",
       "75%        1.000000      2.250000e+05 -12427.000000    -412.000000   \n",
       "max       14.000000      1.575000e+06  -7489.000000  365243.000000   \n",
       "\n",
       "       FLAG_MOBIL  FLAG_WORK_PHONE    FLAG_PHONE    FLAG_EMAIL  \\\n",
       "count     25519.0     25519.000000  25519.000000  25519.000000   \n",
       "mean          1.0         0.227634      0.295858      0.088953   \n",
       "std           0.0         0.419314      0.456436      0.284682   \n",
       "min           1.0         0.000000      0.000000      0.000000   \n",
       "25%           1.0         0.000000      0.000000      0.000000   \n",
       "50%           1.0         0.000000      0.000000      0.000000   \n",
       "75%           1.0         0.000000      1.000000      0.000000   \n",
       "max           1.0         1.000000      1.000000      1.000000   \n",
       "\n",
       "       CNT_FAM_MEMBERS  \n",
       "count     25519.000000  \n",
       "mean          2.197813  \n",
       "std           0.901911  \n",
       "min           1.000000  \n",
       "25%           2.000000  \n",
       "50%           2.000000  \n",
       "75%           3.000000  \n",
       "max          15.000000  "
      ]
     },
     "execution_count": 140,
     "metadata": {},
     "output_type": "execute_result"
    }
   ],
   "source": [
    "# univariate analysis for continuous variables\n",
    "X_train.describe()"
   ]
  },
  {
   "cell_type": "code",
   "execution_count": 141,
   "metadata": {
    "id": "BlDya28y6lV5"
   },
   "outputs": [],
   "source": [
    "continuous_vars = ['AMT_INCOME_TOTAL', 'DAYS_BIRTH', 'DAYS_EMPLOYED']\n",
    "catagorical_vars =  X_train.describe().columns.difference(continuous_vars).tolist() + ['OCCUPATION_TYPE', 'FLAG_OWN_CAR', 'FLAG_OWN_REALTY', 'NAME_INCOME_TYPE', 'NAME_EDUCATION_TYPE', \n",
    " 'NAME_FAMILY_STATUS', 'NAME_HOUSING_TYPE']"
   ]
  },
  {
   "cell_type": "code",
   "execution_count": 142,
   "metadata": {
    "id": "s0HHJrQS6lV5"
   },
   "outputs": [],
   "source": [
    "# pivot_train"
   ]
  },
  {
   "cell_type": "markdown",
   "metadata": {
    "id": "vgrGYf256lV5"
   },
   "source": [
    "###  bivariate with continuous variables"
   ]
  },
  {
   "cell_type": "code",
   "execution_count": 143,
   "metadata": {
    "colab": {
     "base_uri": "https://localhost:8080/",
     "height": 857
    },
    "id": "j-qzNylf6lV5",
    "outputId": "73a3f7db-5e71-45b6-b064-0e76a1850d3b",
    "slideshow": {
     "slide_type": "slide"
    }
   },
   "outputs": [
    {
     "data": {
      "image/png": "[encoded data removed]",
      "text/plain": [
       "<Figure size 576x288 with 1 Axes>"
      ]
     },
     "metadata": {
      "needs_background": "light"
     },
     "output_type": "display_data"
    },
    {
     "data": {
      "image/png": "[encoded data removed]",
      "text/plain": [
       "<Figure size 576x288 with 1 Axes>"
      ]
     },
     "metadata": {
      "needs_background": "light"
     },
     "output_type": "display_data"
    },
    {
     "data": {
      "image/png": "[encoded data removed]",
      "text/plain": [
       "<Figure size 576x288 with 1 Axes>"
      ]
     },
     "metadata": {
      "needs_background": "light"
     },
     "output_type": "display_data"
    }
   ],
   "source": [
    "#this function calculates the default rate\n",
    "def default_rate_continous_var_calc(row):\n",
    "    default_rate = float(row['CODE_GENDER'][1] / float(row['CODE_GENDER'][0] + row['CODE_GENDER'][1]))\n",
    "    return default_rate\n",
    "\n",
    "for col in continuous_vars:\n",
    "    fig,(ax) = plt.subplots(figsize=(8,4), ncols=1)\n",
    "\n",
    "    pivot_test = pd.pivot_table(X_train,index=(col, y_train['label']), values=('CODE_GENDER'), aggfunc=len)\n",
    "\n",
    "    pivot_test = pivot_test.unstack()\n",
    "    pivot_test = pivot_test.reset_index()\n",
    "\n",
    "    pivot_test['default_rate'] = pivot_test.apply(default_rate_continous_var_calc, axis=1)\n",
    "\n",
    "    x_axis = pivot_test[col][pivot_test['default_rate'].notnull()]\n",
    "\n",
    "    #plotting line\n",
    "    failure_rate, = ax.plot(x_axis,pivot_test['default_rate'][pivot_test['default_rate'].notnull()],linewidth = 1, label = 'default_rate')\n",
    "\n",
    "    #processing for trendline\n",
    "    z = np.polyfit(x_axis, pivot_test['default_rate'][pivot_test['default_rate'].notnull()],1)\n",
    "    p = np.poly1d(z)\n",
    "\n",
    "    #plotting trendline\n",
    "    trend_line, = ax.plot(pivot_test[str(col)][(pivot_test['CODE_GENDER'][1].notnull()) & \n",
    "                                                (pivot_test['CODE_GENDER'][0].notnull())],\n",
    "                          p(pivot_test[str(col)][(pivot_test['CODE_GENDER'][1].notnull()) & \n",
    "                                                  (pivot_test['CODE_GENDER'][0].notnull())]),\"r-\", label = 'trend_line')\n",
    "\n",
    "\n",
    "    plt.xlabel(str(col))\n",
    "    plt.ylabel('default_rate')\n",
    "\n",
    "#     plt.xlim(xmin = 0)\n",
    "\n",
    "    ax.legend([failure_rate, trend_line], ['default_rate', 'trend_line'])\n",
    "    fig.tight_layout()\n",
    "    fig.show()"
   ]
  },
  {
   "cell_type": "code",
   "execution_count": 144,
   "metadata": {
    "id": "zjDsPHiq6lV5"
   },
   "outputs": [],
   "source": [
    "# +ve correlation with amt_income_total and days_employed, there is no variance for days_birth - \n",
    "# this variable is probably useless"
   ]
  },
  {
   "cell_type": "markdown",
   "metadata": {
    "id": "6Da-Z62D6lV6"
   },
   "source": [
    "###  bivariate with catagorical variables"
   ]
  },
  {
   "cell_type": "code",
   "execution_count": 145,
   "metadata": {
    "colab": {
     "base_uri": "https://localhost:8080/",
     "height": 1000
    },
    "id": "nHr1g43y6lV6",
    "outputId": "924a75e5-6148-44b5-cbe8-75d208b3607b",
    "scrolled": false
   },
   "outputs": [
    {
     "data": {
      "image/png": "[encoded data removed]",
      "text/plain": [
       "<Figure size 864x288 with 1 Axes>"
      ]
     },
     "metadata": {
      "needs_background": "light"
     },
     "output_type": "display_data"
    },
    {
     "data": {
      "image/png": "[encoded data removed]",
      "text/plain": [
       "<Figure size 864x288 with 1 Axes>"
      ]
     },
     "metadata": {
      "needs_background": "light"
     },
     "output_type": "display_data"
    },
    {
     "data": {
      "image/png": "[encoded data removed]",
      "text/plain": [
       "<Figure size 864x288 with 1 Axes>"
      ]
     },
     "metadata": {
      "needs_background": "light"
     },
     "output_type": "display_data"
    },
    {
     "data": {
      "image/png": "[encoded data removed]",
      "text/plain": [
       "<Figure size 864x288 with 1 Axes>"
      ]
     },
     "metadata": {
      "needs_background": "light"
     },
     "output_type": "display_data"
    },
    {
     "data": {
      "image/png": "[encoded data removed]",
      "text/plain": [
       "<Figure size 864x288 with 1 Axes>"
      ]
     },
     "metadata": {
      "needs_background": "light"
     },
     "output_type": "display_data"
    },
    {
     "data": {
      "image/png": "[encoded data removed]",
      "text/plain": [
       "<Figure size 864x288 with 1 Axes>"
      ]
     },
     "metadata": {
      "needs_background": "light"
     },
     "output_type": "display_data"
    },
    {
     "data": {
      "image/png": "[encoded data removed]",
      "text/plain": [
       "<Figure size 864x288 with 1 Axes>"
      ]
     },
     "metadata": {
      "needs_background": "light"
     },
     "output_type": "display_data"
    },
    {
     "data": {
      "image/png": "[encoded data removed]",
      "text/plain": [
       "<Figure size 864x288 with 1 Axes>"
      ]
     },
     "metadata": {
      "needs_background": "light"
     },
     "output_type": "display_data"
    },
    {
     "data": {
      "image/png": "[encoded data removed]",
      "text/plain": [
       "<Figure size 864x288 with 1 Axes>"
      ]
     },
     "metadata": {
      "needs_background": "light"
     },
     "output_type": "display_data"
    },
    {
     "data": {
      "image/png": "[encoded data removed]",
      "text/plain": [
       "<Figure size 864x288 with 1 Axes>"
      ]
     },
     "metadata": {
      "needs_background": "light"
     },
     "output_type": "display_data"
    },
    {
     "data": {
      "image/png": "[encoded data removed]",
      "text/plain": [
       "<Figure size 864x288 with 1 Axes>"
      ]
     },
     "metadata": {
      "needs_background": "light"
     },
     "output_type": "display_data"
    },
    {
     "data": {
      "image/png": "[encoded data removed]",
      "text/plain": [
       "<Figure size 864x288 with 1 Axes>"
      ]
     },
     "metadata": {
      "needs_background": "light"
     },
     "output_type": "display_data"
    },
    {
     "data": {
      "image/png": "[encoded data removed]",
      "text/plain": [
       "<Figure size 864x288 with 1 Axes>"
      ]
     },
     "metadata": {
      "needs_background": "light"
     },
     "output_type": "display_data"
    }
   ],
   "source": [
    "#this function calculates the default rate\n",
    "def default_rate_categorical_var_calc(row):\n",
    "    default_rate = float(row['AMT_INCOME_TOTAL'][1] / float(row['AMT_INCOME_TOTAL'][0] + row['AMT_INCOME_TOTAL'][1]))\n",
    "    return default_rate\n",
    "\n",
    "#here we do a bivariate for column vs renewal rate for catagorical variables\n",
    "for col in catagorical_vars:\n",
    "    fig,(ax) = plt.subplots(figsize=(12,4), ncols=1)\n",
    "    \n",
    "    pivot_test = pd.pivot_table(X_train,index=(str(col), y_train['label']), values=('AMT_INCOME_TOTAL'), aggfunc=len)\n",
    "\n",
    "    pivot_test = pivot_test.unstack()\n",
    "    pivot_test = pivot_test.reset_index()\n",
    "\n",
    "    pivot_test['default_rate'] = pivot_test.apply(default_rate_categorical_var_calc, axis=1)\n",
    "    pivot_test['default_rate'].plot(kind='bar')\n",
    "    plt.legend([failure_rate], ['default_rate'])\n",
    "    plt.xlabel(str(col) + ' categories')\n",
    "    plt.ylabel('default_rate')\n",
    "    plt.xticks(np.array(pivot_test.index),pivot_test[str(col)])"
   ]
  },
  {
   "cell_type": "code",
   "execution_count": 146,
   "metadata": {
    "id": "9y-xg1_w6lV6"
   },
   "outputs": [],
   "source": [
    "## children count, family count, flag_email, flag_mobile and some variance in occupation "
   ]
  },
  {
   "cell_type": "markdown",
   "metadata": {
    "id": "JKlynTBw6lV6"
   },
   "source": [
    "## Model fit"
   ]
  },
  {
   "cell_type": "code",
   "execution_count": 147,
   "metadata": {
    "id": "oPeKRLuF6lV6"
   },
   "outputs": [],
   "source": [
    "# import tensorflow as tf\n",
    "# from tensorflow.keras.models import Sequential\n",
    "# from tensorflow.keras.layers import Dense\n",
    "# # from scikeras.wrappers import KerasClassifier\n"
   ]
  },
  {
   "cell_type": "code",
   "execution_count": 148,
   "metadata": {
    "id": "Bzfs6LWt6lV7"
   },
   "outputs": [],
   "source": [
    "from sklearn.model_selection import cross_val_score\n",
    "from sklearn.preprocessing import LabelEncoder\n",
    "from sklearn.model_selection import StratifiedKFold\n",
    "from sklearn.preprocessing import StandardScaler\n",
    "from sklearn.pipeline import Pipeline\n",
    "from sklearn.metrics import confusion_matrix\n",
    "from sklearn import metrics"
   ]
  },
  {
   "cell_type": "code",
   "execution_count": 149,
   "metadata": {
    "id": "HfxzKviP6lV7"
   },
   "outputs": [],
   "source": [
    "X_train_cat = pd.get_dummies(X_train[catagorical_vars], drop_first=True)\n",
    "X_test_cat = pd.get_dummies(X_test[catagorical_vars], drop_first=True )"
   ]
  },
  {
   "cell_type": "code",
   "execution_count": 150,
   "metadata": {
    "colab": {
     "base_uri": "https://localhost:8080/",
     "height": 191
    },
    "id": "9Na1hvgc6lV7",
    "outputId": "4d564094-1cf0-4092-8df6-11e2791302e0"
   },
   "outputs": [
    {
     "data": {
      "text/html": [
       "<div>\n",
       "<style scoped>\n",
       "    .dataframe tbody tr th:only-of-type {\n",
       "        vertical-align: middle;\n",
       "    }\n",
       "\n",
       "    .dataframe tbody tr th {\n",
       "        vertical-align: top;\n",
       "    }\n",
       "\n",
       "    .dataframe thead th {\n",
       "        text-align: right;\n",
       "    }\n",
       "</style>\n",
       "<table border=\"1\" class=\"dataframe\">\n",
       "  <thead>\n",
       "    <tr style=\"text-align: right;\">\n",
       "      <th></th>\n",
       "      <th>CNT_CHILDREN</th>\n",
       "      <th>CNT_FAM_MEMBERS</th>\n",
       "      <th>FLAG_EMAIL</th>\n",
       "      <th>FLAG_MOBIL</th>\n",
       "      <th>FLAG_PHONE</th>\n",
       "      <th>FLAG_WORK_PHONE</th>\n",
       "      <th>OCCUPATION_TYPE_Cleaning staff</th>\n",
       "      <th>OCCUPATION_TYPE_Cooking staff</th>\n",
       "      <th>OCCUPATION_TYPE_Core staff</th>\n",
       "      <th>OCCUPATION_TYPE_Drivers</th>\n",
       "      <th>...</th>\n",
       "      <th>NAME_EDUCATION_TYPE_Secondary / secondary special</th>\n",
       "      <th>NAME_FAMILY_STATUS_Married</th>\n",
       "      <th>NAME_FAMILY_STATUS_Separated</th>\n",
       "      <th>NAME_FAMILY_STATUS_Single / not married</th>\n",
       "      <th>NAME_FAMILY_STATUS_Widow</th>\n",
       "      <th>NAME_HOUSING_TYPE_House / apartment</th>\n",
       "      <th>NAME_HOUSING_TYPE_Municipal apartment</th>\n",
       "      <th>NAME_HOUSING_TYPE_Office apartment</th>\n",
       "      <th>NAME_HOUSING_TYPE_Rented apartment</th>\n",
       "      <th>NAME_HOUSING_TYPE_With parents</th>\n",
       "    </tr>\n",
       "  </thead>\n",
       "  <tbody>\n",
       "    <tr>\n",
       "      <th>12264</th>\n",
       "      <td>2</td>\n",
       "      <td>4.0</td>\n",
       "      <td>0</td>\n",
       "      <td>1</td>\n",
       "      <td>0</td>\n",
       "      <td>0</td>\n",
       "      <td>0</td>\n",
       "      <td>0</td>\n",
       "      <td>0</td>\n",
       "      <td>1</td>\n",
       "      <td>...</td>\n",
       "      <td>1</td>\n",
       "      <td>1</td>\n",
       "      <td>0</td>\n",
       "      <td>0</td>\n",
       "      <td>0</td>\n",
       "      <td>1</td>\n",
       "      <td>0</td>\n",
       "      <td>0</td>\n",
       "      <td>0</td>\n",
       "      <td>0</td>\n",
       "    </tr>\n",
       "  </tbody>\n",
       "</table>\n",
       "<p>1 rows × 43 columns</p>\n",
       "</div>"
      ],
      "text/plain": [
       "       CNT_CHILDREN  CNT_FAM_MEMBERS  FLAG_EMAIL  FLAG_MOBIL  FLAG_PHONE  \\\n",
       "12264             2              4.0           0           1           0   \n",
       "\n",
       "       FLAG_WORK_PHONE  OCCUPATION_TYPE_Cleaning staff  \\\n",
       "12264                0                               0   \n",
       "\n",
       "       OCCUPATION_TYPE_Cooking staff  OCCUPATION_TYPE_Core staff  \\\n",
       "12264                              0                           0   \n",
       "\n",
       "       OCCUPATION_TYPE_Drivers  ...  \\\n",
       "12264                        1  ...   \n",
       "\n",
       "       NAME_EDUCATION_TYPE_Secondary / secondary special  \\\n",
       "12264                                                  1   \n",
       "\n",
       "       NAME_FAMILY_STATUS_Married  NAME_FAMILY_STATUS_Separated  \\\n",
       "12264                           1                             0   \n",
       "\n",
       "       NAME_FAMILY_STATUS_Single / not married  NAME_FAMILY_STATUS_Widow  \\\n",
       "12264                                        0                         0   \n",
       "\n",
       "       NAME_HOUSING_TYPE_House / apartment  \\\n",
       "12264                                    1   \n",
       "\n",
       "       NAME_HOUSING_TYPE_Municipal apartment  \\\n",
       "12264                                      0   \n",
       "\n",
       "       NAME_HOUSING_TYPE_Office apartment  NAME_HOUSING_TYPE_Rented apartment  \\\n",
       "12264                                   0                                   0   \n",
       "\n",
       "       NAME_HOUSING_TYPE_With parents  \n",
       "12264                               0  \n",
       "\n",
       "[1 rows x 43 columns]"
      ]
     },
     "execution_count": 150,
     "metadata": {},
     "output_type": "execute_result"
    }
   ],
   "source": [
    "X_train_cat.head(1)"
   ]
  },
  {
   "cell_type": "code",
   "execution_count": 151,
   "metadata": {
    "colab": {
     "base_uri": "https://localhost:8080/",
     "height": 191
    },
    "id": "KsyjxKWL6lV7",
    "outputId": "688d65ff-39cc-4562-c2dc-0b5c906cc89e"
   },
   "outputs": [
    {
     "data": {
      "text/html": [
       "<div>\n",
       "<style scoped>\n",
       "    .dataframe tbody tr th:only-of-type {\n",
       "        vertical-align: middle;\n",
       "    }\n",
       "\n",
       "    .dataframe tbody tr th {\n",
       "        vertical-align: top;\n",
       "    }\n",
       "\n",
       "    .dataframe thead th {\n",
       "        text-align: right;\n",
       "    }\n",
       "</style>\n",
       "<table border=\"1\" class=\"dataframe\">\n",
       "  <thead>\n",
       "    <tr style=\"text-align: right;\">\n",
       "      <th></th>\n",
       "      <th>CNT_CHILDREN</th>\n",
       "      <th>CNT_FAM_MEMBERS</th>\n",
       "      <th>FLAG_EMAIL</th>\n",
       "      <th>FLAG_MOBIL</th>\n",
       "      <th>FLAG_PHONE</th>\n",
       "      <th>FLAG_WORK_PHONE</th>\n",
       "      <th>OCCUPATION_TYPE_Cleaning staff</th>\n",
       "      <th>OCCUPATION_TYPE_Cooking staff</th>\n",
       "      <th>OCCUPATION_TYPE_Core staff</th>\n",
       "      <th>OCCUPATION_TYPE_Drivers</th>\n",
       "      <th>...</th>\n",
       "      <th>NAME_EDUCATION_TYPE_Secondary / secondary special</th>\n",
       "      <th>NAME_FAMILY_STATUS_Married</th>\n",
       "      <th>NAME_FAMILY_STATUS_Separated</th>\n",
       "      <th>NAME_FAMILY_STATUS_Single / not married</th>\n",
       "      <th>NAME_FAMILY_STATUS_Widow</th>\n",
       "      <th>NAME_HOUSING_TYPE_House / apartment</th>\n",
       "      <th>NAME_HOUSING_TYPE_Municipal apartment</th>\n",
       "      <th>NAME_HOUSING_TYPE_Office apartment</th>\n",
       "      <th>NAME_HOUSING_TYPE_Rented apartment</th>\n",
       "      <th>NAME_HOUSING_TYPE_With parents</th>\n",
       "    </tr>\n",
       "  </thead>\n",
       "  <tbody>\n",
       "    <tr>\n",
       "      <th>5126</th>\n",
       "      <td>0</td>\n",
       "      <td>1.0</td>\n",
       "      <td>0</td>\n",
       "      <td>1</td>\n",
       "      <td>0</td>\n",
       "      <td>0</td>\n",
       "      <td>0</td>\n",
       "      <td>0</td>\n",
       "      <td>0</td>\n",
       "      <td>0</td>\n",
       "      <td>...</td>\n",
       "      <td>0</td>\n",
       "      <td>0</td>\n",
       "      <td>0</td>\n",
       "      <td>1</td>\n",
       "      <td>0</td>\n",
       "      <td>1</td>\n",
       "      <td>0</td>\n",
       "      <td>0</td>\n",
       "      <td>0</td>\n",
       "      <td>0</td>\n",
       "    </tr>\n",
       "  </tbody>\n",
       "</table>\n",
       "<p>1 rows × 43 columns</p>\n",
       "</div>"
      ],
      "text/plain": [
       "      CNT_CHILDREN  CNT_FAM_MEMBERS  FLAG_EMAIL  FLAG_MOBIL  FLAG_PHONE  \\\n",
       "5126             0              1.0           0           1           0   \n",
       "\n",
       "      FLAG_WORK_PHONE  OCCUPATION_TYPE_Cleaning staff  \\\n",
       "5126                0                               0   \n",
       "\n",
       "      OCCUPATION_TYPE_Cooking staff  OCCUPATION_TYPE_Core staff  \\\n",
       "5126                              0                           0   \n",
       "\n",
       "      OCCUPATION_TYPE_Drivers  ...  \\\n",
       "5126                        0  ...   \n",
       "\n",
       "      NAME_EDUCATION_TYPE_Secondary / secondary special  \\\n",
       "5126                                                  0   \n",
       "\n",
       "      NAME_FAMILY_STATUS_Married  NAME_FAMILY_STATUS_Separated  \\\n",
       "5126                           0                             0   \n",
       "\n",
       "      NAME_FAMILY_STATUS_Single / not married  NAME_FAMILY_STATUS_Widow  \\\n",
       "5126                                        1                         0   \n",
       "\n",
       "      NAME_HOUSING_TYPE_House / apartment  \\\n",
       "5126                                    1   \n",
       "\n",
       "      NAME_HOUSING_TYPE_Municipal apartment  \\\n",
       "5126                                      0   \n",
       "\n",
       "      NAME_HOUSING_TYPE_Office apartment  NAME_HOUSING_TYPE_Rented apartment  \\\n",
       "5126                                   0                                   0   \n",
       "\n",
       "      NAME_HOUSING_TYPE_With parents  \n",
       "5126                               0  \n",
       "\n",
       "[1 rows x 43 columns]"
      ]
     },
     "execution_count": 151,
     "metadata": {},
     "output_type": "execute_result"
    }
   ],
   "source": [
    "X_test_cat.head(1)"
   ]
  },
  {
   "cell_type": "code",
   "execution_count": 152,
   "metadata": {
    "id": "zBLwByQg6lV7"
   },
   "outputs": [],
   "source": [
    "# X_train_dummied"
   ]
  },
  {
   "cell_type": "code",
   "execution_count": 153,
   "metadata": {
    "id": "-E4KlmNJ6lV7"
   },
   "outputs": [],
   "source": [
    "# X_train_dummied"
   ]
  },
  {
   "cell_type": "code",
   "execution_count": 154,
   "metadata": {
    "id": "pQQm3esq6lV7"
   },
   "outputs": [],
   "source": [
    "# cols_to_remove = ['DAYS_BIRTH', 'DAYS_EMPLOYED']"
   ]
  },
  {
   "cell_type": "code",
   "execution_count": 155,
   "metadata": {
    "id": "dr7uUPgC6lV8"
   },
   "outputs": [],
   "source": [
    "X_train_dummied = pd.concat([X_train[continuous_vars], X_train_cat], axis=1)\n",
    "# X_train_dummied = X_train_dummied.drop(cols_to_remove, axis = 1)\n",
    "X_test_dummied = pd.concat([X_test[continuous_vars], X_test_cat], axis=1)\n",
    "# X_test_dummied = X_test_dummied.drop(cols_to_remove, axis = 1)"
   ]
  },
  {
   "cell_type": "code",
   "execution_count": 156,
   "metadata": {
    "id": "E_KImgL-6lV8"
   },
   "outputs": [],
   "source": [
    "scaler = StandardScaler()\n",
    "X_train_scaled = scaler.fit_transform(X_train_dummied)\n",
    "y_train_np = np.array(y_train)\n",
    "X_test_scaled = scaler.fit_transform(X_test_dummied)\n",
    "y_test_np = np.array(y_test)"
   ]
  },
  {
   "cell_type": "code",
   "execution_count": 157,
   "metadata": {
    "id": "0NFgM_2l6lV8"
   },
   "outputs": [],
   "source": [
    "weight = np.ones(shape=(len(y_train_np),1))\n",
    "weight[y_train_np == 0] = (sum(y_train_np) / len(y_train_np))[0]"
   ]
  },
  {
   "cell_type": "code",
   "execution_count": 158,
   "metadata": {
    "colab": {
     "base_uri": "https://localhost:8080/"
    },
    "id": "7VEI-ZKJ6lV8",
    "outputId": "f4406227-62b4-4608-f5da-6717eca18f02"
   },
   "outputs": [
    {
     "data": {
      "text/plain": [
       "array([[0.11771621],\n",
       "       [0.11771621],\n",
       "       [0.11771621],\n",
       "       ...,\n",
       "       [0.11771621],\n",
       "       [0.11771621],\n",
       "       [1.        ]])"
      ]
     },
     "execution_count": 158,
     "metadata": {},
     "output_type": "execute_result"
    }
   ],
   "source": [
    "weight"
   ]
  },
  {
   "cell_type": "code",
   "execution_count": 159,
   "metadata": {
    "colab": {
     "base_uri": "https://localhost:8080/"
    },
    "id": "OMsZzxqd6lV8",
    "outputId": "6b511bce-1a3a-4086-fc74-499ca1997a79"
   },
   "outputs": [
    {
     "data": {
      "text/plain": [
       "array([[ 1.91489568,  1.1980653 , -0.43292438, ..., -0.08451876,\n",
       "        -0.12667103, -0.22378155],\n",
       "       [ 0.37247479,  1.12191788, -0.43352032, ..., -0.08451876,\n",
       "        -0.12667103, -0.22378155],\n",
       "       [-0.28856274,  0.91917539, -0.4311511 , ..., -0.08451876,\n",
       "        -0.12667103, -0.22378155],\n",
       "       ...,\n",
       "       [-0.72925442,  0.89442748, -0.44476323, ..., -0.08451876,\n",
       "        -0.12667103, -0.22378155],\n",
       "       [ 0.81316647,  0.22052286, -0.44658012, ..., -0.08451876,\n",
       "        -0.12667103, -0.22378155],\n",
       "       [-0.50890858,  0.42088574, -0.46249606, ..., -0.08451876,\n",
       "        -0.12667103, -0.22378155]])"
      ]
     },
     "execution_count": 159,
     "metadata": {},
     "output_type": "execute_result"
    }
   ],
   "source": [
    "X_train_scaled"
   ]
  },
  {
   "cell_type": "code",
   "execution_count": 160,
   "metadata": {
    "colab": {
     "base_uri": "https://localhost:8080/"
    },
    "id": "hDM-s2LI6lV9",
    "outputId": "953b8705-79c5-4674-d041-6efec93124ad"
   },
   "outputs": [
    {
     "data": {
      "text/plain": [
       "(25519, 46)"
      ]
     },
     "execution_count": 160,
     "metadata": {},
     "output_type": "execute_result"
    }
   ],
   "source": [
    "X_train_scaled.shape"
   ]
  },
  {
   "cell_type": "markdown",
   "metadata": {
    "id": "CYuRRY-l6lV9"
   },
   "source": [
    "## XGB"
   ]
  },
  {
   "cell_type": "code",
   "execution_count": 161,
   "metadata": {
    "id": "n6aXbSOX6lV9"
   },
   "outputs": [],
   "source": [
    "# needs tuning"
   ]
  },
  {
   "cell_type": "code",
   "execution_count": 67,
   "metadata": {
    "id": "AaeasweY6lV9"
   },
   "outputs": [],
   "source": [
    "import xgboost as xgb\n",
    "from xgboost import XGBClassifier"
   ]
  },
  {
   "cell_type": "code",
   "execution_count": 68,
   "metadata": {
    "id": "Jt75_VOm6lV9"
   },
   "outputs": [],
   "source": [
    "from sklearn.datasets import make_classification\n",
    "from sklearn.model_selection import cross_val_score\n",
    "from sklearn.model_selection import RepeatedStratifiedKFold"
   ]
  },
  {
   "cell_type": "code",
   "execution_count": 69,
   "metadata": {
    "colab": {
     "base_uri": "https://localhost:8080/"
    },
    "id": "qdHdmAP86lV9",
    "outputId": "3da928b3-4a63-4e2a-e985-f21df7b97dfa"
   },
   "outputs": [
    {
     "data": {
      "text/plain": [
       "array([[0.11771621],\n",
       "       [0.11771621],\n",
       "       [0.11771621],\n",
       "       ...,\n",
       "       [0.11771621],\n",
       "       [1.        ],\n",
       "       [0.11771621]])"
      ]
     },
     "execution_count": 69,
     "metadata": {},
     "output_type": "execute_result"
    }
   ],
   "source": [
    "weight"
   ]
  },
  {
   "cell_type": "code",
   "execution_count": 70,
   "metadata": {
    "colab": {
     "base_uri": "https://localhost:8080/"
    },
    "id": "Edi79Iq96lV-",
    "outputId": "f42c2833-b5e6-497f-bd4c-18847560449d"
   },
   "outputs": [
    {
     "data": {
      "text/plain": [
       "8.495006657789613"
      ]
     },
     "execution_count": 70,
     "metadata": {},
     "output_type": "execute_result"
    }
   ],
   "source": [
    "1/weight[0][0]"
   ]
  },
  {
   "cell_type": "code",
   "execution_count": 71,
   "metadata": {
    "id": "XcGHWFfu6lV-"
   },
   "outputs": [],
   "source": [
    "# # define model\n",
    "# model = XGBClassifier(scale_pos_weight=1/weight[0][0])\n",
    "# # define evaluation procedure\n",
    "# cv = RepeatedStratifiedKFold(n_splits=10, n_repeats=3, random_state=1)\n",
    "# # evaluate model\n",
    "# scores = cross_val_score(model, X_train_scaled, y_train, scoring='roc_auc', cv=cv, n_jobs=-1)\n",
    "# # summarize performance\n",
    "# print('Mean ROC AUC: %.5f' % np.mean(scores))"
   ]
  },
  {
   "cell_type": "code",
   "execution_count": 72,
   "metadata": {
    "id": "pkW-e3ZE6lV-"
   },
   "outputs": [],
   "source": [
    "dtrain = xgb.DMatrix(X_train_scaled, y_train)\n",
    "dtest = xgb.DMatrix(X_test_scaled, y_test)"
   ]
  },
  {
   "cell_type": "code",
   "execution_count": 73,
   "metadata": {
    "id": "z98DeCau6lV-"
   },
   "outputs": [],
   "source": [
    "param = {\"max_depth\": 20, \"eta\": 0.003, \"objective\": \"binary:logistic\"}\n",
    "# param = {'colsample_bytree', 0.33253449577547334), ('learning_rate', 0.979114621842098), \n",
    "#          ('max_depth', 11), ('n_estimators', 3017), ('reg_alpha', 26.252425604613208), \n",
    "#          ('reg_lambda', 16.27824954246273), ('subsample', 0.7954522611695781)"
   ]
  },
  {
   "cell_type": "code",
   "execution_count": 74,
   "metadata": {
    "id": "QbP2Ke3_6lV-"
   },
   "outputs": [],
   "source": [
    "watchlist = [(dtest, \"eval\"), (dtrain, \"train\")]"
   ]
  },
  {
   "cell_type": "code",
   "execution_count": 75,
   "metadata": {
    "id": "SpW0U1U96lV-"
   },
   "outputs": [],
   "source": [
    "xgb_cls = xgb.XGBClassifier(scale_pos_weight=weight)"
   ]
  },
  {
   "cell_type": "code",
   "execution_count": 76,
   "metadata": {
    "colab": {
     "base_uri": "https://localhost:8080/"
    },
    "id": "sd08w6M76lV-",
    "outputId": "10ecf60f-97f6-49ee-aba8-caf29907dc67"
   },
   "outputs": [
    {
     "name": "stdout",
     "output_type": "stream",
     "text": [
      "[0]\teval-error:0.13668\ttrain-error:0.10102\n",
      "[1]\teval-error:0.13650\ttrain-error:0.10110\n",
      "[2]\teval-error:0.13750\ttrain-error:0.10138\n",
      "[3]\teval-error:0.13778\ttrain-error:0.10157\n",
      "[4]\teval-error:0.13796\ttrain-error:0.10165\n",
      "[5]\teval-error:0.13833\ttrain-error:0.10189\n",
      "[6]\teval-error:0.13814\ttrain-error:0.10212\n",
      "[7]\teval-error:0.13805\ttrain-error:0.10189\n",
      "[8]\teval-error:0.13823\ttrain-error:0.10185\n",
      "[9]\teval-error:0.13814\ttrain-error:0.10185\n"
     ]
    }
   ],
   "source": [
    "num_round = 10\n",
    "bst = xgb.train(param, dtrain, num_boost_round=num_round, evals=watchlist)"
   ]
  },
  {
   "cell_type": "code",
   "execution_count": 77,
   "metadata": {
    "id": "dZtpkzC-6lV_"
   },
   "outputs": [],
   "source": [
    "# run prediction\n",
    "preds = bst.predict(dtest)\n",
    "labels = dtest.get_label()"
   ]
  },
  {
   "cell_type": "code",
   "execution_count": 78,
   "metadata": {
    "id": "2aour2fZ6lV_"
   },
   "outputs": [],
   "source": [
    "preds[preds>=0.5] = 1\n",
    "preds[preds<0.5] = 0\n",
    "y_pred = preds"
   ]
  },
  {
   "cell_type": "code",
   "execution_count": 79,
   "metadata": {
    "colab": {
     "base_uri": "https://localhost:8080/"
    },
    "id": "N1qLYqKv6lV_",
    "outputId": "1fac8a64-e5c6-4a6a-fa76-bcd8d36cad83"
   },
   "outputs": [
    {
     "data": {
      "text/plain": [
       "array([[9078,  573],\n",
       "       [1092,  195]])"
      ]
     },
     "execution_count": 79,
     "metadata": {},
     "output_type": "execute_result"
    }
   ],
   "source": [
    "confusion_matrix(y_test, y_pred)"
   ]
  },
  {
   "cell_type": "code",
   "execution_count": 80,
   "metadata": {
    "colab": {
     "base_uri": "https://localhost:8080/"
    },
    "id": "ZybPsAWS6lV_",
    "outputId": "7d6038a1-1726-479c-9958-4f3a486ffdd6"
   },
   "outputs": [
    {
     "data": {
      "text/plain": [
       "0.8477783872737247"
      ]
     },
     "execution_count": 80,
     "metadata": {},
     "output_type": "execute_result"
    }
   ],
   "source": [
    "metrics.accuracy_score(y_test, y_pred)"
   ]
  },
  {
   "cell_type": "code",
   "execution_count": 81,
   "metadata": {
    "colab": {
     "base_uri": "https://localhost:8080/"
    },
    "id": "YGq5Y3FS6lV_",
    "outputId": "6ef00943-d1e5-4034-81dc-06302fa05d39"
   },
   "outputs": [
    {
     "data": {
      "text/plain": [
       "0.25390625"
      ]
     },
     "execution_count": 81,
     "metadata": {},
     "output_type": "execute_result"
    }
   ],
   "source": [
    "metrics.precision_score(y_test, y_pred)"
   ]
  },
  {
   "cell_type": "code",
   "execution_count": 82,
   "metadata": {
    "colab": {
     "base_uri": "https://localhost:8080/"
    },
    "id": "tTJRaJMQ6lV_",
    "outputId": "a52e63a6-f954-4532-9a20-6e6f7af59803"
   },
   "outputs": [
    {
     "data": {
      "text/plain": [
       "0.15151515151515152"
      ]
     },
     "execution_count": 82,
     "metadata": {},
     "output_type": "execute_result"
    }
   ],
   "source": [
    "metrics.recall_score(y_test, y_pred)"
   ]
  },
  {
   "cell_type": "code",
   "execution_count": 83,
   "metadata": {
    "colab": {
     "base_uri": "https://localhost:8080/",
     "height": 312
    },
    "id": "auf_jUpd6lWA",
    "outputId": "2274a47c-54dc-48a5-bb60-ccb654389ee8"
   },
   "outputs": [
    {
     "data": {
      "text/plain": [
       "<matplotlib.axes._subplots.AxesSubplot at 0x7f8a8d1f59e8>"
      ]
     },
     "execution_count": 83,
     "metadata": {},
     "output_type": "execute_result"
    },
    {
     "data": {
      "image/png": "[encoded data removed]",
      "text/plain": [
       "<Figure size 432x288 with 1 Axes>"
      ]
     },
     "metadata": {
      "needs_background": "light"
     },
     "output_type": "display_data"
    }
   ],
   "source": [
    "xgb.plot_importance(bst)"
   ]
  },
  {
   "cell_type": "code",
   "execution_count": 84,
   "metadata": {
    "id": "tW01Z6Bp6lWA"
   },
   "outputs": [],
   "source": [
    "# xgb.plot_tree(bst, num_trees=2)"
   ]
  },
  {
   "cell_type": "markdown",
   "metadata": {
    "id": "GIE2RNpMv0lA"
   },
   "source": [
    "## XGB with random grid search"
   ]
  },
  {
   "cell_type": "code",
   "execution_count": 85,
   "metadata": {},
   "outputs": [],
   "source": [
    "# !wget https://files.pythonhosted.org/packages/f6/5c/1133b5b8f4f2fa740ff27abdd35b8e79ce6e1f8d6480a07e9bce1cdafea2/xgboost-1.2.0-py3-none-manylinux2010_x86_64.whl\n",
    "# !conda \n",
    "# !pip install xgboost-1.2.0-py3-none-manylinux2010_x86_64.whl"
   ]
  },
  {
   "cell_type": "code",
   "execution_count": 86,
   "metadata": {
    "id": "qG3Ya4UYv5Iu"
   },
   "outputs": [],
   "source": [
    "import xgboost as xgb\n",
    "from xgboost import XGBClassifier\n",
    "from sklearn import metrics   \n",
    "from sklearn.model_selection import GridSearchCV\n",
    "from sklearn.model_selection import *\n",
    "import seaborn as sns\n",
    "from sklearn.metrics import accuracy_score, precision_score, recall_score, f1_score, roc_auc_score, precision_recall_curve, plot_precision_recall_curve, PrecisionRecallDisplay"
   ]
  },
  {
   "cell_type": "code",
   "execution_count": 87,
   "metadata": {
    "id": "u-uD0GmFxnDZ"
   },
   "outputs": [],
   "source": [
    "X_y_train = pd.concat([X_train_dummied, y_train], axis=1)"
   ]
  },
  {
   "cell_type": "code",
   "execution_count": 88,
   "metadata": {
    "id": "uVdJxiEHwRf1"
   },
   "outputs": [],
   "source": [
    "def modelfit(alg, dtrain, predictors, response_var='label', useTrainCV=True, cv_folds=5, early_stopping_rounds=100):\n",
    "    \n",
    "    if useTrainCV:\n",
    "        xgb_param = alg.get_xgb_params()\n",
    "        xgtrain = xgb.DMatrix(dtrain[predictors].values, label=dtrain[response_var].values)\n",
    "        cvresult = xgb.cv(xgb_param, xgtrain, num_boost_round=alg.get_params()['n_estimators'], nfold=cv_folds,\n",
    "            metrics='auc', early_stopping_rounds=early_stopping_rounds)\n",
    "        alg.set_params(n_estimators=cvresult.shape[0])\n",
    "    \n",
    "    #Fit the algorithm on the data\n",
    "    alg.fit(dtrain[predictors], dtrain[response_var], eval_metric='auc')\n",
    "        \n",
    "    #Predict training set:\n",
    "    dtrain_predictions = alg.predict(dtrain[predictors])\n",
    "    dtrain_predprob = alg.predict_proba(dtrain[predictors])[:,1]\n",
    "        \n",
    "    #Print model report:\n",
    "    print (\"\\Report\")\n",
    "    print (\"AUC Score (Train): %f\" % metrics.roc_auc_score(dtrain[response_var], dtrain_predprob))\n",
    "    \n",
    "    print('Feature Importance Score')\n",
    "    xgb.plot_importance(alg)"
   ]
  },
  {
   "cell_type": "code",
   "execution_count": 89,
   "metadata": {
    "id": "lB8D3Sb7woVn"
   },
   "outputs": [],
   "source": [
    "X_train_scaled.dtype.names"
   ]
  },
  {
   "cell_type": "code",
   "execution_count": 90,
   "metadata": {
    "id": "dx7zrlnCwW80"
   },
   "outputs": [
    {
     "name": "stdout",
     "output_type": "stream",
     "text": [
      "\\Report\n",
      "AUC Score (Train): 0.801327\n",
      "Feature Importance Score\n"
     ]
    },
    {
     "data": {
      "image/png": "[encoded data removed]",
      "text/plain": [
       "<Figure size 432x288 with 1 Axes>"
      ]
     },
     "metadata": {
      "needs_background": "light"
     },
     "output_type": "display_data"
    }
   ],
   "source": [
    "xgb1 = XGBClassifier(learning_rate =0.1, n_estimators=100, max_depth=5, min_child_weight=1, \n",
    "                     gamma=0, subsample=0.8, colsample_bytree=0.8, objective= 'binary:logistic', \n",
    "                     nthread=4, scale_pos_weight=(1-weight[0][0]))\n",
    "# mean(cross_val_score(xgb1, X_train_scaled, y, cv=kfold, scoring='roc_auc', early_stopping_rounds=50))\n",
    "modelfit(xgb1, X_y_train, X_y_train.columns.tolist()[:-1], response_var='label')"
   ]
  },
  {
   "cell_type": "code",
   "execution_count": 91,
   "metadata": {
    "id": "cKm7VILv1rNI"
   },
   "outputs": [],
   "source": [
    "predicted_vals = xgb1.predict(X_test_dummied)"
   ]
  },
  {
   "cell_type": "code",
   "execution_count": 92,
   "metadata": {
    "id": "2y0mg-It4NQ_"
   },
   "outputs": [
    {
     "data": {
      "text/plain": [
       "0.009324009324009324"
      ]
     },
     "execution_count": 92,
     "metadata": {},
     "output_type": "execute_result"
    }
   ],
   "source": [
    "metrics.recall_score(y_test, predicted_vals)"
   ]
  },
  {
   "cell_type": "code",
   "execution_count": 93,
   "metadata": {
    "id": "a-KYLWfS4PJQ"
   },
   "outputs": [
    {
     "data": {
      "text/plain": [
       "array([[9650,    1],\n",
       "       [1275,   12]])"
      ]
     },
     "execution_count": 93,
     "metadata": {},
     "output_type": "execute_result"
    }
   ],
   "source": [
    "confusion_matrix(y_test, predicted_vals)"
   ]
  },
  {
   "cell_type": "code",
   "execution_count": 94,
   "metadata": {
    "id": "FVBfqQcn2o05"
   },
   "outputs": [],
   "source": [
    "predicted_probs = xgb1.predict_proba(X_test_dummied)"
   ]
  },
  {
   "cell_type": "code",
   "execution_count": 95,
   "metadata": {
    "id": "rIue7Pzz7lTq"
   },
   "outputs": [
    {
     "data": {
      "text/plain": [
       "array([0.16358891, 0.04558112, 0.08761359, ..., 0.06198641, 0.10246236,\n",
       "       0.33774823], dtype=float32)"
      ]
     },
     "execution_count": 95,
     "metadata": {},
     "output_type": "execute_result"
    }
   ],
   "source": [
    "predicted_probs[:,1]"
   ]
  },
  {
   "cell_type": "code",
   "execution_count": 98,
   "metadata": {},
   "outputs": [],
   "source": [
    "# plt.figure(figsize=(15,7))\n",
    "# plt.hist(predicted_probs[y==0], bins=50, label='Negatives')\n",
    "# plt.hist(predicted_probs[y==1], bins=50, label='Positives', alpha=0.7, color='r')\n",
    "# plt.xlabel('Probability of being Positive Class', fontsize=25)\n",
    "# plt.ylabel('Number of records in each bucket', fontsize=25)\n",
    "# plt.legend(fontsize=15)\n",
    "# plt.tick_params(axis='both', labelsize=25, pad=5)\n",
    "# plt.show() "
   ]
  },
  {
   "cell_type": "code",
   "execution_count": 96,
   "metadata": {
    "id": "oHT-kaU931Yh"
   },
   "outputs": [
    {
     "data": {
      "text/plain": [
       "array([[0.28500754, 0.71499246],\n",
       "       [0.46278572, 0.5372143 ],\n",
       "       [0.46278572, 0.5372143 ],\n",
       "       [0.35333282, 0.6466672 ],\n",
       "       [0.35333282, 0.6466672 ],\n",
       "       [0.46278572, 0.5372143 ],\n",
       "       [0.28500754, 0.71499246],\n",
       "       [0.28500754, 0.71499246],\n",
       "       [0.23910147, 0.76089853],\n",
       "       [0.46639007, 0.5336099 ],\n",
       "       [0.28500754, 0.71499246],\n",
       "       [0.35333282, 0.6466672 ],\n",
       "       [0.23910147, 0.76089853]], dtype=float32)"
      ]
     },
     "execution_count": 96,
     "metadata": {},
     "output_type": "execute_result"
    }
   ],
   "source": [
    "predicted_probs[predicted_probs[:,1] > 0.5]"
   ]
  },
  {
   "cell_type": "code",
   "execution_count": 99,
   "metadata": {
    "id": "MzxHoYp59T04"
   },
   "outputs": [
    {
     "data": {
      "text/plain": [
       "(10938,)"
      ]
     },
     "execution_count": 99,
     "metadata": {},
     "output_type": "execute_result"
    }
   ],
   "source": [
    "\n",
    "# predicted_probs[:,0].shape\n",
    "predicted_probs[:,1].shape"
   ]
  },
  {
   "cell_type": "code",
   "execution_count": null,
   "metadata": {
    "id": "ZryKltmr8wqH"
   },
   "outputs": [],
   "source": [
    "precision_, recall_, proba = precision_recall_curve(y_test, predicted_probs[:, -1])"
   ]
  },
  {
   "cell_type": "code",
   "execution_count": null,
   "metadata": {
    "id": "HcPduGiICp2A"
   },
   "outputs": [],
   "source": [
    "recall_"
   ]
  },
  {
   "cell_type": "code",
   "execution_count": null,
   "metadata": {
    "id": "E1T5UOdpAx_2"
   },
   "outputs": [],
   "source": [
    "# y_score = classifier.decision_function(X_test)\n",
    "\n",
    "display = PrecisionRecallDisplay.from_predictions(y_test, predicted_probs[:, 0])\n",
    "_ = display.ax_.set_title(\"2-class Precision-Recall curve\")"
   ]
  },
  {
   "cell_type": "code",
   "execution_count": null,
   "metadata": {
    "id": "V17dGQVWFtO_"
   },
   "outputs": [],
   "source": [
    "param_test1  = {\n",
    " 'max_depth': list(range(3,10,2)),\n",
    " 'min_child_weight': list(range(1,6,2)),\n",
    "  'gamma':[i/10.0 for i in range(0,5)],\n",
    "   'reg_alpha':[0, 1e-5, 1e-2, 0.1, 1, 100],\n",
    "    'subsample':[0.3,0.4,0.5],\n",
    "    'colsample_bytree' : [0.5,0.6,0.7]\n",
    "}\n",
    "gsearch1 = GridSearchCV(estimator = XGBClassifier(learning_rate =0.01, n_estimators=5000, max_depth=5,\n",
    "min_child_weight=1, gamma=0, subsample=0.8, colsample_bytree=0.8,\n",
    "objective= 'binary:logistic', nthread=4, scale_pos_weight=(1 - weight[0][0]), seed=27), #use gpu \n",
    "param_grid = param_test1, scoring='roc_auc',n_jobs=4, cv=5)\n",
    "\n",
    "gsearch1.fit(X_y_train[X_y_train.columns.tolist()[:-1]],X_y_train['label'])\n",
    "gsearch1.grid_scores_, gsearch1.best_params_, gsearch1.best_score_"
   ]
  },
  {
   "cell_type": "code",
   "execution_count": null,
   "metadata": {
    "colab": {
     "base_uri": "https://localhost:8080/",
     "height": 359
    },
    "id": "cqRAZ2qq9Em7",
    "outputId": "2c03cb9f-e8e7-45ef-9a9f-99e5d1a2f329"
   },
   "outputs": [
    {
     "name": "stderr",
     "output_type": "stream",
     "text": [
      "/usr/local/lib/python3.7/dist-packages/sklearn/utils/deprecation.py:87: FutureWarning: Function plot_precision_recall_curve is deprecated; Function `plot_precision_recall_curve` is deprecated in 1.0 and will be removed in 1.2. Use one of the class methods: PrecisionRecallDisplay.from_predictions or PrecisionRecallDisplay.from_estimator.\n",
      "  warnings.warn(msg, category=FutureWarning)\n"
     ]
    },
    {
     "ename": "TypeError",
     "evalue": "ignored",
     "output_type": "error",
     "traceback": [
      "\u001b[0;31m---------------------------------------------------------------------------\u001b[0m",
      "\u001b[0;31mTypeError\u001b[0m                                 Traceback (most recent call last)",
      "\u001b[0;32m<ipython-input-355-f9a226e08968>\u001b[0m in \u001b[0;36m<module>\u001b[0;34m()\u001b[0m\n\u001b[0;32m----> 1\u001b[0;31m \u001b[0mdisp\u001b[0m \u001b[0;34m=\u001b[0m \u001b[0mplot_precision_recall_curve\u001b[0m\u001b[0;34m(\u001b[0m\u001b[0mX_test\u001b[0m\u001b[0;34m,\u001b[0m \u001b[0my_test\u001b[0m\u001b[0;34m)\u001b[0m\u001b[0;34m\u001b[0m\u001b[0;34m\u001b[0m\u001b[0m\n\u001b[0m\u001b[1;32m      2\u001b[0m \u001b[0mdisp\u001b[0m\u001b[0;34m.\u001b[0m\u001b[0max_\u001b[0m\u001b[0;34m.\u001b[0m\u001b[0mset_title\u001b[0m\u001b[0;34m(\u001b[0m\u001b[0;34m'Precision-Recall curve'\u001b[0m\u001b[0;34m)\u001b[0m\u001b[0;34m\u001b[0m\u001b[0;34m\u001b[0m\u001b[0m\n",
      "\u001b[0;32m/usr/local/lib/python3.7/dist-packages/sklearn/utils/deprecation.py\u001b[0m in \u001b[0;36mwrapped\u001b[0;34m(*args, **kwargs)\u001b[0m\n\u001b[1;32m     86\u001b[0m         \u001b[0;32mdef\u001b[0m \u001b[0mwrapped\u001b[0m\u001b[0;34m(\u001b[0m\u001b[0;34m*\u001b[0m\u001b[0margs\u001b[0m\u001b[0;34m,\u001b[0m \u001b[0;34m**\u001b[0m\u001b[0mkwargs\u001b[0m\u001b[0;34m)\u001b[0m\u001b[0;34m:\u001b[0m\u001b[0;34m\u001b[0m\u001b[0;34m\u001b[0m\u001b[0m\n\u001b[1;32m     87\u001b[0m             \u001b[0mwarnings\u001b[0m\u001b[0;34m.\u001b[0m\u001b[0mwarn\u001b[0m\u001b[0;34m(\u001b[0m\u001b[0mmsg\u001b[0m\u001b[0;34m,\u001b[0m \u001b[0mcategory\u001b[0m\u001b[0;34m=\u001b[0m\u001b[0mFutureWarning\u001b[0m\u001b[0;34m)\u001b[0m\u001b[0;34m\u001b[0m\u001b[0;34m\u001b[0m\u001b[0m\n\u001b[0;32m---> 88\u001b[0;31m             \u001b[0;32mreturn\u001b[0m \u001b[0mfun\u001b[0m\u001b[0;34m(\u001b[0m\u001b[0;34m*\u001b[0m\u001b[0margs\u001b[0m\u001b[0;34m,\u001b[0m \u001b[0;34m**\u001b[0m\u001b[0mkwargs\u001b[0m\u001b[0;34m)\u001b[0m\u001b[0;34m\u001b[0m\u001b[0;34m\u001b[0m\u001b[0m\n\u001b[0m\u001b[1;32m     89\u001b[0m \u001b[0;34m\u001b[0m\u001b[0m\n\u001b[1;32m     90\u001b[0m         \u001b[0mwrapped\u001b[0m\u001b[0;34m.\u001b[0m\u001b[0m__doc__\u001b[0m \u001b[0;34m=\u001b[0m \u001b[0mself\u001b[0m\u001b[0;34m.\u001b[0m\u001b[0m_update_doc\u001b[0m\u001b[0;34m(\u001b[0m\u001b[0mwrapped\u001b[0m\u001b[0;34m.\u001b[0m\u001b[0m__doc__\u001b[0m\u001b[0;34m)\u001b[0m\u001b[0;34m\u001b[0m\u001b[0;34m\u001b[0m\u001b[0m\n",
      "\u001b[0;31mTypeError\u001b[0m: plot_precision_recall_curve() missing 1 required positional argument: 'y'"
     ]
    }
   ],
   "source": [
    "disp = plot_precision_recall_curve(X_test, y_test)\n",
    "disp.ax_.set_title('Precision-Recall curve')"
   ]
  },
  {
   "cell_type": "code",
   "execution_count": null,
   "metadata": {
    "colab": {
     "base_uri": "https://localhost:8080/",
     "height": 337
    },
    "id": "ymbXt4VU4RmA",
    "outputId": "6672bed2-4bcd-48c9-c01c-14546cd95f86"
   },
   "outputs": [
    {
     "name": "stderr",
     "output_type": "stream",
     "text": [
      "/usr/local/lib/python3.7/dist-packages/seaborn/distributions.py:2619: FutureWarning: `distplot` is a deprecated function and will be removed in a future version. Please adapt your code to use either `displot` (a figure-level function with similar flexibility) or `histplot` (an axes-level function for histograms).\n",
      "  warnings.warn(msg, FutureWarning)\n"
     ]
    },
    {
     "data": {
      "text/plain": [
       "<matplotlib.axes._subplots.AxesSubplot at 0x7fb457d66990>"
      ]
     },
     "execution_count": 339,
     "metadata": {},
     "output_type": "execute_result"
    },
    {
     "data": {
      "image/png": "[encoded data removed]",
      "text/plain": [
       "<Figure size 432x288 with 1 Axes>"
      ]
     },
     "metadata": {},
     "output_type": "display_data"
    }
   ],
   "source": [
    "sns.distplot(predicted_probs[:,1])"
   ]
  },
  {
   "cell_type": "code",
   "execution_count": null,
   "metadata": {
    "colab": {
     "base_uri": "https://localhost:8080/",
     "height": 316
    },
    "id": "6PTzxyYK3OgP",
    "outputId": "7ee52832-6d4a-4976-82e6-0ed0a302e23d"
   },
   "outputs": [
    {
     "data": {
      "text/plain": [
       "array([[<matplotlib.axes._subplots.AxesSubplot object at 0x7fb457f12b50>]],\n",
       "      dtype=object)"
      ]
     },
     "execution_count": 246,
     "metadata": {},
     "output_type": "execute_result"
    },
    {
     "data": {
      "image/png": "[encoded data removed]",
      "text/plain": [
       "<Figure size 432x288 with 1 Axes>"
      ]
     },
     "metadata": {},
     "output_type": "display_data"
    }
   ],
   "source": [
    "# predictions_hist = predicted_vals\n",
    "predictions_hist = pd.DataFrame({'prob':predicted_probs[:,1]})\n",
    "predictions_hist.hist()"
   ]
  },
  {
   "cell_type": "markdown",
   "metadata": {
    "id": "I-Vc6d4I6lWA"
   },
   "source": [
    "## bayesian optiomization with XGB"
   ]
  },
  {
   "cell_type": "code",
   "execution_count": null,
   "metadata": {
    "colab": {
     "base_uri": "https://localhost:8080/"
    },
    "id": "wZjJkcqa-Kyj",
    "outputId": "23e173cc-117d-4a68-be5d-6b3b9a790665"
   },
   "outputs": [
    {
     "name": "stdout",
     "output_type": "stream",
     "text": [
      "Looking in indexes: https://pypi.org/simple, https://us-python.pkg.dev/colab-wheels/public/simple/\n",
      "Collecting scikit-optimize\n",
      "  Downloading scikit_optimize-0.9.0-py2.py3-none-any.whl (100 kB)\n",
      "\u001b[K     |████████████████████████████████| 100 kB 3.6 MB/s \n",
      "\u001b[?25hRequirement already satisfied: scipy>=0.19.1 in /usr/local/lib/python3.7/dist-packages (from scikit-optimize) (1.7.3)\n",
      "Requirement already satisfied: numpy>=1.13.3 in /usr/local/lib/python3.7/dist-packages (from scikit-optimize) (1.21.6)\n",
      "Requirement already satisfied: scikit-learn>=0.20.0 in /usr/local/lib/python3.7/dist-packages (from scikit-optimize) (1.0.2)\n",
      "Requirement already satisfied: joblib>=0.11 in /usr/local/lib/python3.7/dist-packages (from scikit-optimize) (1.1.0)\n",
      "Collecting pyaml>=16.9\n",
      "  Downloading pyaml-21.10.1-py2.py3-none-any.whl (24 kB)\n",
      "Requirement already satisfied: PyYAML in /usr/local/lib/python3.7/dist-packages (from pyaml>=16.9->scikit-optimize) (3.13)\n",
      "Requirement already satisfied: threadpoolctl>=2.0.0 in /usr/local/lib/python3.7/dist-packages (from scikit-learn>=0.20.0->scikit-optimize) (3.1.0)\n",
      "Installing collected packages: pyaml, scikit-optimize\n",
      "Successfully installed pyaml-21.10.1 scikit-optimize-0.9.0\n"
     ]
    }
   ],
   "source": [
    "#  !pip install scikit-optimize"
   ]
  },
  {
   "cell_type": "code",
   "execution_count": null,
   "metadata": {
    "colab": {
     "base_uri": "https://localhost:8080/",
     "height": 488
    },
    "id": "eJkT7WYk7Zoi",
    "outputId": "78740d3a-329a-4de4-8822-473cab4ed1b3"
   },
   "outputs": [
    {
     "name": "stdout",
     "output_type": "stream",
     "text": [
      "--2022-07-20 14:09:35--  https://files.pythonhosted.org/packages/f6/5c/1133b5b8f4f2fa740ff27abdd35b8e79ce6e1f8d6480a07e9bce1cdafea2/xgboost-1.2.0-py3-none-manylinux2010_x86_64.whl\n",
      "Resolving files.pythonhosted.org (files.pythonhosted.org)... 151.101.1.63, 151.101.65.63, 151.101.129.63, ...\n",
      "Connecting to files.pythonhosted.org (files.pythonhosted.org)|151.101.1.63|:443... connected.\n",
      "HTTP request sent, awaiting response... 200 OK\n",
      "Length: 148924671 (142M) [application/octet-stream]\n",
      "Saving to: ‘xgboost-1.2.0-py3-none-manylinux2010_x86_64.whl’\n",
      "\n",
      "xgboost-1.2.0-py3-n 100%[===================>] 142.03M   166MB/s    in 0.9s    \n",
      "\n",
      "2022-07-20 14:09:36 (166 MB/s) - ‘xgboost-1.2.0-py3-none-manylinux2010_x86_64.whl’ saved [148924671/148924671]\n",
      "\n",
      "Looking in indexes: https://pypi.org/simple, https://us-python.pkg.dev/colab-wheels/public/simple/\n",
      "Processing ./xgboost-1.2.0-py3-none-manylinux2010_x86_64.whl\n",
      "Requirement already satisfied: scipy in /usr/local/lib/python3.7/dist-packages (from xgboost==1.2.0) (1.7.3)\n",
      "Requirement already satisfied: numpy in /usr/local/lib/python3.7/dist-packages (from xgboost==1.2.0) (1.21.6)\n",
      "Installing collected packages: xgboost\n",
      "  Attempting uninstall: xgboost\n",
      "    Found existing installation: xgboost 0.90\n",
      "    Uninstalling xgboost-0.90:\n",
      "      Successfully uninstalled xgboost-0.90\n",
      "Successfully installed xgboost-1.2.0\n"
     ]
    },
    {
     "data": {
      "application/vnd.colab-display-data+json": {
       "pip_warning": {
        "packages": [
         "xgboost"
        ]
       }
      }
     },
     "metadata": {},
     "output_type": "display_data"
    }
   ],
   "source": [
    "#  !wget https://files.pythonhosted.org/packages/f6/5c/1133b5b8f4f2fa740ff27abdd35b8e79ce6e1f8d6480a07e9bce1cdafea2/xgboost-1.2.0-py3-none-manylinux2010_x86_64.whl\n",
    "#  !pip install xgboost-1.2.0-py3-none-manylinux2010_x86_64.whl"
   ]
  },
  {
   "cell_type": "code",
   "execution_count": null,
   "metadata": {
    "id": "OUP-VVDY6lWA"
   },
   "outputs": [],
   "source": [
    "# Classifier/Regressor\n",
    "from xgboost import XGBClassifier, DMatrix\n",
    "\n",
    "# Model selection\n",
    "from sklearn.model_selection import KFold, StratifiedKFold\n",
    "\n",
    "# Metrics\n",
    "from sklearn.metrics import mean_squared_error, recall_score, accuracy_score\n",
    "from sklearn.metrics import make_scorer\n",
    "\n",
    "# Skopt functions\n",
    "from skopt import BayesSearchCV\n",
    "from skopt.callbacks import DeadlineStopper, DeltaYStopper\n",
    "from skopt.space import Real, Categorical, Integer\n",
    "\n",
    "# Data processing\n",
    "from sklearn.preprocessing import OrdinalEncoder\n",
    "from sklearn.decomposition import TruncatedSVD\n",
    "from sklearn.feature_extraction.text import TfidfVectorizer, CountVectorizer\n",
    "from functools import partial\n",
    "\n",
    "from time import time"
   ]
  },
  {
   "cell_type": "code",
   "execution_count": null,
   "metadata": {
    "id": "oVRnfe0S6lWA"
   },
   "outputs": [],
   "source": [
    "# Reporting util for different optimizers\n",
    "def report_perf(optimizer, X, y, title=\"model\", callbacks=None):\n",
    "    \"\"\"\n",
    "    A wrapper for measuring time and performances of different optmizers\n",
    "    \n",
    "    optimizer = a sklearn or a skopt optimizer\n",
    "    X = the training set \n",
    "    y = our target\n",
    "    title = a string label for the experiment\n",
    "    \"\"\"\n",
    "    start = time()\n",
    "    \n",
    "    if callbacks is not None:\n",
    "        optimizer.fit(X, y, callback=callbacks)\n",
    "    else:\n",
    "        optimizer.fit(X, y)\n",
    "        \n",
    "    d=pd.DataFrame(optimizer.cv_results_)\n",
    "    best_score = optimizer.best_score_\n",
    "    best_score_std = d.iloc[optimizer.best_index_].std_test_score\n",
    "    best_params = optimizer.best_params_\n",
    "    \n",
    "    print((title + \" took %.5f seconds,  candidates checked: %d, best CV score: %.9f \"\n",
    "           + u\"\\u00B1\"+\" %.9f\") % (time() - start, \n",
    "                                   len(optimizer.cv_results_['params']),\n",
    "                                   best_score,\n",
    "                                   best_score_std))    \n",
    "    print('Best parameters:')\n",
    "    print(best_params)\n",
    "    print()\n",
    "    return best_params"
   ]
  },
  {
   "cell_type": "code",
   "execution_count": null,
   "metadata": {
    "id": "EaNargcw6lWA"
   },
   "outputs": [],
   "source": [
    "# Setting the scoring function\n",
    "scoring = make_scorer(partial(accuracy_score), \n",
    "                      greater_is_better=True)"
   ]
  },
  {
   "cell_type": "code",
   "execution_count": null,
   "metadata": {
    "id": "4ivpwvZK6lWB"
   },
   "outputs": [],
   "source": [
    "# Setting the validation strategy\n",
    "skf = StratifiedKFold(n_splits=7,\n",
    "                      shuffle=True, \n",
    "                      random_state=0)\n",
    "\n",
    "cv_strategy = list(skf.split(X_train_scaled, y_train.ravel()))"
   ]
  },
  {
   "cell_type": "code",
   "execution_count": null,
   "metadata": {
    "id": "X9wb3KQ26lWB"
   },
   "outputs": [],
   "source": [
    "# Setting the basic regressor\n",
    "cls = XGBClassifier(random_state=0, booster='gbtree', objective='binary:logistic')"
   ]
  },
  {
   "cell_type": "code",
   "execution_count": null,
   "metadata": {
    "id": "Inw1BYdd6lWB"
   },
   "outputs": [],
   "source": [
    "# Setting the search space\n",
    "search_spaces = {'learning_rate': Real(0.01, 1.0, 'uniform'),\n",
    "                 'max_depth': Integer(2, 12),\n",
    "                 'subsample': Real(0.1, 1.0, 'uniform'),\n",
    "                 'colsample_bytree': Real(0.1, 1.0, 'uniform'), # subsample ratio of columns by tree\n",
    "                 'reg_lambda': Real(1e-9, 100., 'uniform'), # L2 regularization\n",
    "                 'reg_alpha': Real(1e-9, 100., 'uniform'), # L1 regularization\n",
    "                 'n_estimators': Integer(50, 5000)\n",
    "   }"
   ]
  },
  {
   "cell_type": "code",
   "execution_count": null,
   "metadata": {
    "id": "kZ7R4Ay96lWB"
   },
   "outputs": [],
   "source": [
    "# Wrapping everything up into the Bayesian optimizer\n",
    "opt = BayesSearchCV(estimator=cls,                                    \n",
    "                    search_spaces=search_spaces,                      \n",
    "                    scoring=scoring,                                  \n",
    "                    cv=cv_strategy,                                           \n",
    "                    n_iter=50,                                       # max number of trials\n",
    "                    n_points=1,                                       # number of hyperparameter sets evaluated at the same time\n",
    "                    n_jobs=1,                                         # number of jobs\n",
    "                    return_train_score=True,                         \n",
    "                    refit=False,                                      \n",
    "                    optimizer_kwargs={'base_estimator': 'GP'},        # optmizer parameters: we use Gaussian Process (GP)\n",
    "                    random_state=0)  "
   ]
  },
  {
   "cell_type": "code",
   "execution_count": null,
   "metadata": {
    "colab": {
     "base_uri": "https://localhost:8080/"
    },
    "id": "42yXB6hw6lWB",
    "outputId": "641ebd67-5599-4e9f-90ad-d43b206cdbe3"
   },
   "outputs": [
    {
     "name": "stdout",
     "output_type": "stream",
     "text": [
      "XGBoost_classification took 1265.88896 seconds,  candidates checked: 5, best CV score: 0.883655243 ± 0.001245829\n",
      "Best parameters:\n",
      "OrderedDict([('colsample_bytree', 0.33253449577547334), ('learning_rate', 0.979114621842098), ('max_depth', 11), ('n_estimators', 3017), ('reg_alpha', 26.252425604613208), ('reg_lambda', 16.27824954246273), ('subsample', 0.7954522611695781)])\n",
      "\n"
     ]
    }
   ],
   "source": [
    "# Running the optimizer\n",
    "overdone_control = DeltaYStopper(delta=0.1)                    # We stop if the gain of the optimization becomes too small\n",
    "time_limit_control = DeadlineStopper(total_time=60*60*4)          # We impose a time limit (7 hours)\n",
    "\n",
    "best_params = report_perf(opt, X_train_scaled, y_train.ravel(),'XGBoost_classification', \n",
    "                          callbacks=[overdone_control, time_limit_control])\n",
    "\n",
    "with open('/content/drive/MyDrive/best_params.txt', 'w') as f:\n",
    "  f.write(str(best_params))"
   ]
  },
  {
   "cell_type": "code",
   "execution_count": null,
   "metadata": {
    "colab": {
     "base_uri": "https://localhost:8080/"
    },
    "id": "VxmkTDESG-QK",
    "outputId": "fd5eb1cf-4796-4de6-b91c-1acdad98b3d1"
   },
   "outputs": [
    {
     "name": "stdout",
     "output_type": "stream",
     "text": [
      "Fold 0 accuracy_score: 0.88245\n",
      "Fold 1 accuracy_score: 0.88245\n",
      "Fold 2 accuracy_score: 0.88205\n",
      "Fold 3 accuracy_score: 0.88205\n",
      "Fold 4 accuracy_score: 0.88284\n",
      "Fold 5 accuracy_score: 0.88245\n",
      "Fold 6 accuracy_score: 0.88284\n",
      "Fold 7 accuracy_score: 0.88245\n",
      "Fold 8 accuracy_score: 0.88284\n",
      "Fold 9 accuracy_score: 0.88240\n",
      "repeated CV RMSE: 0.88248 (std=0.00028)\n"
     ]
    }
   ],
   "source": [
    "# Cross-validation prediction\n",
    "folds = 10\n",
    "skf = StratifiedKFold(n_splits=folds,\n",
    "                      shuffle=True, \n",
    "                      random_state=0)\n",
    "\n",
    "predictions = np.zeros(len(X_test))\n",
    "accuracy_score_list = list()\n",
    "\n",
    "for k, (train_idx, val_idx) in enumerate(skf.split( X_train_scaled, y_train.ravel())):\n",
    "    cls.fit(X_train_scaled[train_idx], y_train[train_idx].ravel())\n",
    "    val_preds = cls.predict(X_train_scaled[val_idx])\n",
    "    score = accuracy_score(y_true=y_train[val_idx], y_pred=val_preds)\n",
    "    print(f\"Fold {k} accuracy_score: {score:0.5f}\")\n",
    "    accuracy_score_list.append(score)\n",
    "    predictions += cls.predict(X_test_scaled).ravel()\n",
    "    \n",
    "predictions /= folds\n",
    "print(f\"repeated CV RMSE: {np.mean(accuracy_score_list):0.5f} (std={np.std(accuracy_score_list):0.5f})\")"
   ]
  },
  {
   "cell_type": "code",
   "execution_count": null,
   "metadata": {
    "colab": {
     "base_uri": "https://localhost:8080/"
    },
    "id": "k3I9wWY5gbRg",
    "outputId": "2d0b5e03-7ce5-42d4-bd56-c14164c7ad00"
   },
   "outputs": [
    {
     "data": {
      "text/plain": [
       "array([[9651,    0],\n",
       "       [1287,    0]])"
      ]
     },
     "execution_count": 89,
     "metadata": {},
     "output_type": "execute_result"
    }
   ],
   "source": [
    "confusion_matrix(y_test.ravel(), predictions.astype(int))"
   ]
  },
  {
   "cell_type": "code",
   "execution_count": null,
   "metadata": {
    "colab": {
     "base_uri": "https://localhost:8080/"
    },
    "id": "wEu_ffStHdRV",
    "outputId": "78747d85-2d2c-4337-9762-2934117dfc61"
   },
   "outputs": [
    {
     "data": {
      "text/plain": [
       "1"
      ]
     },
     "execution_count": 100,
     "metadata": {},
     "output_type": "execute_result"
    }
   ],
   "source": [
    "cls.predict(X_test_scaled).ravel()"
   ]
  },
  {
   "cell_type": "code",
   "execution_count": null,
   "metadata": {
    "id": "X4VBtDjNIXSQ"
   },
   "outputs": [],
   "source": [
    "recall_score(y_test.ravel(), )"
   ]
  },
  {
   "cell_type": "markdown",
   "metadata": {
    "id": "eFu7oJdt6lWB"
   },
   "source": [
    "# vanilla NN"
   ]
  },
  {
   "cell_type": "code",
   "execution_count": null,
   "metadata": {
    "id": "tNjnSacL6lWC"
   },
   "outputs": [],
   "source": [
    "import tensorflow as tf"
   ]
  },
  {
   "cell_type": "code",
   "execution_count": null,
   "metadata": {
    "id": "dRPOP3996lWC"
   },
   "outputs": [],
   "source": [
    "from tensorflow import keras\n",
    "from tensorflow.keras import layers\n",
    "from tensorflow.keras.models import Sequential\n",
    "from tensorflow.keras.layers import Dense"
   ]
  },
  {
   "cell_type": "code",
   "execution_count": null,
   "metadata": {
    "id": "w9lCvWU_6lWC"
   },
   "outputs": [],
   "source": [
    "X_train_dummied.shape[1]"
   ]
  },
  {
   "cell_type": "code",
   "execution_count": null,
   "metadata": {
    "id": "cZ4kMjhu6lWC"
   },
   "outputs": [],
   "source": [
    "# define the keras model\n",
    "model = Sequential()\n",
    "model.add(Dense(12, input_shape=(X_train_scaled.shape[1],), activation='relu'))\n",
    "# model.add(Dense(8, activation='relu'))\n",
    "model.add(Dense(1, activation='sigmoid'))\n",
    "# compile the keras model\n",
    "model.compile(loss='binary_crossentropy', optimizer='adam', metrics=['accuracy'])\n",
    "# fit the keras model on the dataset\n",
    "model.fit(X_train_scaled, y_train, epochs=5, batch_size=10)\n"
   ]
  },
  {
   "cell_type": "code",
   "execution_count": null,
   "metadata": {
    "id": "oxj0Vf4u6lWC"
   },
   "outputs": [],
   "source": [
    "# evaluate the keras model\n",
    "_, accuracy = model.evaluate(X_test_scaled, y_test)\n",
    "accuracy"
   ]
  },
  {
   "cell_type": "code",
   "execution_count": null,
   "metadata": {
    "id": "JGG3KOnz6lWC"
   },
   "outputs": [],
   "source": [
    "preds = model.predict(X_test_scaled)"
   ]
  },
  {
   "cell_type": "code",
   "execution_count": null,
   "metadata": {
    "id": "2VvOft_v6lWD"
   },
   "outputs": [],
   "source": [
    "# "
   ]
  },
  {
   "cell_type": "code",
   "execution_count": null,
   "metadata": {
    "id": "apntvxOi6lWD"
   },
   "outputs": [],
   "source": [
    "preds[preds > 0]"
   ]
  },
  {
   "cell_type": "code",
   "execution_count": null,
   "metadata": {
    "id": "ReHPTB5n6lWD"
   },
   "outputs": [],
   "source": [
    "preds[preds>=0.11] = 1"
   ]
  },
  {
   "cell_type": "code",
   "execution_count": null,
   "metadata": {
    "id": "0AUnt1xg6lWD"
   },
   "outputs": [],
   "source": [
    "preds[preds<0.11] = 0"
   ]
  },
  {
   "cell_type": "code",
   "execution_count": null,
   "metadata": {
    "id": "g4tCVthM6lWD"
   },
   "outputs": [],
   "source": [
    "y_pred = preds"
   ]
  },
  {
   "cell_type": "code",
   "execution_count": null,
   "metadata": {
    "id": "0Euzc-fL6lWD"
   },
   "outputs": [],
   "source": [
    "confusion_matrix(y_test, y_pred)"
   ]
  },
  {
   "cell_type": "code",
   "execution_count": null,
   "metadata": {
    "id": "lhDir9FU6lWD"
   },
   "outputs": [],
   "source": [
    "metrics.recall_score(y_test, y_pred)"
   ]
  },
  {
   "cell_type": "markdown",
   "metadata": {
    "id": "XeuHOnGs6lWE"
   },
   "source": [
    "## Decision tree"
   ]
  },
  {
   "cell_type": "code",
   "execution_count": null,
   "metadata": {
    "id": "F1EoSa8S6lWE"
   },
   "outputs": [],
   "source": [
    "from sklearn.tree import DecisionTreeClassifier"
   ]
  },
  {
   "cell_type": "code",
   "execution_count": null,
   "metadata": {
    "id": "4W69dwmD6lWE"
   },
   "outputs": [],
   "source": [
    "DT_model = DecisionTreeClassifier()"
   ]
  },
  {
   "cell_type": "code",
   "execution_count": null,
   "metadata": {
    "colab": {
     "base_uri": "https://localhost:8080/"
    },
    "id": "rDfFvTNS6lWE",
    "outputId": "b4358a85-dd87-4c4d-aa32-7f2849935142"
   },
   "outputs": [
    {
     "data": {
      "text/plain": [
       "DecisionTreeClassifier()"
      ]
     },
     "execution_count": 92,
     "metadata": {},
     "output_type": "execute_result"
    }
   ],
   "source": [
    "DT_model.fit(X_train_scaled, y_train)"
   ]
  },
  {
   "cell_type": "code",
   "execution_count": null,
   "metadata": {
    "id": "gRAe28vi6lWE"
   },
   "outputs": [],
   "source": [
    "y_pred = DT_model.predict(X_test_scaled)"
   ]
  },
  {
   "cell_type": "code",
   "execution_count": null,
   "metadata": {
    "colab": {
     "base_uri": "https://localhost:8080/"
    },
    "id": "sAgpOOB76lWE",
    "outputId": "9ed75a05-cad0-47fd-86df-f162f96cc8e3"
   },
   "outputs": [
    {
     "data": {
      "text/plain": [
       "array([[8878,  773],\n",
       "       [1060,  227]])"
      ]
     },
     "execution_count": 94,
     "metadata": {},
     "output_type": "execute_result"
    }
   ],
   "source": [
    "confusion_matrix(y_test, y_pred)"
   ]
  },
  {
   "cell_type": "code",
   "execution_count": null,
   "metadata": {
    "colab": {
     "base_uri": "https://localhost:8080/"
    },
    "id": "rq4fqMiN6lWE",
    "outputId": "7a0085ba-ace5-4838-8768-e4303b94aa48"
   },
   "outputs": [
    {
     "data": {
      "text/plain": [
       "0.227"
      ]
     },
     "execution_count": 95,
     "metadata": {},
     "output_type": "execute_result"
    }
   ],
   "source": [
    "metrics.precision_score(y_test, y_pred)"
   ]
  },
  {
   "cell_type": "code",
   "execution_count": null,
   "metadata": {
    "colab": {
     "base_uri": "https://localhost:8080/"
    },
    "id": "ODZjwmST6lWF",
    "outputId": "180dcf7a-5d53-4920-89b6-a41382b1f2a0"
   },
   "outputs": [
    {
     "data": {
      "text/plain": [
       "0.17637917637917638"
      ]
     },
     "execution_count": 96,
     "metadata": {},
     "output_type": "execute_result"
    }
   ],
   "source": [
    "metrics.recall_score(y_test, y_pred)"
   ]
  },
  {
   "cell_type": "code",
   "execution_count": null,
   "metadata": {
    "colab": {
     "base_uri": "https://localhost:8080/"
    },
    "id": "FyPq5CzR6lWF",
    "outputId": "970da940-bb66-4a1d-93b5-3b0f6c54aa00"
   },
   "outputs": [
    {
     "data": {
      "text/plain": [
       "0.8324190894130554"
      ]
     },
     "execution_count": 97,
     "metadata": {},
     "output_type": "execute_result"
    }
   ],
   "source": [
    "metrics.accuracy_score(y_test, y_pred)"
   ]
  }
 ],
 "metadata": {
  "accelerator": "GPU",
  "colab": {
   "collapsed_sections": [
    "I-Vc6d4I6lWA",
    "eFu7oJdt6lWB",
    "XeuHOnGs6lWE"
   ],
   "name": "credit_card_approval.ipynb",
   "provenance": []
  },
  "gpuClass": "standard",
  "kernelspec": {
   "display_name": "Python 3",
   "language": "python",
   "name": "python3"
  },
  "language_info": {
   "codemirror_mode": {
    "name": "ipython",
    "version": 3
   },
   "file_extension": ".py",
   "mimetype": "text/x-python",
   "name": "python",
   "nbconvert_exporter": "python",
   "pygments_lexer": "ipython3",
   "version": "3.6.10"
  }
 },
 "nbformat": 4,
 "nbformat_minor": 1
}
